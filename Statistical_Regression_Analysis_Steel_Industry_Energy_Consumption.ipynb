{
 "cells": [
  {
   "cell_type": "code",
   "execution_count": 34,
   "id": "74ec7ba8",
   "metadata": {},
   "outputs": [],
   "source": [
    "# Importing the necessary modules\n",
    "\n",
    "import pandas as pd\n",
    "import numpy as np\n",
    "import seaborn as sns\n",
    "from pandas import read_csv, get_dummies, Series\n",
    "from sklearn.preprocessing import StandardScaler\n",
    "from sklearn.model_selection import train_test_split\n",
    "from imblearn.pipeline import Pipeline\n",
    "from sklearn.model_selection import GridSearchCV\n",
    "from sklearn.ensemble import RandomForestRegressor\n",
    "from sklearn.linear_model import SGDRegressor\n",
    "from sklearn.linear_model import LinearRegression\n",
    "from sklearn.svm import SVR\n",
    "from sklearn.model_selection import GridSearchCV, cross_val_score\n",
    "from sklearn.model_selection import StratifiedKFold, learning_curve\n",
    "from sklearn.linear_model import RidgeCV, LassoCV, ElasticNetCV\n",
    "import plotly.graph_objs as go\n",
    "import plotly.figure_factory as ff\n",
    "import matplotlib.pyplot as plt\n",
    "from sklearn.metrics import mean_squared_error, mean_absolute_error,r2_score\n",
    "# https://archive.ics.uci.edu/ml/datasets/Steel+Industry+Energy+Consumption+Dataset"
   ]
  },
  {
   "cell_type": "code",
   "execution_count": 141,
   "id": "78d7b1e4",
   "metadata": {},
   "outputs": [],
   "source": [
    "#suppress warnings\n",
    "import warnings\n",
    "warnings.filterwarnings(\"ignore\", category=FutureWarning)"
   ]
  },
  {
   "cell_type": "code",
   "execution_count": 2,
   "id": "1ef3a0c4",
   "metadata": {},
   "outputs": [],
   "source": [
    "#read in the dataset\n",
    "df = pd.read_csv(\"steel_industry_data.csv\")"
   ]
  },
  {
   "cell_type": "code",
   "execution_count": null,
   "id": "31aaef13",
   "metadata": {},
   "outputs": [],
   "source": [
    "pd.set_option('display.max_columns', None) # to make sure you can see all the columns in output window\n",
    "print(dataset.head())\n",
    "print(dataset.shape)\n",
    "print(dataset.info())\n",
    "print(dataset.describe())"
   ]
  },
  {
   "cell_type": "code",
   "execution_count": 6,
   "id": "416bf091",
   "metadata": {},
   "outputs": [],
   "source": [
    "# setting the date column as the dataframe index\n",
    "df['date']=pd.to_datetime(df[\"date\"],format = \"%d/%m/%Y %H:%M\")\n",
    "df.set_index(\"date\",inplace= True)"
   ]
  },
  {
   "cell_type": "code",
   "execution_count": 9,
   "id": "6480a960",
   "metadata": {},
   "outputs": [
    {
     "data": {
      "text/html": [
       "<div>\n",
       "<style scoped>\n",
       "    .dataframe tbody tr th:only-of-type {\n",
       "        vertical-align: middle;\n",
       "    }\n",
       "\n",
       "    .dataframe tbody tr th {\n",
       "        vertical-align: top;\n",
       "    }\n",
       "\n",
       "    .dataframe thead th {\n",
       "        text-align: right;\n",
       "    }\n",
       "</style>\n",
       "<table border=\"1\" class=\"dataframe\">\n",
       "  <thead>\n",
       "    <tr style=\"text-align: right;\">\n",
       "      <th></th>\n",
       "      <th>Usage_kWh</th>\n",
       "      <th>Lagging_Current_Reactive.Power_kVarh</th>\n",
       "      <th>Leading_Current_Reactive_Power_kVarh</th>\n",
       "      <th>CO2(tCO2)</th>\n",
       "      <th>Lagging_Current_Power_Factor</th>\n",
       "      <th>Leading_Current_Power_Factor</th>\n",
       "      <th>NSM</th>\n",
       "      <th>WeekStatus</th>\n",
       "      <th>Day_of_week</th>\n",
       "      <th>Load_Type</th>\n",
       "    </tr>\n",
       "    <tr>\n",
       "      <th>date</th>\n",
       "      <th></th>\n",
       "      <th></th>\n",
       "      <th></th>\n",
       "      <th></th>\n",
       "      <th></th>\n",
       "      <th></th>\n",
       "      <th></th>\n",
       "      <th></th>\n",
       "      <th></th>\n",
       "      <th></th>\n",
       "    </tr>\n",
       "  </thead>\n",
       "  <tbody>\n",
       "    <tr>\n",
       "      <th>2018-01-01 00:15:00</th>\n",
       "      <td>3.17</td>\n",
       "      <td>2.95</td>\n",
       "      <td>0.0</td>\n",
       "      <td>0.0</td>\n",
       "      <td>73.21</td>\n",
       "      <td>100.0</td>\n",
       "      <td>900</td>\n",
       "      <td>Weekday</td>\n",
       "      <td>Monday</td>\n",
       "      <td>Light_Load</td>\n",
       "    </tr>\n",
       "    <tr>\n",
       "      <th>2018-01-01 00:30:00</th>\n",
       "      <td>4.00</td>\n",
       "      <td>4.46</td>\n",
       "      <td>0.0</td>\n",
       "      <td>0.0</td>\n",
       "      <td>66.77</td>\n",
       "      <td>100.0</td>\n",
       "      <td>1800</td>\n",
       "      <td>Weekday</td>\n",
       "      <td>Monday</td>\n",
       "      <td>Light_Load</td>\n",
       "    </tr>\n",
       "    <tr>\n",
       "      <th>2018-01-01 00:45:00</th>\n",
       "      <td>3.24</td>\n",
       "      <td>3.28</td>\n",
       "      <td>0.0</td>\n",
       "      <td>0.0</td>\n",
       "      <td>70.28</td>\n",
       "      <td>100.0</td>\n",
       "      <td>2700</td>\n",
       "      <td>Weekday</td>\n",
       "      <td>Monday</td>\n",
       "      <td>Light_Load</td>\n",
       "    </tr>\n",
       "    <tr>\n",
       "      <th>2018-01-01 01:00:00</th>\n",
       "      <td>3.31</td>\n",
       "      <td>3.56</td>\n",
       "      <td>0.0</td>\n",
       "      <td>0.0</td>\n",
       "      <td>68.09</td>\n",
       "      <td>100.0</td>\n",
       "      <td>3600</td>\n",
       "      <td>Weekday</td>\n",
       "      <td>Monday</td>\n",
       "      <td>Light_Load</td>\n",
       "    </tr>\n",
       "    <tr>\n",
       "      <th>2018-01-01 01:15:00</th>\n",
       "      <td>3.82</td>\n",
       "      <td>4.50</td>\n",
       "      <td>0.0</td>\n",
       "      <td>0.0</td>\n",
       "      <td>64.72</td>\n",
       "      <td>100.0</td>\n",
       "      <td>4500</td>\n",
       "      <td>Weekday</td>\n",
       "      <td>Monday</td>\n",
       "      <td>Light_Load</td>\n",
       "    </tr>\n",
       "  </tbody>\n",
       "</table>\n",
       "</div>"
      ],
      "text/plain": [
       "                     Usage_kWh  Lagging_Current_Reactive.Power_kVarh  \\\n",
       "date                                                                   \n",
       "2018-01-01 00:15:00       3.17                                  2.95   \n",
       "2018-01-01 00:30:00       4.00                                  4.46   \n",
       "2018-01-01 00:45:00       3.24                                  3.28   \n",
       "2018-01-01 01:00:00       3.31                                  3.56   \n",
       "2018-01-01 01:15:00       3.82                                  4.50   \n",
       "\n",
       "                     Leading_Current_Reactive_Power_kVarh  CO2(tCO2)  \\\n",
       "date                                                                   \n",
       "2018-01-01 00:15:00                                   0.0        0.0   \n",
       "2018-01-01 00:30:00                                   0.0        0.0   \n",
       "2018-01-01 00:45:00                                   0.0        0.0   \n",
       "2018-01-01 01:00:00                                   0.0        0.0   \n",
       "2018-01-01 01:15:00                                   0.0        0.0   \n",
       "\n",
       "                     Lagging_Current_Power_Factor  \\\n",
       "date                                                \n",
       "2018-01-01 00:15:00                         73.21   \n",
       "2018-01-01 00:30:00                         66.77   \n",
       "2018-01-01 00:45:00                         70.28   \n",
       "2018-01-01 01:00:00                         68.09   \n",
       "2018-01-01 01:15:00                         64.72   \n",
       "\n",
       "                     Leading_Current_Power_Factor   NSM WeekStatus  \\\n",
       "date                                                                 \n",
       "2018-01-01 00:15:00                         100.0   900    Weekday   \n",
       "2018-01-01 00:30:00                         100.0  1800    Weekday   \n",
       "2018-01-01 00:45:00                         100.0  2700    Weekday   \n",
       "2018-01-01 01:00:00                         100.0  3600    Weekday   \n",
       "2018-01-01 01:15:00                         100.0  4500    Weekday   \n",
       "\n",
       "                    Day_of_week   Load_Type  \n",
       "date                                         \n",
       "2018-01-01 00:15:00      Monday  Light_Load  \n",
       "2018-01-01 00:30:00      Monday  Light_Load  \n",
       "2018-01-01 00:45:00      Monday  Light_Load  \n",
       "2018-01-01 01:00:00      Monday  Light_Load  \n",
       "2018-01-01 01:15:00      Monday  Light_Load  "
      ]
     },
     "execution_count": 9,
     "metadata": {},
     "output_type": "execute_result"
    }
   ],
   "source": [
    "#df.head()"
   ]
  },
  {
   "cell_type": "code",
   "execution_count": 32,
   "id": "359e9612",
   "metadata": {},
   "outputs": [
    {
     "name": "stdout",
     "output_type": "stream",
     "text": [
      "Usage          0\n",
      "Lag_RP         0\n",
      "Lead_RP        0\n",
      "CO2            0\n",
      "Lag_PF         0\n",
      "Lead_PF        0\n",
      "NSM            0\n",
      "WeekStatus     0\n",
      "Day_of_week    0\n",
      "Load_Type      0\n",
      "dtype: int64\n"
     ]
    }
   ],
   "source": [
    "# Data preprocessing, checking for null and NaNs\n",
    "print(df.isnull().sum())"
   ]
  },
  {
   "cell_type": "code",
   "execution_count": 33,
   "id": "6eed3797",
   "metadata": {},
   "outputs": [
    {
     "name": "stdout",
     "output_type": "stream",
     "text": [
      "Usage          0\n",
      "Lag_RP         0\n",
      "Lead_RP        0\n",
      "CO2            0\n",
      "Lag_PF         0\n",
      "Lead_PF        0\n",
      "NSM            0\n",
      "WeekStatus     0\n",
      "Day_of_week    0\n",
      "Load_Type      0\n",
      "dtype: int64\n"
     ]
    }
   ],
   "source": [
    "print(df.isna().sum()) #check for NaN"
   ]
  },
  {
   "cell_type": "code",
   "execution_count": 183,
   "id": "085531ac",
   "metadata": {},
   "outputs": [
    {
     "data": {
      "image/png": "[encoded data removed]",
      "text/plain": [
       "<Figure size 800x550 with 1 Axes>"
      ]
     },
     "metadata": {},
     "output_type": "display_data"
    }
   ],
   "source": [
    "df['Usage'].plot()\n",
    "plt.ylabel('Usage (kWh)')\n",
    "plt.tight_layout()\n",
    "#plt.savefig('usage.png', format='png')"
   ]
  },
  {
   "cell_type": "code",
   "execution_count": 14,
   "id": "9e8dc9b4",
   "metadata": {},
   "outputs": [
    {
     "data": {
      "text/plain": [
       "Index(['Usage_kWh', 'Lagging_Current_Reactive.Power_kVarh',\n",
       "       'Leading_Current_Reactive_Power_kVarh', 'CO2(tCO2)',\n",
       "       'Lagging_Current_Power_Factor', 'Leading_Current_Power_Factor', 'NSM',\n",
       "       'WeekStatus', 'Day_of_week', 'Load_Type'],\n",
       "      dtype='object')"
      ]
     },
     "execution_count": 14,
     "metadata": {},
     "output_type": "execute_result"
    }
   ],
   "source": [
    "print(df.columns) #checking column names"
   ]
  },
  {
   "cell_type": "code",
   "execution_count": 15,
   "id": "6e933325",
   "metadata": {},
   "outputs": [],
   "source": [
    "# Renaming column names to shorter abbreviations\n",
    "df = df.rename(columns = {'Usage_kWh': 'Usage', 'Lagging_Current_Reactive.Power_kVarh' : 'Lag_RP',\n",
    "       'Leading_Current_Reactive_Power_kVarh': 'Lead_RP', 'CO2(tCO2)': 'CO2',\n",
    "       'Lagging_Current_Power_Factor': 'Lag_PF', 'Leading_Current_Power_Factor':'Lead_PF'})"
   ]
  },
  {
   "cell_type": "code",
   "execution_count": 16,
   "id": "4b50d6b0",
   "metadata": {},
   "outputs": [
    {
     "name": "stdout",
     "output_type": "stream",
     "text": [
      "Index(['Usage', 'Lag_RP', 'Lead_RP', 'CO2', 'Lag_PF', 'Lead_PF', 'NSM',\n",
      "       'WeekStatus', 'Day_of_week', 'Load_Type'],\n",
      "      dtype='object')\n"
     ]
    }
   ],
   "source": [
    "print(df.columns)"
   ]
  },
  {
   "cell_type": "code",
   "execution_count": 19,
   "id": "f4753de0",
   "metadata": {},
   "outputs": [
    {
     "name": "stdout",
     "output_type": "stream",
     "text": [
      "            Usage    Lag_RP   Lead_RP       CO2    Lag_PF   Lead_PF       NSM\n",
      "Usage    1.000000  0.896150 -0.324922  0.988180  0.385960  0.353566  0.234610\n",
      "Lag_RP   0.896150  1.000000 -0.405142  0.886948  0.144534  0.407716  0.082662\n",
      "Lead_RP -0.324922 -0.405142  1.000000 -0.332777  0.526770 -0.944039  0.371605\n",
      "CO2      0.988180  0.886948 -0.332777  1.000000  0.379605  0.360019  0.231726\n",
      "Lag_PF   0.385960  0.144534  0.526770  0.379605  1.000000 -0.519967  0.565270\n",
      "Lead_PF  0.353566  0.407716 -0.944039  0.360019 -0.519967  1.000000 -0.360563\n",
      "NSM      0.234610  0.082662  0.371605  0.231726  0.565270 -0.360563  1.000000\n"
     ]
    }
   ],
   "source": [
    "#correlation of each variable\n",
    "print(df.corr())"
   ]
  },
  {
   "cell_type": "code",
   "execution_count": 167,
   "id": "412d33d3",
   "metadata": {},
   "outputs": [
    {
     "data": {
      "image/png": "[encoded data removed]",
      "text/plain": [
       "<Figure size 800x600 with 2 Axes>"
      ]
     },
     "metadata": {},
     "output_type": "display_data"
    }
   ],
   "source": [
    "#visualize the correlation using pearson correlation\n",
    "plt.figure(figsize = (8,6))\n",
    "sns.heatmap(df.corr(), annot = True, cmap = 'YlGnBu')\n",
    "plt.title(\"Pearson Correlation\", fontsize = 15, color = 'b', pad = 12, loc = 'center')\n",
    "#plt.savefig('feat_corr1.png')\n",
    "plt.show()"
   ]
  },
  {
   "cell_type": "code",
   "execution_count": 17,
   "id": "43af9364",
   "metadata": {},
   "outputs": [],
   "source": [
    "''' Creating a list of the categorical features '''\n",
    "obj_cols = []\n",
    "for i in df:\n",
    "     if df[i].dtypes == 'object':\n",
    "        obj_cols.append(i)"
   ]
  },
  {
   "cell_type": "code",
   "execution_count": 18,
   "id": "6003f266",
   "metadata": {},
   "outputs": [
    {
     "name": "stdout",
     "output_type": "stream",
     "text": [
      "WeekStatus : 2\n",
      "Day_of_week : 7\n",
      "Load_Type : 3\n"
     ]
    }
   ],
   "source": [
    "#printing the categorical features\n",
    "for k in obj_cols:\n",
    "    print(k, \":\", df[k].nunique())"
   ]
  },
  {
   "cell_type": "code",
   "execution_count": 21,
   "id": "b6362210",
   "metadata": {},
   "outputs": [
    {
     "data": {
      "text/html": [
       "<div>\n",
       "<style scoped>\n",
       "    .dataframe tbody tr th:only-of-type {\n",
       "        vertical-align: middle;\n",
       "    }\n",
       "\n",
       "    .dataframe tbody tr th {\n",
       "        vertical-align: top;\n",
       "    }\n",
       "\n",
       "    .dataframe thead th {\n",
       "        text-align: right;\n",
       "    }\n",
       "</style>\n",
       "<table border=\"1\" class=\"dataframe\">\n",
       "  <thead>\n",
       "    <tr style=\"text-align: right;\">\n",
       "      <th></th>\n",
       "      <th>Usage</th>\n",
       "      <th>Lag_RP</th>\n",
       "      <th>Lead_RP</th>\n",
       "      <th>CO2</th>\n",
       "      <th>Lag_PF</th>\n",
       "      <th>Lead_PF</th>\n",
       "      <th>NSM</th>\n",
       "      <th>WeekStatus_Weekday</th>\n",
       "      <th>WeekStatus_Weekend</th>\n",
       "      <th>Day_of_week_Friday</th>\n",
       "      <th>Day_of_week_Monday</th>\n",
       "      <th>Day_of_week_Saturday</th>\n",
       "      <th>Day_of_week_Sunday</th>\n",
       "      <th>Day_of_week_Thursday</th>\n",
       "      <th>Day_of_week_Tuesday</th>\n",
       "      <th>Day_of_week_Wednesday</th>\n",
       "      <th>Load_Type_Light_Load</th>\n",
       "      <th>Load_Type_Maximum_Load</th>\n",
       "      <th>Load_Type_Medium_Load</th>\n",
       "    </tr>\n",
       "    <tr>\n",
       "      <th>date</th>\n",
       "      <th></th>\n",
       "      <th></th>\n",
       "      <th></th>\n",
       "      <th></th>\n",
       "      <th></th>\n",
       "      <th></th>\n",
       "      <th></th>\n",
       "      <th></th>\n",
       "      <th></th>\n",
       "      <th></th>\n",
       "      <th></th>\n",
       "      <th></th>\n",
       "      <th></th>\n",
       "      <th></th>\n",
       "      <th></th>\n",
       "      <th></th>\n",
       "      <th></th>\n",
       "      <th></th>\n",
       "      <th></th>\n",
       "    </tr>\n",
       "  </thead>\n",
       "  <tbody>\n",
       "    <tr>\n",
       "      <th>2018-01-01 00:15:00</th>\n",
       "      <td>3.17</td>\n",
       "      <td>2.95</td>\n",
       "      <td>0.0</td>\n",
       "      <td>0.0</td>\n",
       "      <td>73.21</td>\n",
       "      <td>100.0</td>\n",
       "      <td>900</td>\n",
       "      <td>1</td>\n",
       "      <td>0</td>\n",
       "      <td>0</td>\n",
       "      <td>1</td>\n",
       "      <td>0</td>\n",
       "      <td>0</td>\n",
       "      <td>0</td>\n",
       "      <td>0</td>\n",
       "      <td>0</td>\n",
       "      <td>1</td>\n",
       "      <td>0</td>\n",
       "      <td>0</td>\n",
       "    </tr>\n",
       "    <tr>\n",
       "      <th>2018-01-01 00:30:00</th>\n",
       "      <td>4.00</td>\n",
       "      <td>4.46</td>\n",
       "      <td>0.0</td>\n",
       "      <td>0.0</td>\n",
       "      <td>66.77</td>\n",
       "      <td>100.0</td>\n",
       "      <td>1800</td>\n",
       "      <td>1</td>\n",
       "      <td>0</td>\n",
       "      <td>0</td>\n",
       "      <td>1</td>\n",
       "      <td>0</td>\n",
       "      <td>0</td>\n",
       "      <td>0</td>\n",
       "      <td>0</td>\n",
       "      <td>0</td>\n",
       "      <td>1</td>\n",
       "      <td>0</td>\n",
       "      <td>0</td>\n",
       "    </tr>\n",
       "    <tr>\n",
       "      <th>2018-01-01 00:45:00</th>\n",
       "      <td>3.24</td>\n",
       "      <td>3.28</td>\n",
       "      <td>0.0</td>\n",
       "      <td>0.0</td>\n",
       "      <td>70.28</td>\n",
       "      <td>100.0</td>\n",
       "      <td>2700</td>\n",
       "      <td>1</td>\n",
       "      <td>0</td>\n",
       "      <td>0</td>\n",
       "      <td>1</td>\n",
       "      <td>0</td>\n",
       "      <td>0</td>\n",
       "      <td>0</td>\n",
       "      <td>0</td>\n",
       "      <td>0</td>\n",
       "      <td>1</td>\n",
       "      <td>0</td>\n",
       "      <td>0</td>\n",
       "    </tr>\n",
       "    <tr>\n",
       "      <th>2018-01-01 01:00:00</th>\n",
       "      <td>3.31</td>\n",
       "      <td>3.56</td>\n",
       "      <td>0.0</td>\n",
       "      <td>0.0</td>\n",
       "      <td>68.09</td>\n",
       "      <td>100.0</td>\n",
       "      <td>3600</td>\n",
       "      <td>1</td>\n",
       "      <td>0</td>\n",
       "      <td>0</td>\n",
       "      <td>1</td>\n",
       "      <td>0</td>\n",
       "      <td>0</td>\n",
       "      <td>0</td>\n",
       "      <td>0</td>\n",
       "      <td>0</td>\n",
       "      <td>1</td>\n",
       "      <td>0</td>\n",
       "      <td>0</td>\n",
       "    </tr>\n",
       "    <tr>\n",
       "      <th>2018-01-01 01:15:00</th>\n",
       "      <td>3.82</td>\n",
       "      <td>4.50</td>\n",
       "      <td>0.0</td>\n",
       "      <td>0.0</td>\n",
       "      <td>64.72</td>\n",
       "      <td>100.0</td>\n",
       "      <td>4500</td>\n",
       "      <td>1</td>\n",
       "      <td>0</td>\n",
       "      <td>0</td>\n",
       "      <td>1</td>\n",
       "      <td>0</td>\n",
       "      <td>0</td>\n",
       "      <td>0</td>\n",
       "      <td>0</td>\n",
       "      <td>0</td>\n",
       "      <td>1</td>\n",
       "      <td>0</td>\n",
       "      <td>0</td>\n",
       "    </tr>\n",
       "  </tbody>\n",
       "</table>\n",
       "</div>"
      ],
      "text/plain": [
       "                     Usage  Lag_RP  Lead_RP  CO2  Lag_PF  Lead_PF   NSM  \\\n",
       "date                                                                      \n",
       "2018-01-01 00:15:00   3.17    2.95      0.0  0.0   73.21    100.0   900   \n",
       "2018-01-01 00:30:00   4.00    4.46      0.0  0.0   66.77    100.0  1800   \n",
       "2018-01-01 00:45:00   3.24    3.28      0.0  0.0   70.28    100.0  2700   \n",
       "2018-01-01 01:00:00   3.31    3.56      0.0  0.0   68.09    100.0  3600   \n",
       "2018-01-01 01:15:00   3.82    4.50      0.0  0.0   64.72    100.0  4500   \n",
       "\n",
       "                     WeekStatus_Weekday  WeekStatus_Weekend  \\\n",
       "date                                                          \n",
       "2018-01-01 00:15:00                   1                   0   \n",
       "2018-01-01 00:30:00                   1                   0   \n",
       "2018-01-01 00:45:00                   1                   0   \n",
       "2018-01-01 01:00:00                   1                   0   \n",
       "2018-01-01 01:15:00                   1                   0   \n",
       "\n",
       "                     Day_of_week_Friday  Day_of_week_Monday  \\\n",
       "date                                                          \n",
       "2018-01-01 00:15:00                   0                   1   \n",
       "2018-01-01 00:30:00                   0                   1   \n",
       "2018-01-01 00:45:00                   0                   1   \n",
       "2018-01-01 01:00:00                   0                   1   \n",
       "2018-01-01 01:15:00                   0                   1   \n",
       "\n",
       "                     Day_of_week_Saturday  Day_of_week_Sunday  \\\n",
       "date                                                            \n",
       "2018-01-01 00:15:00                     0                   0   \n",
       "2018-01-01 00:30:00                     0                   0   \n",
       "2018-01-01 00:45:00                     0                   0   \n",
       "2018-01-01 01:00:00                     0                   0   \n",
       "2018-01-01 01:15:00                     0                   0   \n",
       "\n",
       "                     Day_of_week_Thursday  Day_of_week_Tuesday  \\\n",
       "date                                                             \n",
       "2018-01-01 00:15:00                     0                    0   \n",
       "2018-01-01 00:30:00                     0                    0   \n",
       "2018-01-01 00:45:00                     0                    0   \n",
       "2018-01-01 01:00:00                     0                    0   \n",
       "2018-01-01 01:15:00                     0                    0   \n",
       "\n",
       "                     Day_of_week_Wednesday  Load_Type_Light_Load  \\\n",
       "date                                                               \n",
       "2018-01-01 00:15:00                      0                     1   \n",
       "2018-01-01 00:30:00                      0                     1   \n",
       "2018-01-01 00:45:00                      0                     1   \n",
       "2018-01-01 01:00:00                      0                     1   \n",
       "2018-01-01 01:15:00                      0                     1   \n",
       "\n",
       "                     Load_Type_Maximum_Load  Load_Type_Medium_Load  \n",
       "date                                                                \n",
       "2018-01-01 00:15:00                       0                      0  \n",
       "2018-01-01 00:30:00                       0                      0  \n",
       "2018-01-01 00:45:00                       0                      0  \n",
       "2018-01-01 01:00:00                       0                      0  \n",
       "2018-01-01 01:15:00                       0                      0  "
      ]
     },
     "execution_count": 21,
     "metadata": {},
     "output_type": "execute_result"
    }
   ],
   "source": [
    "'''\n",
    "Convert categorical data to numerical\n",
    "\n",
    "One-hot encoding the categorical variables\n",
    "'''\n",
    "categorical_features = ['WeekStatus','Day_of_week','Load_Type']\n",
    "\n",
    "dataset = pd.get_dummies(df, columns=categorical_features)\n",
    "dataset.head()"
   ]
  },
  {
   "cell_type": "code",
   "execution_count": 184,
   "id": "fd545995",
   "metadata": {},
   "outputs": [
    {
     "name": "stdout",
     "output_type": "stream",
     "text": [
      "(35040, 19)\n"
     ]
    }
   ],
   "source": [
    "print(dataset.shape)"
   ]
  },
  {
   "cell_type": "code",
   "execution_count": 23,
   "id": "2b4b79ca",
   "metadata": {},
   "outputs": [
    {
     "data": {
      "text/plain": [
       "Index(['Usage', 'Lag_RP', 'Lead_RP', 'CO2', 'Lag_PF', 'Lead_PF', 'NSM',\n",
       "       'WeekStatus_Weekday', 'WeekStatus_Weekend', 'Day_of_week_Friday',\n",
       "       'Day_of_week_Monday', 'Day_of_week_Saturday', 'Day_of_week_Sunday',\n",
       "       'Day_of_week_Thursday', 'Day_of_week_Tuesday', 'Day_of_week_Wednesday',\n",
       "       'Load_Type_Light_Load', 'Load_Type_Maximum_Load',\n",
       "       'Load_Type_Medium_Load'],\n",
       "      dtype='object')"
      ]
     },
     "execution_count": 23,
     "metadata": {},
     "output_type": "execute_result"
    }
   ],
   "source": [
    "print(dataset.columns) #printing the dataset coluns to confirm the encoding process"
   ]
  },
  {
   "cell_type": "code",
   "execution_count": 174,
   "id": "53b11de9",
   "metadata": {},
   "outputs": [
    {
     "data": {
      "application/vnd.plotly.v1+json": {
       "config": {
        "plotlyServerURL": "https://plot.ly"
       },
       "data": [
        {
         "colorscale": [
          [
           0,
           "#0d0887"
          ],
          [
           0.1111111111111111,
           "#46039f"
          ],
          [
           0.2222222222222222,
           "#7201a8"
          ],
          [
           0.3333333333333333,
           "#9c179e"
          ],
          [
           0.4444444444444444,
           "#bd3786"
          ],
          [
           0.5555555555555556,
           "#d8576b"
          ],
          [
           0.6666666666666666,
           "#ed7953"
          ],
          [
           0.7777777777777778,
           "#fb9f3a"
          ],
          [
           0.8888888888888888,
           "#fdca26"
          ],
          [
           1,
           "#f0f921"
          ]
         ],
         "reversescale": false,
         "showscale": true,
         "type": "heatmap",
         "x": [
          "Usage",
          "Lag_RP",
          "Lead_RP",
          "CO2",
          "Lag_PF",
          "Lead_PF",
          "NSM",
          "WeekStatus_Weekday",
          "WeekStatus_Weekend",
          "Day_of_week_Friday",
          "Day_of_week_Monday",
          "Day_of_week_Saturday",
          "Day_of_week_Sunday",
          "Day_of_week_Thursday",
          "Day_of_week_Tuesday",
          "Day_of_week_Wednesday",
          "Load_Type_Light_Load",
          "Load_Type_Maximum_Load",
          "Load_Type_Medium_Load"
         ],
         "y": [
          "Usage",
          "Lag_RP",
          "Lead_RP",
          "CO2",
          "Lag_PF",
          "Lead_PF",
          "NSM",
          "WeekStatus_Weekday",
          "WeekStatus_Weekend",
          "Day_of_week_Friday",
          "Day_of_week_Monday",
          "Day_of_week_Saturday",
          "Day_of_week_Sunday",
          "Day_of_week_Thursday",
          "Day_of_week_Tuesday",
          "Day_of_week_Wednesday",
          "Load_Type_Light_Load",
          "Load_Type_Maximum_Load",
          "Load_Type_Medium_Load"
         ],
         "z": [
          [
           1,
           0.8961499010002166,
           -0.32492178394544313,
           0.9881797716789515,
           0.3859604614141433,
           0.3535657085478799,
           0.2346103272643915,
           0.2954748296267286,
           -0.2954748296267285,
           0.07078614412899249,
           0.0709484828381538,
           -0.13976402226524215,
           -0.24181419410508756,
           0.0941503147801299,
           0.08580838684350861,
           0.05932045181300884,
           -0.5789213119060053,
           0.48779179393462274,
           0.20452107133907516
          ],
          [
           0.8961499010002166,
           1,
           -0.40514167762598446,
           0.8869477080514382,
           0.14453375532413168,
           0.4077162820034886,
           0.082662371226899,
           0.3198697521102095,
           -0.31986975211020985,
           0.07670502911158399,
           0.07762675925772318,
           -0.168117411419572,
           -0.24496457473547487,
           0.10802020797829946,
           0.08936467849167734,
           0.06074774582122214,
           -0.3817194732643078,
           0.41285899740635745,
           0.05215689679091323
          ],
          [
           -0.32492178394544313,
           -0.40514167762598446,
           1,
           -0.3327766451771398,
           0.5267704711405935,
           -0.9440389991536534,
           0.37160456644554224,
           -0.26043062879355877,
           0.2604306287935595,
           -0.06873356197625174,
           -0.07378556281133279,
           0.12835359764540855,
           0.20796829802600417,
           -0.08254758916227732,
           -0.07475230315797911,
           -0.03591587199492195,
           -0.12880450598516502,
           -0.15525513556573284,
           0.28462301369336696
          ],
          [
           0.9881797716789515,
           0.8869477080514382,
           -0.3327766451771398,
           1,
           0.37960471977049093,
           0.36001910096017814,
           0.23172599741262442,
           0.29046696318247817,
           -0.29046696318247794,
           0.07103473674393837,
           0.07144545736675614,
           -0.13588801728334315,
           -0.23922300610126587,
           0.09514960448667321,
           0.0773035912514838,
           0.0596092438511545,
           -0.5732183275807221,
           0.48716478122194035,
           0.19871876135502511
          ],
          [
           0.3859604614141433,
           0.14453375532413168,
           0.5267704711405935,
           0.37960471977049093,
           1,
           -0.5199668536819609,
           0.5652695070724054,
           -0.05408209889329562,
           0.05408209889329601,
           -0.015717769586468547,
           -0.020908570743844897,
           0.035512406270890036,
           0.03432958622416539,
           -0.02188957873359054,
           -0.010718121728261762,
           -0.0004416120030871661,
           -0.5944422445339715,
           0.28223887133400005,
           0.4081918762589688
          ],
          [
           0.3535657085478799,
           0.4077162820034886,
           -0.9440389991536534,
           0.36001910096017814,
           -0.5199668536819609,
           1,
           -0.3605629891708782,
           0.31467485084100105,
           -0.3146748508410023,
           0.08632161460372381,
           0.0849875020970713,
           -0.13409177623754445,
           -0.27228147887929877,
           0.09978147562047913,
           0.08664053447795306,
           0.04796600388237933,
           0.03528439788182809,
           0.1908423970854719,
           -0.2124131748098708
          ],
          [
           0.2346103272643915,
           0.082662371226899,
           0.37160456644554224,
           0.23172599741262442,
           0.5652695070724054,
           -0.3605629891708782,
           1,
           8.249137081300166e-17,
           -9.02798400009474e-17,
           3.32708740800176e-17,
           1.0067316874543576e-16,
           -6.184321233595547e-17,
           -8.314443241546554e-17,
           1.1924991112445893e-17,
           -1.642403270318391e-17,
           -1.2463923295055805e-17,
           -0.5944346179874108,
           0.21106073736728637,
           0.472705970292402
          ],
          [
           0.2954748296267286,
           0.3198697521102095,
           -0.26043062879355877,
           0.29046696318247817,
           -0.05408209889329562,
           0.31467485084100105,
           8.249137081300166e-17,
           1,
           -1.0000000000000002,
           0.25729178444552486,
           0.2601699022431397,
           -0.6457034205796368,
           -0.6457034205796376,
           0.25729178444552386,
           0.25729178444552525,
           0.25729178444552603,
           -0.22199581538339686,
           0.11724307598851376,
           0.141706996351297
          ],
          [
           -0.2954748296267285,
           -0.31986975211020985,
           0.2604306287935595,
           -0.29046696318247794,
           0.05408209889329601,
           -0.3146748508410023,
           -9.02798400009474e-17,
           -1.0000000000000002,
           1,
           -0.2572917844455247,
           -0.2601699022431398,
           0.6457034205796371,
           0.6457034205796379,
           -0.2572917844455241,
           -0.25729178444552553,
           -0.2572917844455262,
           0.22199581538339666,
           -0.11724307598851397,
           -0.14170699635129747
          ],
          [
           0.07078614412899249,
           0.07670502911158399,
           -0.06873356197625174,
           0.07103473674393837,
           -0.015717769586468547,
           0.08632161460372381,
           3.32708740800176e-17,
           0.25729178444552486,
           -0.2572917844455247,
           1,
           -0.16799259581026488,
           -0.16613418530351354,
           -0.16613418530351334,
           -0.1661341853035133,
           -0.16613418530351395,
           -0.16613418530351454,
           -0.06251614630138666,
           0.033016772314666896,
           0.039906046429424885
          ],
          [
           0.0709484828381538,
           0.07762675925772318,
           -0.07378556281133279,
           0.07144545736675614,
           -0.020908570743844897,
           0.0849875020970713,
           1.0067316874543576e-16,
           0.2601699022431397,
           -0.2601699022431398,
           -0.16799259581026488,
           1,
           -0.16799259581026496,
           -0.16799259581026466,
           -0.16799259581026454,
           -0.16799259581026638,
           -0.1679925958102645,
           -0.054487481685188,
           0.028776578263902418,
           0.034781094206750726
          ],
          [
           -0.13976402226524215,
           -0.168117411419572,
           0.12835359764540855,
           -0.13588801728334315,
           0.035512406270890036,
           -0.13409177623754445,
           -6.184321233595547e-17,
           -0.6457034205796368,
           0.6457034205796371,
           -0.16613418530351354,
           -0.16799259581026496,
           1,
           -0.16613418530351565,
           -0.166134185303513,
           -0.16613418530351387,
           -0.16613418530351448,
           0.04727564231131347,
           -0.024967775695854837,
           -0.030177547540454888
          ],
          [
           -0.24181419410508756,
           -0.24496457473547487,
           0.20796829802600417,
           -0.23922300610126587,
           0.03432958622416539,
           -0.27228147887929877,
           -8.314443241546554e-17,
           -0.6457034205796376,
           0.6457034205796379,
           -0.16613418530351334,
           -0.16799259581026466,
           -0.16613418530351565,
           1,
           -0.16613418530351276,
           -0.16613418530351376,
           -0.16613418530351423,
           0.2394112723835384,
           -0.1264407347142685,
           -0.15282383698774388
          ],
          [
           0.0941503147801299,
           0.10802020797829946,
           -0.08254758916227732,
           0.09514960448667321,
           -0.02188957873359054,
           0.09978147562047913,
           1.1924991112445893e-17,
           0.25729178444552386,
           -0.2572917844455241,
           -0.1661341853035133,
           -0.16799259581026454,
           -0.166134185303513,
           -0.16613418530351276,
           1,
           -0.16613418530351376,
           -0.16613418530351437,
           -0.06251614630138638,
           0.03301677231466693,
           0.03990604642942491
          ],
          [
           0.08580838684350861,
           0.08936467849167734,
           -0.07475230315797911,
           0.0773035912514838,
           -0.010718121728261762,
           0.08664053447795306,
           -1.642403270318391e-17,
           0.25729178444552525,
           -0.25729178444552553,
           -0.16613418530351395,
           -0.16799259581026638,
           -0.16613418530351387,
           -0.16613418530351376,
           -0.16613418530351376,
           1,
           -0.16613418530351373,
           -0.05336683058366146,
           0.02818472664712332,
           0.0340657469319345
          ],
          [
           0.05932045181300884,
           0.06074774582122214,
           -0.03591587199492195,
           0.0596092438511545,
           -0.0004416120030871661,
           0.04796600388237933,
           -1.2463923295055805e-17,
           0.25729178444552603,
           -0.2572917844455262,
           -0.16613418530351454,
           -0.1679925958102645,
           -0.16613418530351448,
           -0.16613418530351423,
           -0.16613418530351437,
           -0.16613418530351373,
           1,
           -0.05336683058366164,
           0.028184726647123442,
           0.03406574693193474
          ],
          [
           -0.5789213119060053,
           -0.3817194732643078,
           -0.12880450598516502,
           -0.5732183275807221,
           -0.5944422445339715,
           0.03528439788182809,
           -0.5944346179874108,
           -0.22199581538339686,
           0.22199581538339666,
           -0.06251614630138666,
           -0.054487481685188,
           0.04727564231131347,
           0.2394112723835384,
           -0.06251614630138638,
           -0.05336683058366146,
           -0.05336683058366164,
           1,
           -0.5281319190004895,
           -0.6383318356995291
          ],
          [
           0.48779179393462274,
           0.41285899740635745,
           -0.15525513556573284,
           0.48716478122194035,
           0.28223887133400005,
           0.1908423970854719,
           0.21106073736728637,
           0.11724307598851376,
           -0.11724307598851397,
           0.033016772314666896,
           0.028776578263902418,
           -0.024967775695854837,
           -0.1264407347142685,
           0.03301677231466693,
           0.02818472664712332,
           0.028184726647123442,
           -0.5281319190004895,
           1,
           -0.3165288925158049
          ],
          [
           0.20452107133907516,
           0.05215689679091323,
           0.28462301369336696,
           0.19871876135502511,
           0.4081918762589688,
           -0.2124131748098708,
           0.472705970292402,
           0.141706996351297,
           -0.14170699635129747,
           0.039906046429424885,
           0.034781094206750726,
           -0.030177547540454888,
           -0.15282383698774388,
           0.03990604642942491,
           0.0340657469319345,
           0.03406574693193474,
           -0.6383318356995291,
           -0.3165288925158049,
           1
          ]
         ]
        }
       ],
       "layout": {
        "annotations": [
         {
          "font": {
           "color": "#000000"
          },
          "showarrow": false,
          "text": "1.0",
          "x": "Usage",
          "xref": "x",
          "y": "Usage",
          "yref": "y"
         },
         {
          "font": {
           "color": "#000000"
          },
          "showarrow": false,
          "text": "0.9",
          "x": "Lag_RP",
          "xref": "x",
          "y": "Usage",
          "yref": "y"
         },
         {
          "font": {
           "color": "#FFFFFF"
          },
          "showarrow": false,
          "text": "-0.32",
          "x": "Lead_RP",
          "xref": "x",
          "y": "Usage",
          "yref": "y"
         },
         {
          "font": {
           "color": "#000000"
          },
          "showarrow": false,
          "text": "0.99",
          "x": "CO2",
          "xref": "x",
          "y": "Usage",
          "yref": "y"
         },
         {
          "font": {
           "color": "#000000"
          },
          "showarrow": false,
          "text": "0.39",
          "x": "Lag_PF",
          "xref": "x",
          "y": "Usage",
          "yref": "y"
         },
         {
          "font": {
           "color": "#000000"
          },
          "showarrow": false,
          "text": "0.35",
          "x": "Lead_PF",
          "xref": "x",
          "y": "Usage",
          "yref": "y"
         },
         {
          "font": {
           "color": "#000000"
          },
          "showarrow": false,
          "text": "0.23",
          "x": "NSM",
          "xref": "x",
          "y": "Usage",
          "yref": "y"
         },
         {
          "font": {
           "color": "#000000"
          },
          "showarrow": false,
          "text": "0.3",
          "x": "WeekStatus_Weekday",
          "xref": "x",
          "y": "Usage",
          "yref": "y"
         },
         {
          "font": {
           "color": "#FFFFFF"
          },
          "showarrow": false,
          "text": "-0.3",
          "x": "WeekStatus_Weekend",
          "xref": "x",
          "y": "Usage",
          "yref": "y"
         },
         {
          "font": {
           "color": "#000000"
          },
          "showarrow": false,
          "text": "0.07",
          "x": "Day_of_week_Friday",
          "xref": "x",
          "y": "Usage",
          "yref": "y"
         },
         {
          "font": {
           "color": "#000000"
          },
          "showarrow": false,
          "text": "0.07",
          "x": "Day_of_week_Monday",
          "xref": "x",
          "y": "Usage",
          "yref": "y"
         },
         {
          "font": {
           "color": "#FFFFFF"
          },
          "showarrow": false,
          "text": "-0.14",
          "x": "Day_of_week_Saturday",
          "xref": "x",
          "y": "Usage",
          "yref": "y"
         },
         {
          "font": {
           "color": "#FFFFFF"
          },
          "showarrow": false,
          "text": "-0.24",
          "x": "Day_of_week_Sunday",
          "xref": "x",
          "y": "Usage",
          "yref": "y"
         },
         {
          "font": {
           "color": "#000000"
          },
          "showarrow": false,
          "text": "0.09",
          "x": "Day_of_week_Thursday",
          "xref": "x",
          "y": "Usage",
          "yref": "y"
         },
         {
          "font": {
           "color": "#000000"
          },
          "showarrow": false,
          "text": "0.09",
          "x": "Day_of_week_Tuesday",
          "xref": "x",
          "y": "Usage",
          "yref": "y"
         },
         {
          "font": {
           "color": "#000000"
          },
          "showarrow": false,
          "text": "0.06",
          "x": "Day_of_week_Wednesday",
          "xref": "x",
          "y": "Usage",
          "yref": "y"
         },
         {
          "font": {
           "color": "#FFFFFF"
          },
          "showarrow": false,
          "text": "-0.58",
          "x": "Load_Type_Light_Load",
          "xref": "x",
          "y": "Usage",
          "yref": "y"
         },
         {
          "font": {
           "color": "#000000"
          },
          "showarrow": false,
          "text": "0.49",
          "x": "Load_Type_Maximum_Load",
          "xref": "x",
          "y": "Usage",
          "yref": "y"
         },
         {
          "font": {
           "color": "#000000"
          },
          "showarrow": false,
          "text": "0.2",
          "x": "Load_Type_Medium_Load",
          "xref": "x",
          "y": "Usage",
          "yref": "y"
         },
         {
          "font": {
           "color": "#000000"
          },
          "showarrow": false,
          "text": "0.9",
          "x": "Usage",
          "xref": "x",
          "y": "Lag_RP",
          "yref": "y"
         },
         {
          "font": {
           "color": "#000000"
          },
          "showarrow": false,
          "text": "1.0",
          "x": "Lag_RP",
          "xref": "x",
          "y": "Lag_RP",
          "yref": "y"
         },
         {
          "font": {
           "color": "#FFFFFF"
          },
          "showarrow": false,
          "text": "-0.41",
          "x": "Lead_RP",
          "xref": "x",
          "y": "Lag_RP",
          "yref": "y"
         },
         {
          "font": {
           "color": "#000000"
          },
          "showarrow": false,
          "text": "0.89",
          "x": "CO2",
          "xref": "x",
          "y": "Lag_RP",
          "yref": "y"
         },
         {
          "font": {
           "color": "#000000"
          },
          "showarrow": false,
          "text": "0.14",
          "x": "Lag_PF",
          "xref": "x",
          "y": "Lag_RP",
          "yref": "y"
         },
         {
          "font": {
           "color": "#000000"
          },
          "showarrow": false,
          "text": "0.41",
          "x": "Lead_PF",
          "xref": "x",
          "y": "Lag_RP",
          "yref": "y"
         },
         {
          "font": {
           "color": "#000000"
          },
          "showarrow": false,
          "text": "0.08",
          "x": "NSM",
          "xref": "x",
          "y": "Lag_RP",
          "yref": "y"
         },
         {
          "font": {
           "color": "#000000"
          },
          "showarrow": false,
          "text": "0.32",
          "x": "WeekStatus_Weekday",
          "xref": "x",
          "y": "Lag_RP",
          "yref": "y"
         },
         {
          "font": {
           "color": "#FFFFFF"
          },
          "showarrow": false,
          "text": "-0.32",
          "x": "WeekStatus_Weekend",
          "xref": "x",
          "y": "Lag_RP",
          "yref": "y"
         },
         {
          "font": {
           "color": "#000000"
          },
          "showarrow": false,
          "text": "0.08",
          "x": "Day_of_week_Friday",
          "xref": "x",
          "y": "Lag_RP",
          "yref": "y"
         },
         {
          "font": {
           "color": "#000000"
          },
          "showarrow": false,
          "text": "0.08",
          "x": "Day_of_week_Monday",
          "xref": "x",
          "y": "Lag_RP",
          "yref": "y"
         },
         {
          "font": {
           "color": "#FFFFFF"
          },
          "showarrow": false,
          "text": "-0.17",
          "x": "Day_of_week_Saturday",
          "xref": "x",
          "y": "Lag_RP",
          "yref": "y"
         },
         {
          "font": {
           "color": "#FFFFFF"
          },
          "showarrow": false,
          "text": "-0.24",
          "x": "Day_of_week_Sunday",
          "xref": "x",
          "y": "Lag_RP",
          "yref": "y"
         },
         {
          "font": {
           "color": "#000000"
          },
          "showarrow": false,
          "text": "0.11",
          "x": "Day_of_week_Thursday",
          "xref": "x",
          "y": "Lag_RP",
          "yref": "y"
         },
         {
          "font": {
           "color": "#000000"
          },
          "showarrow": false,
          "text": "0.09",
          "x": "Day_of_week_Tuesday",
          "xref": "x",
          "y": "Lag_RP",
          "yref": "y"
         },
         {
          "font": {
           "color": "#000000"
          },
          "showarrow": false,
          "text": "0.06",
          "x": "Day_of_week_Wednesday",
          "xref": "x",
          "y": "Lag_RP",
          "yref": "y"
         },
         {
          "font": {
           "color": "#FFFFFF"
          },
          "showarrow": false,
          "text": "-0.38",
          "x": "Load_Type_Light_Load",
          "xref": "x",
          "y": "Lag_RP",
          "yref": "y"
         },
         {
          "font": {
           "color": "#000000"
          },
          "showarrow": false,
          "text": "0.41",
          "x": "Load_Type_Maximum_Load",
          "xref": "x",
          "y": "Lag_RP",
          "yref": "y"
         },
         {
          "font": {
           "color": "#000000"
          },
          "showarrow": false,
          "text": "0.05",
          "x": "Load_Type_Medium_Load",
          "xref": "x",
          "y": "Lag_RP",
          "yref": "y"
         },
         {
          "font": {
           "color": "#FFFFFF"
          },
          "showarrow": false,
          "text": "-0.32",
          "x": "Usage",
          "xref": "x",
          "y": "Lead_RP",
          "yref": "y"
         },
         {
          "font": {
           "color": "#FFFFFF"
          },
          "showarrow": false,
          "text": "-0.41",
          "x": "Lag_RP",
          "xref": "x",
          "y": "Lead_RP",
          "yref": "y"
         },
         {
          "font": {
           "color": "#000000"
          },
          "showarrow": false,
          "text": "1.0",
          "x": "Lead_RP",
          "xref": "x",
          "y": "Lead_RP",
          "yref": "y"
         },
         {
          "font": {
           "color": "#FFFFFF"
          },
          "showarrow": false,
          "text": "-0.33",
          "x": "CO2",
          "xref": "x",
          "y": "Lead_RP",
          "yref": "y"
         },
         {
          "font": {
           "color": "#000000"
          },
          "showarrow": false,
          "text": "0.53",
          "x": "Lag_PF",
          "xref": "x",
          "y": "Lead_RP",
          "yref": "y"
         },
         {
          "font": {
           "color": "#FFFFFF"
          },
          "showarrow": false,
          "text": "-0.94",
          "x": "Lead_PF",
          "xref": "x",
          "y": "Lead_RP",
          "yref": "y"
         },
         {
          "font": {
           "color": "#000000"
          },
          "showarrow": false,
          "text": "0.37",
          "x": "NSM",
          "xref": "x",
          "y": "Lead_RP",
          "yref": "y"
         },
         {
          "font": {
           "color": "#FFFFFF"
          },
          "showarrow": false,
          "text": "-0.26",
          "x": "WeekStatus_Weekday",
          "xref": "x",
          "y": "Lead_RP",
          "yref": "y"
         },
         {
          "font": {
           "color": "#000000"
          },
          "showarrow": false,
          "text": "0.26",
          "x": "WeekStatus_Weekend",
          "xref": "x",
          "y": "Lead_RP",
          "yref": "y"
         },
         {
          "font": {
           "color": "#FFFFFF"
          },
          "showarrow": false,
          "text": "-0.07",
          "x": "Day_of_week_Friday",
          "xref": "x",
          "y": "Lead_RP",
          "yref": "y"
         },
         {
          "font": {
           "color": "#FFFFFF"
          },
          "showarrow": false,
          "text": "-0.07",
          "x": "Day_of_week_Monday",
          "xref": "x",
          "y": "Lead_RP",
          "yref": "y"
         },
         {
          "font": {
           "color": "#000000"
          },
          "showarrow": false,
          "text": "0.13",
          "x": "Day_of_week_Saturday",
          "xref": "x",
          "y": "Lead_RP",
          "yref": "y"
         },
         {
          "font": {
           "color": "#000000"
          },
          "showarrow": false,
          "text": "0.21",
          "x": "Day_of_week_Sunday",
          "xref": "x",
          "y": "Lead_RP",
          "yref": "y"
         },
         {
          "font": {
           "color": "#FFFFFF"
          },
          "showarrow": false,
          "text": "-0.08",
          "x": "Day_of_week_Thursday",
          "xref": "x",
          "y": "Lead_RP",
          "yref": "y"
         },
         {
          "font": {
           "color": "#FFFFFF"
          },
          "showarrow": false,
          "text": "-0.07",
          "x": "Day_of_week_Tuesday",
          "xref": "x",
          "y": "Lead_RP",
          "yref": "y"
         },
         {
          "font": {
           "color": "#FFFFFF"
          },
          "showarrow": false,
          "text": "-0.04",
          "x": "Day_of_week_Wednesday",
          "xref": "x",
          "y": "Lead_RP",
          "yref": "y"
         },
         {
          "font": {
           "color": "#FFFFFF"
          },
          "showarrow": false,
          "text": "-0.13",
          "x": "Load_Type_Light_Load",
          "xref": "x",
          "y": "Lead_RP",
          "yref": "y"
         },
         {
          "font": {
           "color": "#FFFFFF"
          },
          "showarrow": false,
          "text": "-0.16",
          "x": "Load_Type_Maximum_Load",
          "xref": "x",
          "y": "Lead_RP",
          "yref": "y"
         },
         {
          "font": {
           "color": "#000000"
          },
          "showarrow": false,
          "text": "0.28",
          "x": "Load_Type_Medium_Load",
          "xref": "x",
          "y": "Lead_RP",
          "yref": "y"
         },
         {
          "font": {
           "color": "#000000"
          },
          "showarrow": false,
          "text": "0.99",
          "x": "Usage",
          "xref": "x",
          "y": "CO2",
          "yref": "y"
         },
         {
          "font": {
           "color": "#000000"
          },
          "showarrow": false,
          "text": "0.89",
          "x": "Lag_RP",
          "xref": "x",
          "y": "CO2",
          "yref": "y"
         },
         {
          "font": {
           "color": "#FFFFFF"
          },
          "showarrow": false,
          "text": "-0.33",
          "x": "Lead_RP",
          "xref": "x",
          "y": "CO2",
          "yref": "y"
         },
         {
          "font": {
           "color": "#000000"
          },
          "showarrow": false,
          "text": "1.0",
          "x": "CO2",
          "xref": "x",
          "y": "CO2",
          "yref": "y"
         },
         {
          "font": {
           "color": "#000000"
          },
          "showarrow": false,
          "text": "0.38",
          "x": "Lag_PF",
          "xref": "x",
          "y": "CO2",
          "yref": "y"
         },
         {
          "font": {
           "color": "#000000"
          },
          "showarrow": false,
          "text": "0.36",
          "x": "Lead_PF",
          "xref": "x",
          "y": "CO2",
          "yref": "y"
         },
         {
          "font": {
           "color": "#000000"
          },
          "showarrow": false,
          "text": "0.23",
          "x": "NSM",
          "xref": "x",
          "y": "CO2",
          "yref": "y"
         },
         {
          "font": {
           "color": "#000000"
          },
          "showarrow": false,
          "text": "0.29",
          "x": "WeekStatus_Weekday",
          "xref": "x",
          "y": "CO2",
          "yref": "y"
         },
         {
          "font": {
           "color": "#FFFFFF"
          },
          "showarrow": false,
          "text": "-0.29",
          "x": "WeekStatus_Weekend",
          "xref": "x",
          "y": "CO2",
          "yref": "y"
         },
         {
          "font": {
           "color": "#000000"
          },
          "showarrow": false,
          "text": "0.07",
          "x": "Day_of_week_Friday",
          "xref": "x",
          "y": "CO2",
          "yref": "y"
         },
         {
          "font": {
           "color": "#000000"
          },
          "showarrow": false,
          "text": "0.07",
          "x": "Day_of_week_Monday",
          "xref": "x",
          "y": "CO2",
          "yref": "y"
         },
         {
          "font": {
           "color": "#FFFFFF"
          },
          "showarrow": false,
          "text": "-0.14",
          "x": "Day_of_week_Saturday",
          "xref": "x",
          "y": "CO2",
          "yref": "y"
         },
         {
          "font": {
           "color": "#FFFFFF"
          },
          "showarrow": false,
          "text": "-0.24",
          "x": "Day_of_week_Sunday",
          "xref": "x",
          "y": "CO2",
          "yref": "y"
         },
         {
          "font": {
           "color": "#000000"
          },
          "showarrow": false,
          "text": "0.1",
          "x": "Day_of_week_Thursday",
          "xref": "x",
          "y": "CO2",
          "yref": "y"
         },
         {
          "font": {
           "color": "#000000"
          },
          "showarrow": false,
          "text": "0.08",
          "x": "Day_of_week_Tuesday",
          "xref": "x",
          "y": "CO2",
          "yref": "y"
         },
         {
          "font": {
           "color": "#000000"
          },
          "showarrow": false,
          "text": "0.06",
          "x": "Day_of_week_Wednesday",
          "xref": "x",
          "y": "CO2",
          "yref": "y"
         },
         {
          "font": {
           "color": "#FFFFFF"
          },
          "showarrow": false,
          "text": "-0.57",
          "x": "Load_Type_Light_Load",
          "xref": "x",
          "y": "CO2",
          "yref": "y"
         },
         {
          "font": {
           "color": "#000000"
          },
          "showarrow": false,
          "text": "0.49",
          "x": "Load_Type_Maximum_Load",
          "xref": "x",
          "y": "CO2",
          "yref": "y"
         },
         {
          "font": {
           "color": "#000000"
          },
          "showarrow": false,
          "text": "0.2",
          "x": "Load_Type_Medium_Load",
          "xref": "x",
          "y": "CO2",
          "yref": "y"
         },
         {
          "font": {
           "color": "#000000"
          },
          "showarrow": false,
          "text": "0.39",
          "x": "Usage",
          "xref": "x",
          "y": "Lag_PF",
          "yref": "y"
         },
         {
          "font": {
           "color": "#000000"
          },
          "showarrow": false,
          "text": "0.14",
          "x": "Lag_RP",
          "xref": "x",
          "y": "Lag_PF",
          "yref": "y"
         },
         {
          "font": {
           "color": "#000000"
          },
          "showarrow": false,
          "text": "0.53",
          "x": "Lead_RP",
          "xref": "x",
          "y": "Lag_PF",
          "yref": "y"
         },
         {
          "font": {
           "color": "#000000"
          },
          "showarrow": false,
          "text": "0.38",
          "x": "CO2",
          "xref": "x",
          "y": "Lag_PF",
          "yref": "y"
         },
         {
          "font": {
           "color": "#000000"
          },
          "showarrow": false,
          "text": "1.0",
          "x": "Lag_PF",
          "xref": "x",
          "y": "Lag_PF",
          "yref": "y"
         },
         {
          "font": {
           "color": "#FFFFFF"
          },
          "showarrow": false,
          "text": "-0.52",
          "x": "Lead_PF",
          "xref": "x",
          "y": "Lag_PF",
          "yref": "y"
         },
         {
          "font": {
           "color": "#000000"
          },
          "showarrow": false,
          "text": "0.57",
          "x": "NSM",
          "xref": "x",
          "y": "Lag_PF",
          "yref": "y"
         },
         {
          "font": {
           "color": "#FFFFFF"
          },
          "showarrow": false,
          "text": "-0.05",
          "x": "WeekStatus_Weekday",
          "xref": "x",
          "y": "Lag_PF",
          "yref": "y"
         },
         {
          "font": {
           "color": "#000000"
          },
          "showarrow": false,
          "text": "0.05",
          "x": "WeekStatus_Weekend",
          "xref": "x",
          "y": "Lag_PF",
          "yref": "y"
         },
         {
          "font": {
           "color": "#FFFFFF"
          },
          "showarrow": false,
          "text": "-0.02",
          "x": "Day_of_week_Friday",
          "xref": "x",
          "y": "Lag_PF",
          "yref": "y"
         },
         {
          "font": {
           "color": "#FFFFFF"
          },
          "showarrow": false,
          "text": "-0.02",
          "x": "Day_of_week_Monday",
          "xref": "x",
          "y": "Lag_PF",
          "yref": "y"
         },
         {
          "font": {
           "color": "#000000"
          },
          "showarrow": false,
          "text": "0.04",
          "x": "Day_of_week_Saturday",
          "xref": "x",
          "y": "Lag_PF",
          "yref": "y"
         },
         {
          "font": {
           "color": "#000000"
          },
          "showarrow": false,
          "text": "0.03",
          "x": "Day_of_week_Sunday",
          "xref": "x",
          "y": "Lag_PF",
          "yref": "y"
         },
         {
          "font": {
           "color": "#FFFFFF"
          },
          "showarrow": false,
          "text": "-0.02",
          "x": "Day_of_week_Thursday",
          "xref": "x",
          "y": "Lag_PF",
          "yref": "y"
         },
         {
          "font": {
           "color": "#FFFFFF"
          },
          "showarrow": false,
          "text": "-0.01",
          "x": "Day_of_week_Tuesday",
          "xref": "x",
          "y": "Lag_PF",
          "yref": "y"
         },
         {
          "font": {
           "color": "#FFFFFF"
          },
          "showarrow": false,
          "text": "-0.0",
          "x": "Day_of_week_Wednesday",
          "xref": "x",
          "y": "Lag_PF",
          "yref": "y"
         },
         {
          "font": {
           "color": "#FFFFFF"
          },
          "showarrow": false,
          "text": "-0.59",
          "x": "Load_Type_Light_Load",
          "xref": "x",
          "y": "Lag_PF",
          "yref": "y"
         },
         {
          "font": {
           "color": "#000000"
          },
          "showarrow": false,
          "text": "0.28",
          "x": "Load_Type_Maximum_Load",
          "xref": "x",
          "y": "Lag_PF",
          "yref": "y"
         },
         {
          "font": {
           "color": "#000000"
          },
          "showarrow": false,
          "text": "0.41",
          "x": "Load_Type_Medium_Load",
          "xref": "x",
          "y": "Lag_PF",
          "yref": "y"
         },
         {
          "font": {
           "color": "#000000"
          },
          "showarrow": false,
          "text": "0.35",
          "x": "Usage",
          "xref": "x",
          "y": "Lead_PF",
          "yref": "y"
         },
         {
          "font": {
           "color": "#000000"
          },
          "showarrow": false,
          "text": "0.41",
          "x": "Lag_RP",
          "xref": "x",
          "y": "Lead_PF",
          "yref": "y"
         },
         {
          "font": {
           "color": "#FFFFFF"
          },
          "showarrow": false,
          "text": "-0.94",
          "x": "Lead_RP",
          "xref": "x",
          "y": "Lead_PF",
          "yref": "y"
         },
         {
          "font": {
           "color": "#000000"
          },
          "showarrow": false,
          "text": "0.36",
          "x": "CO2",
          "xref": "x",
          "y": "Lead_PF",
          "yref": "y"
         },
         {
          "font": {
           "color": "#FFFFFF"
          },
          "showarrow": false,
          "text": "-0.52",
          "x": "Lag_PF",
          "xref": "x",
          "y": "Lead_PF",
          "yref": "y"
         },
         {
          "font": {
           "color": "#000000"
          },
          "showarrow": false,
          "text": "1.0",
          "x": "Lead_PF",
          "xref": "x",
          "y": "Lead_PF",
          "yref": "y"
         },
         {
          "font": {
           "color": "#FFFFFF"
          },
          "showarrow": false,
          "text": "-0.36",
          "x": "NSM",
          "xref": "x",
          "y": "Lead_PF",
          "yref": "y"
         },
         {
          "font": {
           "color": "#000000"
          },
          "showarrow": false,
          "text": "0.31",
          "x": "WeekStatus_Weekday",
          "xref": "x",
          "y": "Lead_PF",
          "yref": "y"
         },
         {
          "font": {
           "color": "#FFFFFF"
          },
          "showarrow": false,
          "text": "-0.31",
          "x": "WeekStatus_Weekend",
          "xref": "x",
          "y": "Lead_PF",
          "yref": "y"
         },
         {
          "font": {
           "color": "#000000"
          },
          "showarrow": false,
          "text": "0.09",
          "x": "Day_of_week_Friday",
          "xref": "x",
          "y": "Lead_PF",
          "yref": "y"
         },
         {
          "font": {
           "color": "#000000"
          },
          "showarrow": false,
          "text": "0.08",
          "x": "Day_of_week_Monday",
          "xref": "x",
          "y": "Lead_PF",
          "yref": "y"
         },
         {
          "font": {
           "color": "#FFFFFF"
          },
          "showarrow": false,
          "text": "-0.13",
          "x": "Day_of_week_Saturday",
          "xref": "x",
          "y": "Lead_PF",
          "yref": "y"
         },
         {
          "font": {
           "color": "#FFFFFF"
          },
          "showarrow": false,
          "text": "-0.27",
          "x": "Day_of_week_Sunday",
          "xref": "x",
          "y": "Lead_PF",
          "yref": "y"
         },
         {
          "font": {
           "color": "#000000"
          },
          "showarrow": false,
          "text": "0.1",
          "x": "Day_of_week_Thursday",
          "xref": "x",
          "y": "Lead_PF",
          "yref": "y"
         },
         {
          "font": {
           "color": "#000000"
          },
          "showarrow": false,
          "text": "0.09",
          "x": "Day_of_week_Tuesday",
          "xref": "x",
          "y": "Lead_PF",
          "yref": "y"
         },
         {
          "font": {
           "color": "#000000"
          },
          "showarrow": false,
          "text": "0.05",
          "x": "Day_of_week_Wednesday",
          "xref": "x",
          "y": "Lead_PF",
          "yref": "y"
         },
         {
          "font": {
           "color": "#000000"
          },
          "showarrow": false,
          "text": "0.04",
          "x": "Load_Type_Light_Load",
          "xref": "x",
          "y": "Lead_PF",
          "yref": "y"
         },
         {
          "font": {
           "color": "#000000"
          },
          "showarrow": false,
          "text": "0.19",
          "x": "Load_Type_Maximum_Load",
          "xref": "x",
          "y": "Lead_PF",
          "yref": "y"
         },
         {
          "font": {
           "color": "#FFFFFF"
          },
          "showarrow": false,
          "text": "-0.21",
          "x": "Load_Type_Medium_Load",
          "xref": "x",
          "y": "Lead_PF",
          "yref": "y"
         },
         {
          "font": {
           "color": "#000000"
          },
          "showarrow": false,
          "text": "0.23",
          "x": "Usage",
          "xref": "x",
          "y": "NSM",
          "yref": "y"
         },
         {
          "font": {
           "color": "#000000"
          },
          "showarrow": false,
          "text": "0.08",
          "x": "Lag_RP",
          "xref": "x",
          "y": "NSM",
          "yref": "y"
         },
         {
          "font": {
           "color": "#000000"
          },
          "showarrow": false,
          "text": "0.37",
          "x": "Lead_RP",
          "xref": "x",
          "y": "NSM",
          "yref": "y"
         },
         {
          "font": {
           "color": "#000000"
          },
          "showarrow": false,
          "text": "0.23",
          "x": "CO2",
          "xref": "x",
          "y": "NSM",
          "yref": "y"
         },
         {
          "font": {
           "color": "#000000"
          },
          "showarrow": false,
          "text": "0.57",
          "x": "Lag_PF",
          "xref": "x",
          "y": "NSM",
          "yref": "y"
         },
         {
          "font": {
           "color": "#FFFFFF"
          },
          "showarrow": false,
          "text": "-0.36",
          "x": "Lead_PF",
          "xref": "x",
          "y": "NSM",
          "yref": "y"
         },
         {
          "font": {
           "color": "#000000"
          },
          "showarrow": false,
          "text": "1.0",
          "x": "NSM",
          "xref": "x",
          "y": "NSM",
          "yref": "y"
         },
         {
          "font": {
           "color": "#000000"
          },
          "showarrow": false,
          "text": "0.0",
          "x": "WeekStatus_Weekday",
          "xref": "x",
          "y": "NSM",
          "yref": "y"
         },
         {
          "font": {
           "color": "#000000"
          },
          "showarrow": false,
          "text": "-0.0",
          "x": "WeekStatus_Weekend",
          "xref": "x",
          "y": "NSM",
          "yref": "y"
         },
         {
          "font": {
           "color": "#000000"
          },
          "showarrow": false,
          "text": "0.0",
          "x": "Day_of_week_Friday",
          "xref": "x",
          "y": "NSM",
          "yref": "y"
         },
         {
          "font": {
           "color": "#000000"
          },
          "showarrow": false,
          "text": "0.0",
          "x": "Day_of_week_Monday",
          "xref": "x",
          "y": "NSM",
          "yref": "y"
         },
         {
          "font": {
           "color": "#000000"
          },
          "showarrow": false,
          "text": "-0.0",
          "x": "Day_of_week_Saturday",
          "xref": "x",
          "y": "NSM",
          "yref": "y"
         },
         {
          "font": {
           "color": "#000000"
          },
          "showarrow": false,
          "text": "-0.0",
          "x": "Day_of_week_Sunday",
          "xref": "x",
          "y": "NSM",
          "yref": "y"
         },
         {
          "font": {
           "color": "#000000"
          },
          "showarrow": false,
          "text": "0.0",
          "x": "Day_of_week_Thursday",
          "xref": "x",
          "y": "NSM",
          "yref": "y"
         },
         {
          "font": {
           "color": "#000000"
          },
          "showarrow": false,
          "text": "-0.0",
          "x": "Day_of_week_Tuesday",
          "xref": "x",
          "y": "NSM",
          "yref": "y"
         },
         {
          "font": {
           "color": "#000000"
          },
          "showarrow": false,
          "text": "-0.0",
          "x": "Day_of_week_Wednesday",
          "xref": "x",
          "y": "NSM",
          "yref": "y"
         },
         {
          "font": {
           "color": "#FFFFFF"
          },
          "showarrow": false,
          "text": "-0.59",
          "x": "Load_Type_Light_Load",
          "xref": "x",
          "y": "NSM",
          "yref": "y"
         },
         {
          "font": {
           "color": "#000000"
          },
          "showarrow": false,
          "text": "0.21",
          "x": "Load_Type_Maximum_Load",
          "xref": "x",
          "y": "NSM",
          "yref": "y"
         },
         {
          "font": {
           "color": "#000000"
          },
          "showarrow": false,
          "text": "0.47",
          "x": "Load_Type_Medium_Load",
          "xref": "x",
          "y": "NSM",
          "yref": "y"
         },
         {
          "font": {
           "color": "#000000"
          },
          "showarrow": false,
          "text": "0.3",
          "x": "Usage",
          "xref": "x",
          "y": "WeekStatus_Weekday",
          "yref": "y"
         },
         {
          "font": {
           "color": "#000000"
          },
          "showarrow": false,
          "text": "0.32",
          "x": "Lag_RP",
          "xref": "x",
          "y": "WeekStatus_Weekday",
          "yref": "y"
         },
         {
          "font": {
           "color": "#FFFFFF"
          },
          "showarrow": false,
          "text": "-0.26",
          "x": "Lead_RP",
          "xref": "x",
          "y": "WeekStatus_Weekday",
          "yref": "y"
         },
         {
          "font": {
           "color": "#000000"
          },
          "showarrow": false,
          "text": "0.29",
          "x": "CO2",
          "xref": "x",
          "y": "WeekStatus_Weekday",
          "yref": "y"
         },
         {
          "font": {
           "color": "#FFFFFF"
          },
          "showarrow": false,
          "text": "-0.05",
          "x": "Lag_PF",
          "xref": "x",
          "y": "WeekStatus_Weekday",
          "yref": "y"
         },
         {
          "font": {
           "color": "#000000"
          },
          "showarrow": false,
          "text": "0.31",
          "x": "Lead_PF",
          "xref": "x",
          "y": "WeekStatus_Weekday",
          "yref": "y"
         },
         {
          "font": {
           "color": "#000000"
          },
          "showarrow": false,
          "text": "0.0",
          "x": "NSM",
          "xref": "x",
          "y": "WeekStatus_Weekday",
          "yref": "y"
         },
         {
          "font": {
           "color": "#000000"
          },
          "showarrow": false,
          "text": "1.0",
          "x": "WeekStatus_Weekday",
          "xref": "x",
          "y": "WeekStatus_Weekday",
          "yref": "y"
         },
         {
          "font": {
           "color": "#FFFFFF"
          },
          "showarrow": false,
          "text": "-1.0",
          "x": "WeekStatus_Weekend",
          "xref": "x",
          "y": "WeekStatus_Weekday",
          "yref": "y"
         },
         {
          "font": {
           "color": "#000000"
          },
          "showarrow": false,
          "text": "0.26",
          "x": "Day_of_week_Friday",
          "xref": "x",
          "y": "WeekStatus_Weekday",
          "yref": "y"
         },
         {
          "font": {
           "color": "#000000"
          },
          "showarrow": false,
          "text": "0.26",
          "x": "Day_of_week_Monday",
          "xref": "x",
          "y": "WeekStatus_Weekday",
          "yref": "y"
         },
         {
          "font": {
           "color": "#FFFFFF"
          },
          "showarrow": false,
          "text": "-0.65",
          "x": "Day_of_week_Saturday",
          "xref": "x",
          "y": "WeekStatus_Weekday",
          "yref": "y"
         },
         {
          "font": {
           "color": "#FFFFFF"
          },
          "showarrow": false,
          "text": "-0.65",
          "x": "Day_of_week_Sunday",
          "xref": "x",
          "y": "WeekStatus_Weekday",
          "yref": "y"
         },
         {
          "font": {
           "color": "#000000"
          },
          "showarrow": false,
          "text": "0.26",
          "x": "Day_of_week_Thursday",
          "xref": "x",
          "y": "WeekStatus_Weekday",
          "yref": "y"
         },
         {
          "font": {
           "color": "#000000"
          },
          "showarrow": false,
          "text": "0.26",
          "x": "Day_of_week_Tuesday",
          "xref": "x",
          "y": "WeekStatus_Weekday",
          "yref": "y"
         },
         {
          "font": {
           "color": "#000000"
          },
          "showarrow": false,
          "text": "0.26",
          "x": "Day_of_week_Wednesday",
          "xref": "x",
          "y": "WeekStatus_Weekday",
          "yref": "y"
         },
         {
          "font": {
           "color": "#FFFFFF"
          },
          "showarrow": false,
          "text": "-0.22",
          "x": "Load_Type_Light_Load",
          "xref": "x",
          "y": "WeekStatus_Weekday",
          "yref": "y"
         },
         {
          "font": {
           "color": "#000000"
          },
          "showarrow": false,
          "text": "0.12",
          "x": "Load_Type_Maximum_Load",
          "xref": "x",
          "y": "WeekStatus_Weekday",
          "yref": "y"
         },
         {
          "font": {
           "color": "#000000"
          },
          "showarrow": false,
          "text": "0.14",
          "x": "Load_Type_Medium_Load",
          "xref": "x",
          "y": "WeekStatus_Weekday",
          "yref": "y"
         },
         {
          "font": {
           "color": "#FFFFFF"
          },
          "showarrow": false,
          "text": "-0.3",
          "x": "Usage",
          "xref": "x",
          "y": "WeekStatus_Weekend",
          "yref": "y"
         },
         {
          "font": {
           "color": "#FFFFFF"
          },
          "showarrow": false,
          "text": "-0.32",
          "x": "Lag_RP",
          "xref": "x",
          "y": "WeekStatus_Weekend",
          "yref": "y"
         },
         {
          "font": {
           "color": "#000000"
          },
          "showarrow": false,
          "text": "0.26",
          "x": "Lead_RP",
          "xref": "x",
          "y": "WeekStatus_Weekend",
          "yref": "y"
         },
         {
          "font": {
           "color": "#FFFFFF"
          },
          "showarrow": false,
          "text": "-0.29",
          "x": "CO2",
          "xref": "x",
          "y": "WeekStatus_Weekend",
          "yref": "y"
         },
         {
          "font": {
           "color": "#000000"
          },
          "showarrow": false,
          "text": "0.05",
          "x": "Lag_PF",
          "xref": "x",
          "y": "WeekStatus_Weekend",
          "yref": "y"
         },
         {
          "font": {
           "color": "#FFFFFF"
          },
          "showarrow": false,
          "text": "-0.31",
          "x": "Lead_PF",
          "xref": "x",
          "y": "WeekStatus_Weekend",
          "yref": "y"
         },
         {
          "font": {
           "color": "#000000"
          },
          "showarrow": false,
          "text": "-0.0",
          "x": "NSM",
          "xref": "x",
          "y": "WeekStatus_Weekend",
          "yref": "y"
         },
         {
          "font": {
           "color": "#FFFFFF"
          },
          "showarrow": false,
          "text": "-1.0",
          "x": "WeekStatus_Weekday",
          "xref": "x",
          "y": "WeekStatus_Weekend",
          "yref": "y"
         },
         {
          "font": {
           "color": "#000000"
          },
          "showarrow": false,
          "text": "1.0",
          "x": "WeekStatus_Weekend",
          "xref": "x",
          "y": "WeekStatus_Weekend",
          "yref": "y"
         },
         {
          "font": {
           "color": "#FFFFFF"
          },
          "showarrow": false,
          "text": "-0.26",
          "x": "Day_of_week_Friday",
          "xref": "x",
          "y": "WeekStatus_Weekend",
          "yref": "y"
         },
         {
          "font": {
           "color": "#FFFFFF"
          },
          "showarrow": false,
          "text": "-0.26",
          "x": "Day_of_week_Monday",
          "xref": "x",
          "y": "WeekStatus_Weekend",
          "yref": "y"
         },
         {
          "font": {
           "color": "#000000"
          },
          "showarrow": false,
          "text": "0.65",
          "x": "Day_of_week_Saturday",
          "xref": "x",
          "y": "WeekStatus_Weekend",
          "yref": "y"
         },
         {
          "font": {
           "color": "#000000"
          },
          "showarrow": false,
          "text": "0.65",
          "x": "Day_of_week_Sunday",
          "xref": "x",
          "y": "WeekStatus_Weekend",
          "yref": "y"
         },
         {
          "font": {
           "color": "#FFFFFF"
          },
          "showarrow": false,
          "text": "-0.26",
          "x": "Day_of_week_Thursday",
          "xref": "x",
          "y": "WeekStatus_Weekend",
          "yref": "y"
         },
         {
          "font": {
           "color": "#FFFFFF"
          },
          "showarrow": false,
          "text": "-0.26",
          "x": "Day_of_week_Tuesday",
          "xref": "x",
          "y": "WeekStatus_Weekend",
          "yref": "y"
         },
         {
          "font": {
           "color": "#FFFFFF"
          },
          "showarrow": false,
          "text": "-0.26",
          "x": "Day_of_week_Wednesday",
          "xref": "x",
          "y": "WeekStatus_Weekend",
          "yref": "y"
         },
         {
          "font": {
           "color": "#000000"
          },
          "showarrow": false,
          "text": "0.22",
          "x": "Load_Type_Light_Load",
          "xref": "x",
          "y": "WeekStatus_Weekend",
          "yref": "y"
         },
         {
          "font": {
           "color": "#FFFFFF"
          },
          "showarrow": false,
          "text": "-0.12",
          "x": "Load_Type_Maximum_Load",
          "xref": "x",
          "y": "WeekStatus_Weekend",
          "yref": "y"
         },
         {
          "font": {
           "color": "#FFFFFF"
          },
          "showarrow": false,
          "text": "-0.14",
          "x": "Load_Type_Medium_Load",
          "xref": "x",
          "y": "WeekStatus_Weekend",
          "yref": "y"
         },
         {
          "font": {
           "color": "#000000"
          },
          "showarrow": false,
          "text": "0.07",
          "x": "Usage",
          "xref": "x",
          "y": "Day_of_week_Friday",
          "yref": "y"
         },
         {
          "font": {
           "color": "#000000"
          },
          "showarrow": false,
          "text": "0.08",
          "x": "Lag_RP",
          "xref": "x",
          "y": "Day_of_week_Friday",
          "yref": "y"
         },
         {
          "font": {
           "color": "#FFFFFF"
          },
          "showarrow": false,
          "text": "-0.07",
          "x": "Lead_RP",
          "xref": "x",
          "y": "Day_of_week_Friday",
          "yref": "y"
         },
         {
          "font": {
           "color": "#000000"
          },
          "showarrow": false,
          "text": "0.07",
          "x": "CO2",
          "xref": "x",
          "y": "Day_of_week_Friday",
          "yref": "y"
         },
         {
          "font": {
           "color": "#FFFFFF"
          },
          "showarrow": false,
          "text": "-0.02",
          "x": "Lag_PF",
          "xref": "x",
          "y": "Day_of_week_Friday",
          "yref": "y"
         },
         {
          "font": {
           "color": "#000000"
          },
          "showarrow": false,
          "text": "0.09",
          "x": "Lead_PF",
          "xref": "x",
          "y": "Day_of_week_Friday",
          "yref": "y"
         },
         {
          "font": {
           "color": "#000000"
          },
          "showarrow": false,
          "text": "0.0",
          "x": "NSM",
          "xref": "x",
          "y": "Day_of_week_Friday",
          "yref": "y"
         },
         {
          "font": {
           "color": "#000000"
          },
          "showarrow": false,
          "text": "0.26",
          "x": "WeekStatus_Weekday",
          "xref": "x",
          "y": "Day_of_week_Friday",
          "yref": "y"
         },
         {
          "font": {
           "color": "#FFFFFF"
          },
          "showarrow": false,
          "text": "-0.26",
          "x": "WeekStatus_Weekend",
          "xref": "x",
          "y": "Day_of_week_Friday",
          "yref": "y"
         },
         {
          "font": {
           "color": "#000000"
          },
          "showarrow": false,
          "text": "1.0",
          "x": "Day_of_week_Friday",
          "xref": "x",
          "y": "Day_of_week_Friday",
          "yref": "y"
         },
         {
          "font": {
           "color": "#FFFFFF"
          },
          "showarrow": false,
          "text": "-0.17",
          "x": "Day_of_week_Monday",
          "xref": "x",
          "y": "Day_of_week_Friday",
          "yref": "y"
         },
         {
          "font": {
           "color": "#FFFFFF"
          },
          "showarrow": false,
          "text": "-0.17",
          "x": "Day_of_week_Saturday",
          "xref": "x",
          "y": "Day_of_week_Friday",
          "yref": "y"
         },
         {
          "font": {
           "color": "#FFFFFF"
          },
          "showarrow": false,
          "text": "-0.17",
          "x": "Day_of_week_Sunday",
          "xref": "x",
          "y": "Day_of_week_Friday",
          "yref": "y"
         },
         {
          "font": {
           "color": "#FFFFFF"
          },
          "showarrow": false,
          "text": "-0.17",
          "x": "Day_of_week_Thursday",
          "xref": "x",
          "y": "Day_of_week_Friday",
          "yref": "y"
         },
         {
          "font": {
           "color": "#FFFFFF"
          },
          "showarrow": false,
          "text": "-0.17",
          "x": "Day_of_week_Tuesday",
          "xref": "x",
          "y": "Day_of_week_Friday",
          "yref": "y"
         },
         {
          "font": {
           "color": "#FFFFFF"
          },
          "showarrow": false,
          "text": "-0.17",
          "x": "Day_of_week_Wednesday",
          "xref": "x",
          "y": "Day_of_week_Friday",
          "yref": "y"
         },
         {
          "font": {
           "color": "#FFFFFF"
          },
          "showarrow": false,
          "text": "-0.06",
          "x": "Load_Type_Light_Load",
          "xref": "x",
          "y": "Day_of_week_Friday",
          "yref": "y"
         },
         {
          "font": {
           "color": "#000000"
          },
          "showarrow": false,
          "text": "0.03",
          "x": "Load_Type_Maximum_Load",
          "xref": "x",
          "y": "Day_of_week_Friday",
          "yref": "y"
         },
         {
          "font": {
           "color": "#000000"
          },
          "showarrow": false,
          "text": "0.04",
          "x": "Load_Type_Medium_Load",
          "xref": "x",
          "y": "Day_of_week_Friday",
          "yref": "y"
         },
         {
          "font": {
           "color": "#000000"
          },
          "showarrow": false,
          "text": "0.07",
          "x": "Usage",
          "xref": "x",
          "y": "Day_of_week_Monday",
          "yref": "y"
         },
         {
          "font": {
           "color": "#000000"
          },
          "showarrow": false,
          "text": "0.08",
          "x": "Lag_RP",
          "xref": "x",
          "y": "Day_of_week_Monday",
          "yref": "y"
         },
         {
          "font": {
           "color": "#FFFFFF"
          },
          "showarrow": false,
          "text": "-0.07",
          "x": "Lead_RP",
          "xref": "x",
          "y": "Day_of_week_Monday",
          "yref": "y"
         },
         {
          "font": {
           "color": "#000000"
          },
          "showarrow": false,
          "text": "0.07",
          "x": "CO2",
          "xref": "x",
          "y": "Day_of_week_Monday",
          "yref": "y"
         },
         {
          "font": {
           "color": "#FFFFFF"
          },
          "showarrow": false,
          "text": "-0.02",
          "x": "Lag_PF",
          "xref": "x",
          "y": "Day_of_week_Monday",
          "yref": "y"
         },
         {
          "font": {
           "color": "#000000"
          },
          "showarrow": false,
          "text": "0.08",
          "x": "Lead_PF",
          "xref": "x",
          "y": "Day_of_week_Monday",
          "yref": "y"
         },
         {
          "font": {
           "color": "#000000"
          },
          "showarrow": false,
          "text": "0.0",
          "x": "NSM",
          "xref": "x",
          "y": "Day_of_week_Monday",
          "yref": "y"
         },
         {
          "font": {
           "color": "#000000"
          },
          "showarrow": false,
          "text": "0.26",
          "x": "WeekStatus_Weekday",
          "xref": "x",
          "y": "Day_of_week_Monday",
          "yref": "y"
         },
         {
          "font": {
           "color": "#FFFFFF"
          },
          "showarrow": false,
          "text": "-0.26",
          "x": "WeekStatus_Weekend",
          "xref": "x",
          "y": "Day_of_week_Monday",
          "yref": "y"
         },
         {
          "font": {
           "color": "#FFFFFF"
          },
          "showarrow": false,
          "text": "-0.17",
          "x": "Day_of_week_Friday",
          "xref": "x",
          "y": "Day_of_week_Monday",
          "yref": "y"
         },
         {
          "font": {
           "color": "#000000"
          },
          "showarrow": false,
          "text": "1.0",
          "x": "Day_of_week_Monday",
          "xref": "x",
          "y": "Day_of_week_Monday",
          "yref": "y"
         },
         {
          "font": {
           "color": "#FFFFFF"
          },
          "showarrow": false,
          "text": "-0.17",
          "x": "Day_of_week_Saturday",
          "xref": "x",
          "y": "Day_of_week_Monday",
          "yref": "y"
         },
         {
          "font": {
           "color": "#FFFFFF"
          },
          "showarrow": false,
          "text": "-0.17",
          "x": "Day_of_week_Sunday",
          "xref": "x",
          "y": "Day_of_week_Monday",
          "yref": "y"
         },
         {
          "font": {
           "color": "#FFFFFF"
          },
          "showarrow": false,
          "text": "-0.17",
          "x": "Day_of_week_Thursday",
          "xref": "x",
          "y": "Day_of_week_Monday",
          "yref": "y"
         },
         {
          "font": {
           "color": "#FFFFFF"
          },
          "showarrow": false,
          "text": "-0.17",
          "x": "Day_of_week_Tuesday",
          "xref": "x",
          "y": "Day_of_week_Monday",
          "yref": "y"
         },
         {
          "font": {
           "color": "#FFFFFF"
          },
          "showarrow": false,
          "text": "-0.17",
          "x": "Day_of_week_Wednesday",
          "xref": "x",
          "y": "Day_of_week_Monday",
          "yref": "y"
         },
         {
          "font": {
           "color": "#FFFFFF"
          },
          "showarrow": false,
          "text": "-0.05",
          "x": "Load_Type_Light_Load",
          "xref": "x",
          "y": "Day_of_week_Monday",
          "yref": "y"
         },
         {
          "font": {
           "color": "#000000"
          },
          "showarrow": false,
          "text": "0.03",
          "x": "Load_Type_Maximum_Load",
          "xref": "x",
          "y": "Day_of_week_Monday",
          "yref": "y"
         },
         {
          "font": {
           "color": "#000000"
          },
          "showarrow": false,
          "text": "0.03",
          "x": "Load_Type_Medium_Load",
          "xref": "x",
          "y": "Day_of_week_Monday",
          "yref": "y"
         },
         {
          "font": {
           "color": "#FFFFFF"
          },
          "showarrow": false,
          "text": "-0.14",
          "x": "Usage",
          "xref": "x",
          "y": "Day_of_week_Saturday",
          "yref": "y"
         },
         {
          "font": {
           "color": "#FFFFFF"
          },
          "showarrow": false,
          "text": "-0.17",
          "x": "Lag_RP",
          "xref": "x",
          "y": "Day_of_week_Saturday",
          "yref": "y"
         },
         {
          "font": {
           "color": "#000000"
          },
          "showarrow": false,
          "text": "0.13",
          "x": "Lead_RP",
          "xref": "x",
          "y": "Day_of_week_Saturday",
          "yref": "y"
         },
         {
          "font": {
           "color": "#FFFFFF"
          },
          "showarrow": false,
          "text": "-0.14",
          "x": "CO2",
          "xref": "x",
          "y": "Day_of_week_Saturday",
          "yref": "y"
         },
         {
          "font": {
           "color": "#000000"
          },
          "showarrow": false,
          "text": "0.04",
          "x": "Lag_PF",
          "xref": "x",
          "y": "Day_of_week_Saturday",
          "yref": "y"
         },
         {
          "font": {
           "color": "#FFFFFF"
          },
          "showarrow": false,
          "text": "-0.13",
          "x": "Lead_PF",
          "xref": "x",
          "y": "Day_of_week_Saturday",
          "yref": "y"
         },
         {
          "font": {
           "color": "#000000"
          },
          "showarrow": false,
          "text": "-0.0",
          "x": "NSM",
          "xref": "x",
          "y": "Day_of_week_Saturday",
          "yref": "y"
         },
         {
          "font": {
           "color": "#FFFFFF"
          },
          "showarrow": false,
          "text": "-0.65",
          "x": "WeekStatus_Weekday",
          "xref": "x",
          "y": "Day_of_week_Saturday",
          "yref": "y"
         },
         {
          "font": {
           "color": "#000000"
          },
          "showarrow": false,
          "text": "0.65",
          "x": "WeekStatus_Weekend",
          "xref": "x",
          "y": "Day_of_week_Saturday",
          "yref": "y"
         },
         {
          "font": {
           "color": "#FFFFFF"
          },
          "showarrow": false,
          "text": "-0.17",
          "x": "Day_of_week_Friday",
          "xref": "x",
          "y": "Day_of_week_Saturday",
          "yref": "y"
         },
         {
          "font": {
           "color": "#FFFFFF"
          },
          "showarrow": false,
          "text": "-0.17",
          "x": "Day_of_week_Monday",
          "xref": "x",
          "y": "Day_of_week_Saturday",
          "yref": "y"
         },
         {
          "font": {
           "color": "#000000"
          },
          "showarrow": false,
          "text": "1.0",
          "x": "Day_of_week_Saturday",
          "xref": "x",
          "y": "Day_of_week_Saturday",
          "yref": "y"
         },
         {
          "font": {
           "color": "#FFFFFF"
          },
          "showarrow": false,
          "text": "-0.17",
          "x": "Day_of_week_Sunday",
          "xref": "x",
          "y": "Day_of_week_Saturday",
          "yref": "y"
         },
         {
          "font": {
           "color": "#FFFFFF"
          },
          "showarrow": false,
          "text": "-0.17",
          "x": "Day_of_week_Thursday",
          "xref": "x",
          "y": "Day_of_week_Saturday",
          "yref": "y"
         },
         {
          "font": {
           "color": "#FFFFFF"
          },
          "showarrow": false,
          "text": "-0.17",
          "x": "Day_of_week_Tuesday",
          "xref": "x",
          "y": "Day_of_week_Saturday",
          "yref": "y"
         },
         {
          "font": {
           "color": "#FFFFFF"
          },
          "showarrow": false,
          "text": "-0.17",
          "x": "Day_of_week_Wednesday",
          "xref": "x",
          "y": "Day_of_week_Saturday",
          "yref": "y"
         },
         {
          "font": {
           "color": "#000000"
          },
          "showarrow": false,
          "text": "0.05",
          "x": "Load_Type_Light_Load",
          "xref": "x",
          "y": "Day_of_week_Saturday",
          "yref": "y"
         },
         {
          "font": {
           "color": "#FFFFFF"
          },
          "showarrow": false,
          "text": "-0.02",
          "x": "Load_Type_Maximum_Load",
          "xref": "x",
          "y": "Day_of_week_Saturday",
          "yref": "y"
         },
         {
          "font": {
           "color": "#FFFFFF"
          },
          "showarrow": false,
          "text": "-0.03",
          "x": "Load_Type_Medium_Load",
          "xref": "x",
          "y": "Day_of_week_Saturday",
          "yref": "y"
         },
         {
          "font": {
           "color": "#FFFFFF"
          },
          "showarrow": false,
          "text": "-0.24",
          "x": "Usage",
          "xref": "x",
          "y": "Day_of_week_Sunday",
          "yref": "y"
         },
         {
          "font": {
           "color": "#FFFFFF"
          },
          "showarrow": false,
          "text": "-0.24",
          "x": "Lag_RP",
          "xref": "x",
          "y": "Day_of_week_Sunday",
          "yref": "y"
         },
         {
          "font": {
           "color": "#000000"
          },
          "showarrow": false,
          "text": "0.21",
          "x": "Lead_RP",
          "xref": "x",
          "y": "Day_of_week_Sunday",
          "yref": "y"
         },
         {
          "font": {
           "color": "#FFFFFF"
          },
          "showarrow": false,
          "text": "-0.24",
          "x": "CO2",
          "xref": "x",
          "y": "Day_of_week_Sunday",
          "yref": "y"
         },
         {
          "font": {
           "color": "#000000"
          },
          "showarrow": false,
          "text": "0.03",
          "x": "Lag_PF",
          "xref": "x",
          "y": "Day_of_week_Sunday",
          "yref": "y"
         },
         {
          "font": {
           "color": "#FFFFFF"
          },
          "showarrow": false,
          "text": "-0.27",
          "x": "Lead_PF",
          "xref": "x",
          "y": "Day_of_week_Sunday",
          "yref": "y"
         },
         {
          "font": {
           "color": "#000000"
          },
          "showarrow": false,
          "text": "-0.0",
          "x": "NSM",
          "xref": "x",
          "y": "Day_of_week_Sunday",
          "yref": "y"
         },
         {
          "font": {
           "color": "#FFFFFF"
          },
          "showarrow": false,
          "text": "-0.65",
          "x": "WeekStatus_Weekday",
          "xref": "x",
          "y": "Day_of_week_Sunday",
          "yref": "y"
         },
         {
          "font": {
           "color": "#000000"
          },
          "showarrow": false,
          "text": "0.65",
          "x": "WeekStatus_Weekend",
          "xref": "x",
          "y": "Day_of_week_Sunday",
          "yref": "y"
         },
         {
          "font": {
           "color": "#FFFFFF"
          },
          "showarrow": false,
          "text": "-0.17",
          "x": "Day_of_week_Friday",
          "xref": "x",
          "y": "Day_of_week_Sunday",
          "yref": "y"
         },
         {
          "font": {
           "color": "#FFFFFF"
          },
          "showarrow": false,
          "text": "-0.17",
          "x": "Day_of_week_Monday",
          "xref": "x",
          "y": "Day_of_week_Sunday",
          "yref": "y"
         },
         {
          "font": {
           "color": "#FFFFFF"
          },
          "showarrow": false,
          "text": "-0.17",
          "x": "Day_of_week_Saturday",
          "xref": "x",
          "y": "Day_of_week_Sunday",
          "yref": "y"
         },
         {
          "font": {
           "color": "#000000"
          },
          "showarrow": false,
          "text": "1.0",
          "x": "Day_of_week_Sunday",
          "xref": "x",
          "y": "Day_of_week_Sunday",
          "yref": "y"
         },
         {
          "font": {
           "color": "#FFFFFF"
          },
          "showarrow": false,
          "text": "-0.17",
          "x": "Day_of_week_Thursday",
          "xref": "x",
          "y": "Day_of_week_Sunday",
          "yref": "y"
         },
         {
          "font": {
           "color": "#FFFFFF"
          },
          "showarrow": false,
          "text": "-0.17",
          "x": "Day_of_week_Tuesday",
          "xref": "x",
          "y": "Day_of_week_Sunday",
          "yref": "y"
         },
         {
          "font": {
           "color": "#FFFFFF"
          },
          "showarrow": false,
          "text": "-0.17",
          "x": "Day_of_week_Wednesday",
          "xref": "x",
          "y": "Day_of_week_Sunday",
          "yref": "y"
         },
         {
          "font": {
           "color": "#000000"
          },
          "showarrow": false,
          "text": "0.24",
          "x": "Load_Type_Light_Load",
          "xref": "x",
          "y": "Day_of_week_Sunday",
          "yref": "y"
         },
         {
          "font": {
           "color": "#FFFFFF"
          },
          "showarrow": false,
          "text": "-0.13",
          "x": "Load_Type_Maximum_Load",
          "xref": "x",
          "y": "Day_of_week_Sunday",
          "yref": "y"
         },
         {
          "font": {
           "color": "#FFFFFF"
          },
          "showarrow": false,
          "text": "-0.15",
          "x": "Load_Type_Medium_Load",
          "xref": "x",
          "y": "Day_of_week_Sunday",
          "yref": "y"
         },
         {
          "font": {
           "color": "#000000"
          },
          "showarrow": false,
          "text": "0.09",
          "x": "Usage",
          "xref": "x",
          "y": "Day_of_week_Thursday",
          "yref": "y"
         },
         {
          "font": {
           "color": "#000000"
          },
          "showarrow": false,
          "text": "0.11",
          "x": "Lag_RP",
          "xref": "x",
          "y": "Day_of_week_Thursday",
          "yref": "y"
         },
         {
          "font": {
           "color": "#FFFFFF"
          },
          "showarrow": false,
          "text": "-0.08",
          "x": "Lead_RP",
          "xref": "x",
          "y": "Day_of_week_Thursday",
          "yref": "y"
         },
         {
          "font": {
           "color": "#000000"
          },
          "showarrow": false,
          "text": "0.1",
          "x": "CO2",
          "xref": "x",
          "y": "Day_of_week_Thursday",
          "yref": "y"
         },
         {
          "font": {
           "color": "#FFFFFF"
          },
          "showarrow": false,
          "text": "-0.02",
          "x": "Lag_PF",
          "xref": "x",
          "y": "Day_of_week_Thursday",
          "yref": "y"
         },
         {
          "font": {
           "color": "#000000"
          },
          "showarrow": false,
          "text": "0.1",
          "x": "Lead_PF",
          "xref": "x",
          "y": "Day_of_week_Thursday",
          "yref": "y"
         },
         {
          "font": {
           "color": "#000000"
          },
          "showarrow": false,
          "text": "0.0",
          "x": "NSM",
          "xref": "x",
          "y": "Day_of_week_Thursday",
          "yref": "y"
         },
         {
          "font": {
           "color": "#000000"
          },
          "showarrow": false,
          "text": "0.26",
          "x": "WeekStatus_Weekday",
          "xref": "x",
          "y": "Day_of_week_Thursday",
          "yref": "y"
         },
         {
          "font": {
           "color": "#FFFFFF"
          },
          "showarrow": false,
          "text": "-0.26",
          "x": "WeekStatus_Weekend",
          "xref": "x",
          "y": "Day_of_week_Thursday",
          "yref": "y"
         },
         {
          "font": {
           "color": "#FFFFFF"
          },
          "showarrow": false,
          "text": "-0.17",
          "x": "Day_of_week_Friday",
          "xref": "x",
          "y": "Day_of_week_Thursday",
          "yref": "y"
         },
         {
          "font": {
           "color": "#FFFFFF"
          },
          "showarrow": false,
          "text": "-0.17",
          "x": "Day_of_week_Monday",
          "xref": "x",
          "y": "Day_of_week_Thursday",
          "yref": "y"
         },
         {
          "font": {
           "color": "#FFFFFF"
          },
          "showarrow": false,
          "text": "-0.17",
          "x": "Day_of_week_Saturday",
          "xref": "x",
          "y": "Day_of_week_Thursday",
          "yref": "y"
         },
         {
          "font": {
           "color": "#FFFFFF"
          },
          "showarrow": false,
          "text": "-0.17",
          "x": "Day_of_week_Sunday",
          "xref": "x",
          "y": "Day_of_week_Thursday",
          "yref": "y"
         },
         {
          "font": {
           "color": "#000000"
          },
          "showarrow": false,
          "text": "1.0",
          "x": "Day_of_week_Thursday",
          "xref": "x",
          "y": "Day_of_week_Thursday",
          "yref": "y"
         },
         {
          "font": {
           "color": "#FFFFFF"
          },
          "showarrow": false,
          "text": "-0.17",
          "x": "Day_of_week_Tuesday",
          "xref": "x",
          "y": "Day_of_week_Thursday",
          "yref": "y"
         },
         {
          "font": {
           "color": "#FFFFFF"
          },
          "showarrow": false,
          "text": "-0.17",
          "x": "Day_of_week_Wednesday",
          "xref": "x",
          "y": "Day_of_week_Thursday",
          "yref": "y"
         },
         {
          "font": {
           "color": "#FFFFFF"
          },
          "showarrow": false,
          "text": "-0.06",
          "x": "Load_Type_Light_Load",
          "xref": "x",
          "y": "Day_of_week_Thursday",
          "yref": "y"
         },
         {
          "font": {
           "color": "#000000"
          },
          "showarrow": false,
          "text": "0.03",
          "x": "Load_Type_Maximum_Load",
          "xref": "x",
          "y": "Day_of_week_Thursday",
          "yref": "y"
         },
         {
          "font": {
           "color": "#000000"
          },
          "showarrow": false,
          "text": "0.04",
          "x": "Load_Type_Medium_Load",
          "xref": "x",
          "y": "Day_of_week_Thursday",
          "yref": "y"
         },
         {
          "font": {
           "color": "#000000"
          },
          "showarrow": false,
          "text": "0.09",
          "x": "Usage",
          "xref": "x",
          "y": "Day_of_week_Tuesday",
          "yref": "y"
         },
         {
          "font": {
           "color": "#000000"
          },
          "showarrow": false,
          "text": "0.09",
          "x": "Lag_RP",
          "xref": "x",
          "y": "Day_of_week_Tuesday",
          "yref": "y"
         },
         {
          "font": {
           "color": "#FFFFFF"
          },
          "showarrow": false,
          "text": "-0.07",
          "x": "Lead_RP",
          "xref": "x",
          "y": "Day_of_week_Tuesday",
          "yref": "y"
         },
         {
          "font": {
           "color": "#000000"
          },
          "showarrow": false,
          "text": "0.08",
          "x": "CO2",
          "xref": "x",
          "y": "Day_of_week_Tuesday",
          "yref": "y"
         },
         {
          "font": {
           "color": "#FFFFFF"
          },
          "showarrow": false,
          "text": "-0.01",
          "x": "Lag_PF",
          "xref": "x",
          "y": "Day_of_week_Tuesday",
          "yref": "y"
         },
         {
          "font": {
           "color": "#000000"
          },
          "showarrow": false,
          "text": "0.09",
          "x": "Lead_PF",
          "xref": "x",
          "y": "Day_of_week_Tuesday",
          "yref": "y"
         },
         {
          "font": {
           "color": "#000000"
          },
          "showarrow": false,
          "text": "-0.0",
          "x": "NSM",
          "xref": "x",
          "y": "Day_of_week_Tuesday",
          "yref": "y"
         },
         {
          "font": {
           "color": "#000000"
          },
          "showarrow": false,
          "text": "0.26",
          "x": "WeekStatus_Weekday",
          "xref": "x",
          "y": "Day_of_week_Tuesday",
          "yref": "y"
         },
         {
          "font": {
           "color": "#FFFFFF"
          },
          "showarrow": false,
          "text": "-0.26",
          "x": "WeekStatus_Weekend",
          "xref": "x",
          "y": "Day_of_week_Tuesday",
          "yref": "y"
         },
         {
          "font": {
           "color": "#FFFFFF"
          },
          "showarrow": false,
          "text": "-0.17",
          "x": "Day_of_week_Friday",
          "xref": "x",
          "y": "Day_of_week_Tuesday",
          "yref": "y"
         },
         {
          "font": {
           "color": "#FFFFFF"
          },
          "showarrow": false,
          "text": "-0.17",
          "x": "Day_of_week_Monday",
          "xref": "x",
          "y": "Day_of_week_Tuesday",
          "yref": "y"
         },
         {
          "font": {
           "color": "#FFFFFF"
          },
          "showarrow": false,
          "text": "-0.17",
          "x": "Day_of_week_Saturday",
          "xref": "x",
          "y": "Day_of_week_Tuesday",
          "yref": "y"
         },
         {
          "font": {
           "color": "#FFFFFF"
          },
          "showarrow": false,
          "text": "-0.17",
          "x": "Day_of_week_Sunday",
          "xref": "x",
          "y": "Day_of_week_Tuesday",
          "yref": "y"
         },
         {
          "font": {
           "color": "#FFFFFF"
          },
          "showarrow": false,
          "text": "-0.17",
          "x": "Day_of_week_Thursday",
          "xref": "x",
          "y": "Day_of_week_Tuesday",
          "yref": "y"
         },
         {
          "font": {
           "color": "#000000"
          },
          "showarrow": false,
          "text": "1.0",
          "x": "Day_of_week_Tuesday",
          "xref": "x",
          "y": "Day_of_week_Tuesday",
          "yref": "y"
         },
         {
          "font": {
           "color": "#FFFFFF"
          },
          "showarrow": false,
          "text": "-0.17",
          "x": "Day_of_week_Wednesday",
          "xref": "x",
          "y": "Day_of_week_Tuesday",
          "yref": "y"
         },
         {
          "font": {
           "color": "#FFFFFF"
          },
          "showarrow": false,
          "text": "-0.05",
          "x": "Load_Type_Light_Load",
          "xref": "x",
          "y": "Day_of_week_Tuesday",
          "yref": "y"
         },
         {
          "font": {
           "color": "#000000"
          },
          "showarrow": false,
          "text": "0.03",
          "x": "Load_Type_Maximum_Load",
          "xref": "x",
          "y": "Day_of_week_Tuesday",
          "yref": "y"
         },
         {
          "font": {
           "color": "#000000"
          },
          "showarrow": false,
          "text": "0.03",
          "x": "Load_Type_Medium_Load",
          "xref": "x",
          "y": "Day_of_week_Tuesday",
          "yref": "y"
         },
         {
          "font": {
           "color": "#000000"
          },
          "showarrow": false,
          "text": "0.06",
          "x": "Usage",
          "xref": "x",
          "y": "Day_of_week_Wednesday",
          "yref": "y"
         },
         {
          "font": {
           "color": "#000000"
          },
          "showarrow": false,
          "text": "0.06",
          "x": "Lag_RP",
          "xref": "x",
          "y": "Day_of_week_Wednesday",
          "yref": "y"
         },
         {
          "font": {
           "color": "#FFFFFF"
          },
          "showarrow": false,
          "text": "-0.04",
          "x": "Lead_RP",
          "xref": "x",
          "y": "Day_of_week_Wednesday",
          "yref": "y"
         },
         {
          "font": {
           "color": "#000000"
          },
          "showarrow": false,
          "text": "0.06",
          "x": "CO2",
          "xref": "x",
          "y": "Day_of_week_Wednesday",
          "yref": "y"
         },
         {
          "font": {
           "color": "#FFFFFF"
          },
          "showarrow": false,
          "text": "-0.0",
          "x": "Lag_PF",
          "xref": "x",
          "y": "Day_of_week_Wednesday",
          "yref": "y"
         },
         {
          "font": {
           "color": "#000000"
          },
          "showarrow": false,
          "text": "0.05",
          "x": "Lead_PF",
          "xref": "x",
          "y": "Day_of_week_Wednesday",
          "yref": "y"
         },
         {
          "font": {
           "color": "#000000"
          },
          "showarrow": false,
          "text": "-0.0",
          "x": "NSM",
          "xref": "x",
          "y": "Day_of_week_Wednesday",
          "yref": "y"
         },
         {
          "font": {
           "color": "#000000"
          },
          "showarrow": false,
          "text": "0.26",
          "x": "WeekStatus_Weekday",
          "xref": "x",
          "y": "Day_of_week_Wednesday",
          "yref": "y"
         },
         {
          "font": {
           "color": "#FFFFFF"
          },
          "showarrow": false,
          "text": "-0.26",
          "x": "WeekStatus_Weekend",
          "xref": "x",
          "y": "Day_of_week_Wednesday",
          "yref": "y"
         },
         {
          "font": {
           "color": "#FFFFFF"
          },
          "showarrow": false,
          "text": "-0.17",
          "x": "Day_of_week_Friday",
          "xref": "x",
          "y": "Day_of_week_Wednesday",
          "yref": "y"
         },
         {
          "font": {
           "color": "#FFFFFF"
          },
          "showarrow": false,
          "text": "-0.17",
          "x": "Day_of_week_Monday",
          "xref": "x",
          "y": "Day_of_week_Wednesday",
          "yref": "y"
         },
         {
          "font": {
           "color": "#FFFFFF"
          },
          "showarrow": false,
          "text": "-0.17",
          "x": "Day_of_week_Saturday",
          "xref": "x",
          "y": "Day_of_week_Wednesday",
          "yref": "y"
         },
         {
          "font": {
           "color": "#FFFFFF"
          },
          "showarrow": false,
          "text": "-0.17",
          "x": "Day_of_week_Sunday",
          "xref": "x",
          "y": "Day_of_week_Wednesday",
          "yref": "y"
         },
         {
          "font": {
           "color": "#FFFFFF"
          },
          "showarrow": false,
          "text": "-0.17",
          "x": "Day_of_week_Thursday",
          "xref": "x",
          "y": "Day_of_week_Wednesday",
          "yref": "y"
         },
         {
          "font": {
           "color": "#FFFFFF"
          },
          "showarrow": false,
          "text": "-0.17",
          "x": "Day_of_week_Tuesday",
          "xref": "x",
          "y": "Day_of_week_Wednesday",
          "yref": "y"
         },
         {
          "font": {
           "color": "#000000"
          },
          "showarrow": false,
          "text": "1.0",
          "x": "Day_of_week_Wednesday",
          "xref": "x",
          "y": "Day_of_week_Wednesday",
          "yref": "y"
         },
         {
          "font": {
           "color": "#FFFFFF"
          },
          "showarrow": false,
          "text": "-0.05",
          "x": "Load_Type_Light_Load",
          "xref": "x",
          "y": "Day_of_week_Wednesday",
          "yref": "y"
         },
         {
          "font": {
           "color": "#000000"
          },
          "showarrow": false,
          "text": "0.03",
          "x": "Load_Type_Maximum_Load",
          "xref": "x",
          "y": "Day_of_week_Wednesday",
          "yref": "y"
         },
         {
          "font": {
           "color": "#000000"
          },
          "showarrow": false,
          "text": "0.03",
          "x": "Load_Type_Medium_Load",
          "xref": "x",
          "y": "Day_of_week_Wednesday",
          "yref": "y"
         },
         {
          "font": {
           "color": "#FFFFFF"
          },
          "showarrow": false,
          "text": "-0.58",
          "x": "Usage",
          "xref": "x",
          "y": "Load_Type_Light_Load",
          "yref": "y"
         },
         {
          "font": {
           "color": "#FFFFFF"
          },
          "showarrow": false,
          "text": "-0.38",
          "x": "Lag_RP",
          "xref": "x",
          "y": "Load_Type_Light_Load",
          "yref": "y"
         },
         {
          "font": {
           "color": "#FFFFFF"
          },
          "showarrow": false,
          "text": "-0.13",
          "x": "Lead_RP",
          "xref": "x",
          "y": "Load_Type_Light_Load",
          "yref": "y"
         },
         {
          "font": {
           "color": "#FFFFFF"
          },
          "showarrow": false,
          "text": "-0.57",
          "x": "CO2",
          "xref": "x",
          "y": "Load_Type_Light_Load",
          "yref": "y"
         },
         {
          "font": {
           "color": "#FFFFFF"
          },
          "showarrow": false,
          "text": "-0.59",
          "x": "Lag_PF",
          "xref": "x",
          "y": "Load_Type_Light_Load",
          "yref": "y"
         },
         {
          "font": {
           "color": "#000000"
          },
          "showarrow": false,
          "text": "0.04",
          "x": "Lead_PF",
          "xref": "x",
          "y": "Load_Type_Light_Load",
          "yref": "y"
         },
         {
          "font": {
           "color": "#FFFFFF"
          },
          "showarrow": false,
          "text": "-0.59",
          "x": "NSM",
          "xref": "x",
          "y": "Load_Type_Light_Load",
          "yref": "y"
         },
         {
          "font": {
           "color": "#FFFFFF"
          },
          "showarrow": false,
          "text": "-0.22",
          "x": "WeekStatus_Weekday",
          "xref": "x",
          "y": "Load_Type_Light_Load",
          "yref": "y"
         },
         {
          "font": {
           "color": "#000000"
          },
          "showarrow": false,
          "text": "0.22",
          "x": "WeekStatus_Weekend",
          "xref": "x",
          "y": "Load_Type_Light_Load",
          "yref": "y"
         },
         {
          "font": {
           "color": "#FFFFFF"
          },
          "showarrow": false,
          "text": "-0.06",
          "x": "Day_of_week_Friday",
          "xref": "x",
          "y": "Load_Type_Light_Load",
          "yref": "y"
         },
         {
          "font": {
           "color": "#FFFFFF"
          },
          "showarrow": false,
          "text": "-0.05",
          "x": "Day_of_week_Monday",
          "xref": "x",
          "y": "Load_Type_Light_Load",
          "yref": "y"
         },
         {
          "font": {
           "color": "#000000"
          },
          "showarrow": false,
          "text": "0.05",
          "x": "Day_of_week_Saturday",
          "xref": "x",
          "y": "Load_Type_Light_Load",
          "yref": "y"
         },
         {
          "font": {
           "color": "#000000"
          },
          "showarrow": false,
          "text": "0.24",
          "x": "Day_of_week_Sunday",
          "xref": "x",
          "y": "Load_Type_Light_Load",
          "yref": "y"
         },
         {
          "font": {
           "color": "#FFFFFF"
          },
          "showarrow": false,
          "text": "-0.06",
          "x": "Day_of_week_Thursday",
          "xref": "x",
          "y": "Load_Type_Light_Load",
          "yref": "y"
         },
         {
          "font": {
           "color": "#FFFFFF"
          },
          "showarrow": false,
          "text": "-0.05",
          "x": "Day_of_week_Tuesday",
          "xref": "x",
          "y": "Load_Type_Light_Load",
          "yref": "y"
         },
         {
          "font": {
           "color": "#FFFFFF"
          },
          "showarrow": false,
          "text": "-0.05",
          "x": "Day_of_week_Wednesday",
          "xref": "x",
          "y": "Load_Type_Light_Load",
          "yref": "y"
         },
         {
          "font": {
           "color": "#000000"
          },
          "showarrow": false,
          "text": "1.0",
          "x": "Load_Type_Light_Load",
          "xref": "x",
          "y": "Load_Type_Light_Load",
          "yref": "y"
         },
         {
          "font": {
           "color": "#FFFFFF"
          },
          "showarrow": false,
          "text": "-0.53",
          "x": "Load_Type_Maximum_Load",
          "xref": "x",
          "y": "Load_Type_Light_Load",
          "yref": "y"
         },
         {
          "font": {
           "color": "#FFFFFF"
          },
          "showarrow": false,
          "text": "-0.64",
          "x": "Load_Type_Medium_Load",
          "xref": "x",
          "y": "Load_Type_Light_Load",
          "yref": "y"
         },
         {
          "font": {
           "color": "#000000"
          },
          "showarrow": false,
          "text": "0.49",
          "x": "Usage",
          "xref": "x",
          "y": "Load_Type_Maximum_Load",
          "yref": "y"
         },
         {
          "font": {
           "color": "#000000"
          },
          "showarrow": false,
          "text": "0.41",
          "x": "Lag_RP",
          "xref": "x",
          "y": "Load_Type_Maximum_Load",
          "yref": "y"
         },
         {
          "font": {
           "color": "#FFFFFF"
          },
          "showarrow": false,
          "text": "-0.16",
          "x": "Lead_RP",
          "xref": "x",
          "y": "Load_Type_Maximum_Load",
          "yref": "y"
         },
         {
          "font": {
           "color": "#000000"
          },
          "showarrow": false,
          "text": "0.49",
          "x": "CO2",
          "xref": "x",
          "y": "Load_Type_Maximum_Load",
          "yref": "y"
         },
         {
          "font": {
           "color": "#000000"
          },
          "showarrow": false,
          "text": "0.28",
          "x": "Lag_PF",
          "xref": "x",
          "y": "Load_Type_Maximum_Load",
          "yref": "y"
         },
         {
          "font": {
           "color": "#000000"
          },
          "showarrow": false,
          "text": "0.19",
          "x": "Lead_PF",
          "xref": "x",
          "y": "Load_Type_Maximum_Load",
          "yref": "y"
         },
         {
          "font": {
           "color": "#000000"
          },
          "showarrow": false,
          "text": "0.21",
          "x": "NSM",
          "xref": "x",
          "y": "Load_Type_Maximum_Load",
          "yref": "y"
         },
         {
          "font": {
           "color": "#000000"
          },
          "showarrow": false,
          "text": "0.12",
          "x": "WeekStatus_Weekday",
          "xref": "x",
          "y": "Load_Type_Maximum_Load",
          "yref": "y"
         },
         {
          "font": {
           "color": "#FFFFFF"
          },
          "showarrow": false,
          "text": "-0.12",
          "x": "WeekStatus_Weekend",
          "xref": "x",
          "y": "Load_Type_Maximum_Load",
          "yref": "y"
         },
         {
          "font": {
           "color": "#000000"
          },
          "showarrow": false,
          "text": "0.03",
          "x": "Day_of_week_Friday",
          "xref": "x",
          "y": "Load_Type_Maximum_Load",
          "yref": "y"
         },
         {
          "font": {
           "color": "#000000"
          },
          "showarrow": false,
          "text": "0.03",
          "x": "Day_of_week_Monday",
          "xref": "x",
          "y": "Load_Type_Maximum_Load",
          "yref": "y"
         },
         {
          "font": {
           "color": "#FFFFFF"
          },
          "showarrow": false,
          "text": "-0.02",
          "x": "Day_of_week_Saturday",
          "xref": "x",
          "y": "Load_Type_Maximum_Load",
          "yref": "y"
         },
         {
          "font": {
           "color": "#FFFFFF"
          },
          "showarrow": false,
          "text": "-0.13",
          "x": "Day_of_week_Sunday",
          "xref": "x",
          "y": "Load_Type_Maximum_Load",
          "yref": "y"
         },
         {
          "font": {
           "color": "#000000"
          },
          "showarrow": false,
          "text": "0.03",
          "x": "Day_of_week_Thursday",
          "xref": "x",
          "y": "Load_Type_Maximum_Load",
          "yref": "y"
         },
         {
          "font": {
           "color": "#000000"
          },
          "showarrow": false,
          "text": "0.03",
          "x": "Day_of_week_Tuesday",
          "xref": "x",
          "y": "Load_Type_Maximum_Load",
          "yref": "y"
         },
         {
          "font": {
           "color": "#000000"
          },
          "showarrow": false,
          "text": "0.03",
          "x": "Day_of_week_Wednesday",
          "xref": "x",
          "y": "Load_Type_Maximum_Load",
          "yref": "y"
         },
         {
          "font": {
           "color": "#FFFFFF"
          },
          "showarrow": false,
          "text": "-0.53",
          "x": "Load_Type_Light_Load",
          "xref": "x",
          "y": "Load_Type_Maximum_Load",
          "yref": "y"
         },
         {
          "font": {
           "color": "#000000"
          },
          "showarrow": false,
          "text": "1.0",
          "x": "Load_Type_Maximum_Load",
          "xref": "x",
          "y": "Load_Type_Maximum_Load",
          "yref": "y"
         },
         {
          "font": {
           "color": "#FFFFFF"
          },
          "showarrow": false,
          "text": "-0.32",
          "x": "Load_Type_Medium_Load",
          "xref": "x",
          "y": "Load_Type_Maximum_Load",
          "yref": "y"
         },
         {
          "font": {
           "color": "#000000"
          },
          "showarrow": false,
          "text": "0.2",
          "x": "Usage",
          "xref": "x",
          "y": "Load_Type_Medium_Load",
          "yref": "y"
         },
         {
          "font": {
           "color": "#000000"
          },
          "showarrow": false,
          "text": "0.05",
          "x": "Lag_RP",
          "xref": "x",
          "y": "Load_Type_Medium_Load",
          "yref": "y"
         },
         {
          "font": {
           "color": "#000000"
          },
          "showarrow": false,
          "text": "0.28",
          "x": "Lead_RP",
          "xref": "x",
          "y": "Load_Type_Medium_Load",
          "yref": "y"
         },
         {
          "font": {
           "color": "#000000"
          },
          "showarrow": false,
          "text": "0.2",
          "x": "CO2",
          "xref": "x",
          "y": "Load_Type_Medium_Load",
          "yref": "y"
         },
         {
          "font": {
           "color": "#000000"
          },
          "showarrow": false,
          "text": "0.41",
          "x": "Lag_PF",
          "xref": "x",
          "y": "Load_Type_Medium_Load",
          "yref": "y"
         },
         {
          "font": {
           "color": "#FFFFFF"
          },
          "showarrow": false,
          "text": "-0.21",
          "x": "Lead_PF",
          "xref": "x",
          "y": "Load_Type_Medium_Load",
          "yref": "y"
         },
         {
          "font": {
           "color": "#000000"
          },
          "showarrow": false,
          "text": "0.47",
          "x": "NSM",
          "xref": "x",
          "y": "Load_Type_Medium_Load",
          "yref": "y"
         },
         {
          "font": {
           "color": "#000000"
          },
          "showarrow": false,
          "text": "0.14",
          "x": "WeekStatus_Weekday",
          "xref": "x",
          "y": "Load_Type_Medium_Load",
          "yref": "y"
         },
         {
          "font": {
           "color": "#FFFFFF"
          },
          "showarrow": false,
          "text": "-0.14",
          "x": "WeekStatus_Weekend",
          "xref": "x",
          "y": "Load_Type_Medium_Load",
          "yref": "y"
         },
         {
          "font": {
           "color": "#000000"
          },
          "showarrow": false,
          "text": "0.04",
          "x": "Day_of_week_Friday",
          "xref": "x",
          "y": "Load_Type_Medium_Load",
          "yref": "y"
         },
         {
          "font": {
           "color": "#000000"
          },
          "showarrow": false,
          "text": "0.03",
          "x": "Day_of_week_Monday",
          "xref": "x",
          "y": "Load_Type_Medium_Load",
          "yref": "y"
         },
         {
          "font": {
           "color": "#FFFFFF"
          },
          "showarrow": false,
          "text": "-0.03",
          "x": "Day_of_week_Saturday",
          "xref": "x",
          "y": "Load_Type_Medium_Load",
          "yref": "y"
         },
         {
          "font": {
           "color": "#FFFFFF"
          },
          "showarrow": false,
          "text": "-0.15",
          "x": "Day_of_week_Sunday",
          "xref": "x",
          "y": "Load_Type_Medium_Load",
          "yref": "y"
         },
         {
          "font": {
           "color": "#000000"
          },
          "showarrow": false,
          "text": "0.04",
          "x": "Day_of_week_Thursday",
          "xref": "x",
          "y": "Load_Type_Medium_Load",
          "yref": "y"
         },
         {
          "font": {
           "color": "#000000"
          },
          "showarrow": false,
          "text": "0.03",
          "x": "Day_of_week_Tuesday",
          "xref": "x",
          "y": "Load_Type_Medium_Load",
          "yref": "y"
         },
         {
          "font": {
           "color": "#000000"
          },
          "showarrow": false,
          "text": "0.03",
          "x": "Day_of_week_Wednesday",
          "xref": "x",
          "y": "Load_Type_Medium_Load",
          "yref": "y"
         },
         {
          "font": {
           "color": "#FFFFFF"
          },
          "showarrow": false,
          "text": "-0.64",
          "x": "Load_Type_Light_Load",
          "xref": "x",
          "y": "Load_Type_Medium_Load",
          "yref": "y"
         },
         {
          "font": {
           "color": "#FFFFFF"
          },
          "showarrow": false,
          "text": "-0.32",
          "x": "Load_Type_Maximum_Load",
          "xref": "x",
          "y": "Load_Type_Medium_Load",
          "yref": "y"
         },
         {
          "font": {
           "color": "#000000"
          },
          "showarrow": false,
          "text": "1.0",
          "x": "Load_Type_Medium_Load",
          "xref": "x",
          "y": "Load_Type_Medium_Load",
          "yref": "y"
         }
        ],
        "template": {
         "data": {
          "bar": [
           {
            "error_x": {
             "color": "#2a3f5f"
            },
            "error_y": {
             "color": "#2a3f5f"
            },
            "marker": {
             "line": {
              "color": "#E5ECF6",
              "width": 0.5
             },
             "pattern": {
              "fillmode": "overlay",
              "size": 10,
              "solidity": 0.2
             }
            },
            "type": "bar"
           }
          ],
          "barpolar": [
           {
            "marker": {
             "line": {
              "color": "#E5ECF6",
              "width": 0.5
             },
             "pattern": {
              "fillmode": "overlay",
              "size": 10,
              "solidity": 0.2
             }
            },
            "type": "barpolar"
           }
          ],
          "carpet": [
           {
            "aaxis": {
             "endlinecolor": "#2a3f5f",
             "gridcolor": "white",
             "linecolor": "white",
             "minorgridcolor": "white",
             "startlinecolor": "#2a3f5f"
            },
            "baxis": {
             "endlinecolor": "#2a3f5f",
             "gridcolor": "white",
             "linecolor": "white",
             "minorgridcolor": "white",
             "startlinecolor": "#2a3f5f"
            },
            "type": "carpet"
           }
          ],
          "choropleth": [
           {
            "colorbar": {
             "outlinewidth": 0,
             "ticks": ""
            },
            "type": "choropleth"
           }
          ],
          "contour": [
           {
            "colorbar": {
             "outlinewidth": 0,
             "ticks": ""
            },
            "colorscale": [
             [
              0,
              "#0d0887"
             ],
             [
              0.1111111111111111,
              "#46039f"
             ],
             [
              0.2222222222222222,
              "#7201a8"
             ],
             [
              0.3333333333333333,
              "#9c179e"
             ],
             [
              0.4444444444444444,
              "#bd3786"
             ],
             [
              0.5555555555555556,
              "#d8576b"
             ],
             [
              0.6666666666666666,
              "#ed7953"
             ],
             [
              0.7777777777777778,
              "#fb9f3a"
             ],
             [
              0.8888888888888888,
              "#fdca26"
             ],
             [
              1,
              "#f0f921"
             ]
            ],
            "type": "contour"
           }
          ],
          "contourcarpet": [
           {
            "colorbar": {
             "outlinewidth": 0,
             "ticks": ""
            },
            "type": "contourcarpet"
           }
          ],
          "heatmap": [
           {
            "colorbar": {
             "outlinewidth": 0,
             "ticks": ""
            },
            "colorscale": [
             [
              0,
              "#0d0887"
             ],
             [
              0.1111111111111111,
              "#46039f"
             ],
             [
              0.2222222222222222,
              "#7201a8"
             ],
             [
              0.3333333333333333,
              "#9c179e"
             ],
             [
              0.4444444444444444,
              "#bd3786"
             ],
             [
              0.5555555555555556,
              "#d8576b"
             ],
             [
              0.6666666666666666,
              "#ed7953"
             ],
             [
              0.7777777777777778,
              "#fb9f3a"
             ],
             [
              0.8888888888888888,
              "#fdca26"
             ],
             [
              1,
              "#f0f921"
             ]
            ],
            "type": "heatmap"
           }
          ],
          "heatmapgl": [
           {
            "colorbar": {
             "outlinewidth": 0,
             "ticks": ""
            },
            "colorscale": [
             [
              0,
              "#0d0887"
             ],
             [
              0.1111111111111111,
              "#46039f"
             ],
             [
              0.2222222222222222,
              "#7201a8"
             ],
             [
              0.3333333333333333,
              "#9c179e"
             ],
             [
              0.4444444444444444,
              "#bd3786"
             ],
             [
              0.5555555555555556,
              "#d8576b"
             ],
             [
              0.6666666666666666,
              "#ed7953"
             ],
             [
              0.7777777777777778,
              "#fb9f3a"
             ],
             [
              0.8888888888888888,
              "#fdca26"
             ],
             [
              1,
              "#f0f921"
             ]
            ],
            "type": "heatmapgl"
           }
          ],
          "histogram": [
           {
            "marker": {
             "pattern": {
              "fillmode": "overlay",
              "size": 10,
              "solidity": 0.2
             }
            },
            "type": "histogram"
           }
          ],
          "histogram2d": [
           {
            "colorbar": {
             "outlinewidth": 0,
             "ticks": ""
            },
            "colorscale": [
             [
              0,
              "#0d0887"
             ],
             [
              0.1111111111111111,
              "#46039f"
             ],
             [
              0.2222222222222222,
              "#7201a8"
             ],
             [
              0.3333333333333333,
              "#9c179e"
             ],
             [
              0.4444444444444444,
              "#bd3786"
             ],
             [
              0.5555555555555556,
              "#d8576b"
             ],
             [
              0.6666666666666666,
              "#ed7953"
             ],
             [
              0.7777777777777778,
              "#fb9f3a"
             ],
             [
              0.8888888888888888,
              "#fdca26"
             ],
             [
              1,
              "#f0f921"
             ]
            ],
            "type": "histogram2d"
           }
          ],
          "histogram2dcontour": [
           {
            "colorbar": {
             "outlinewidth": 0,
             "ticks": ""
            },
            "colorscale": [
             [
              0,
              "#0d0887"
             ],
             [
              0.1111111111111111,
              "#46039f"
             ],
             [
              0.2222222222222222,
              "#7201a8"
             ],
             [
              0.3333333333333333,
              "#9c179e"
             ],
             [
              0.4444444444444444,
              "#bd3786"
             ],
             [
              0.5555555555555556,
              "#d8576b"
             ],
             [
              0.6666666666666666,
              "#ed7953"
             ],
             [
              0.7777777777777778,
              "#fb9f3a"
             ],
             [
              0.8888888888888888,
              "#fdca26"
             ],
             [
              1,
              "#f0f921"
             ]
            ],
            "type": "histogram2dcontour"
           }
          ],
          "mesh3d": [
           {
            "colorbar": {
             "outlinewidth": 0,
             "ticks": ""
            },
            "type": "mesh3d"
           }
          ],
          "parcoords": [
           {
            "line": {
             "colorbar": {
              "outlinewidth": 0,
              "ticks": ""
             }
            },
            "type": "parcoords"
           }
          ],
          "pie": [
           {
            "automargin": true,
            "type": "pie"
           }
          ],
          "scatter": [
           {
            "fillpattern": {
             "fillmode": "overlay",
             "size": 10,
             "solidity": 0.2
            },
            "type": "scatter"
           }
          ],
          "scatter3d": [
           {
            "line": {
             "colorbar": {
              "outlinewidth": 0,
              "ticks": ""
             }
            },
            "marker": {
             "colorbar": {
              "outlinewidth": 0,
              "ticks": ""
             }
            },
            "type": "scatter3d"
           }
          ],
          "scattercarpet": [
           {
            "marker": {
             "colorbar": {
              "outlinewidth": 0,
              "ticks": ""
             }
            },
            "type": "scattercarpet"
           }
          ],
          "scattergeo": [
           {
            "marker": {
             "colorbar": {
              "outlinewidth": 0,
              "ticks": ""
             }
            },
            "type": "scattergeo"
           }
          ],
          "scattergl": [
           {
            "marker": {
             "colorbar": {
              "outlinewidth": 0,
              "ticks": ""
             }
            },
            "type": "scattergl"
           }
          ],
          "scattermapbox": [
           {
            "marker": {
             "colorbar": {
              "outlinewidth": 0,
              "ticks": ""
             }
            },
            "type": "scattermapbox"
           }
          ],
          "scatterpolar": [
           {
            "marker": {
             "colorbar": {
              "outlinewidth": 0,
              "ticks": ""
             }
            },
            "type": "scatterpolar"
           }
          ],
          "scatterpolargl": [
           {
            "marker": {
             "colorbar": {
              "outlinewidth": 0,
              "ticks": ""
             }
            },
            "type": "scatterpolargl"
           }
          ],
          "scatterternary": [
           {
            "marker": {
             "colorbar": {
              "outlinewidth": 0,
              "ticks": ""
             }
            },
            "type": "scatterternary"
           }
          ],
          "surface": [
           {
            "colorbar": {
             "outlinewidth": 0,
             "ticks": ""
            },
            "colorscale": [
             [
              0,
              "#0d0887"
             ],
             [
              0.1111111111111111,
              "#46039f"
             ],
             [
              0.2222222222222222,
              "#7201a8"
             ],
             [
              0.3333333333333333,
              "#9c179e"
             ],
             [
              0.4444444444444444,
              "#bd3786"
             ],
             [
              0.5555555555555556,
              "#d8576b"
             ],
             [
              0.6666666666666666,
              "#ed7953"
             ],
             [
              0.7777777777777778,
              "#fb9f3a"
             ],
             [
              0.8888888888888888,
              "#fdca26"
             ],
             [
              1,
              "#f0f921"
             ]
            ],
            "type": "surface"
           }
          ],
          "table": [
           {
            "cells": {
             "fill": {
              "color": "#EBF0F8"
             },
             "line": {
              "color": "white"
             }
            },
            "header": {
             "fill": {
              "color": "#C8D4E3"
             },
             "line": {
              "color": "white"
             }
            },
            "type": "table"
           }
          ]
         },
         "layout": {
          "annotationdefaults": {
           "arrowcolor": "#2a3f5f",
           "arrowhead": 0,
           "arrowwidth": 1
          },
          "autotypenumbers": "strict",
          "coloraxis": {
           "colorbar": {
            "outlinewidth": 0,
            "ticks": ""
           }
          },
          "colorscale": {
           "diverging": [
            [
             0,
             "#8e0152"
            ],
            [
             0.1,
             "#c51b7d"
            ],
            [
             0.2,
             "#de77ae"
            ],
            [
             0.3,
             "#f1b6da"
            ],
            [
             0.4,
             "#fde0ef"
            ],
            [
             0.5,
             "#f7f7f7"
            ],
            [
             0.6,
             "#e6f5d0"
            ],
            [
             0.7,
             "#b8e186"
            ],
            [
             0.8,
             "#7fbc41"
            ],
            [
             0.9,
             "#4d9221"
            ],
            [
             1,
             "#276419"
            ]
           ],
           "sequential": [
            [
             0,
             "#0d0887"
            ],
            [
             0.1111111111111111,
             "#46039f"
            ],
            [
             0.2222222222222222,
             "#7201a8"
            ],
            [
             0.3333333333333333,
             "#9c179e"
            ],
            [
             0.4444444444444444,
             "#bd3786"
            ],
            [
             0.5555555555555556,
             "#d8576b"
            ],
            [
             0.6666666666666666,
             "#ed7953"
            ],
            [
             0.7777777777777778,
             "#fb9f3a"
            ],
            [
             0.8888888888888888,
             "#fdca26"
            ],
            [
             1,
             "#f0f921"
            ]
           ],
           "sequentialminus": [
            [
             0,
             "#0d0887"
            ],
            [
             0.1111111111111111,
             "#46039f"
            ],
            [
             0.2222222222222222,
             "#7201a8"
            ],
            [
             0.3333333333333333,
             "#9c179e"
            ],
            [
             0.4444444444444444,
             "#bd3786"
            ],
            [
             0.5555555555555556,
             "#d8576b"
            ],
            [
             0.6666666666666666,
             "#ed7953"
            ],
            [
             0.7777777777777778,
             "#fb9f3a"
            ],
            [
             0.8888888888888888,
             "#fdca26"
            ],
            [
             1,
             "#f0f921"
            ]
           ]
          },
          "colorway": [
           "#636efa",
           "#EF553B",
           "#00cc96",
           "#ab63fa",
           "#FFA15A",
           "#19d3f3",
           "#FF6692",
           "#B6E880",
           "#FF97FF",
           "#FECB52"
          ],
          "font": {
           "color": "#2a3f5f"
          },
          "geo": {
           "bgcolor": "white",
           "lakecolor": "white",
           "landcolor": "#E5ECF6",
           "showlakes": true,
           "showland": true,
           "subunitcolor": "white"
          },
          "hoverlabel": {
           "align": "left"
          },
          "hovermode": "closest",
          "mapbox": {
           "style": "light"
          },
          "paper_bgcolor": "white",
          "plot_bgcolor": "#E5ECF6",
          "polar": {
           "angularaxis": {
            "gridcolor": "white",
            "linecolor": "white",
            "ticks": ""
           },
           "bgcolor": "#E5ECF6",
           "radialaxis": {
            "gridcolor": "white",
            "linecolor": "white",
            "ticks": ""
           }
          },
          "scene": {
           "xaxis": {
            "backgroundcolor": "#E5ECF6",
            "gridcolor": "white",
            "gridwidth": 2,
            "linecolor": "white",
            "showbackground": true,
            "ticks": "",
            "zerolinecolor": "white"
           },
           "yaxis": {
            "backgroundcolor": "#E5ECF6",
            "gridcolor": "white",
            "gridwidth": 2,
            "linecolor": "white",
            "showbackground": true,
            "ticks": "",
            "zerolinecolor": "white"
           },
           "zaxis": {
            "backgroundcolor": "#E5ECF6",
            "gridcolor": "white",
            "gridwidth": 2,
            "linecolor": "white",
            "showbackground": true,
            "ticks": "",
            "zerolinecolor": "white"
           }
          },
          "shapedefaults": {
           "line": {
            "color": "#2a3f5f"
           }
          },
          "ternary": {
           "aaxis": {
            "gridcolor": "white",
            "linecolor": "white",
            "ticks": ""
           },
           "baxis": {
            "gridcolor": "white",
            "linecolor": "white",
            "ticks": ""
           },
           "bgcolor": "#E5ECF6",
           "caxis": {
            "gridcolor": "white",
            "linecolor": "white",
            "ticks": ""
           }
          },
          "title": {
           "x": 0.05
          },
          "xaxis": {
           "automargin": true,
           "gridcolor": "white",
           "linecolor": "white",
           "ticks": "",
           "title": {
            "standoff": 15
           },
           "zerolinecolor": "white",
           "zerolinewidth": 2
          },
          "yaxis": {
           "automargin": true,
           "gridcolor": "white",
           "linecolor": "white",
           "ticks": "",
           "title": {
            "standoff": 15
           },
           "zerolinecolor": "white",
           "zerolinewidth": 2
          }
         }
        },
        "xaxis": {
         "dtick": 1,
         "gridcolor": "rgb(0, 0, 0)",
         "side": "top",
         "ticks": ""
        },
        "yaxis": {
         "dtick": 1,
         "ticks": "",
         "ticksuffix": "  "
        }
       }
      },
      "text/html": [
       "<div>                            <div id=\"6cb61c89-f381-4e04-9417-878f88422ffc\" class=\"plotly-graph-div\" style=\"height:525px; width:100%;\"></div>            <script type=\"text/javascript\">                require([\"plotly\"], function(Plotly) {                    window.PLOTLYENV=window.PLOTLYENV || {};                                    if (document.getElementById(\"6cb61c89-f381-4e04-9417-878f88422ffc\")) {                    Plotly.newPlot(                        \"6cb61c89-f381-4e04-9417-878f88422ffc\",                        [{\"colorscale\":[[0.0,\"#0d0887\"],[0.1111111111111111,\"#46039f\"],[0.2222222222222222,\"#7201a8\"],[0.3333333333333333,\"#9c179e\"],[0.4444444444444444,\"#bd3786\"],[0.5555555555555556,\"#d8576b\"],[0.6666666666666666,\"#ed7953\"],[0.7777777777777778,\"#fb9f3a\"],[0.8888888888888888,\"#fdca26\"],[1.0,\"#f0f921\"]],\"reversescale\":false,\"showscale\":true,\"x\":[\"Usage\",\"Lag_RP\",\"Lead_RP\",\"CO2\",\"Lag_PF\",\"Lead_PF\",\"NSM\",\"WeekStatus_Weekday\",\"WeekStatus_Weekend\",\"Day_of_week_Friday\",\"Day_of_week_Monday\",\"Day_of_week_Saturday\",\"Day_of_week_Sunday\",\"Day_of_week_Thursday\",\"Day_of_week_Tuesday\",\"Day_of_week_Wednesday\",\"Load_Type_Light_Load\",\"Load_Type_Maximum_Load\",\"Load_Type_Medium_Load\"],\"y\":[\"Usage\",\"Lag_RP\",\"Lead_RP\",\"CO2\",\"Lag_PF\",\"Lead_PF\",\"NSM\",\"WeekStatus_Weekday\",\"WeekStatus_Weekend\",\"Day_of_week_Friday\",\"Day_of_week_Monday\",\"Day_of_week_Saturday\",\"Day_of_week_Sunday\",\"Day_of_week_Thursday\",\"Day_of_week_Tuesday\",\"Day_of_week_Wednesday\",\"Load_Type_Light_Load\",\"Load_Type_Maximum_Load\",\"Load_Type_Medium_Load\"],\"z\":[[1.0,0.8961499010002166,-0.32492178394544313,0.9881797716789515,0.3859604614141433,0.3535657085478799,0.2346103272643915,0.2954748296267286,-0.2954748296267285,0.07078614412899249,0.0709484828381538,-0.13976402226524215,-0.24181419410508756,0.0941503147801299,0.08580838684350861,0.05932045181300884,-0.5789213119060053,0.48779179393462274,0.20452107133907516],[0.8961499010002166,1.0,-0.40514167762598446,0.8869477080514382,0.14453375532413168,0.4077162820034886,0.082662371226899,0.3198697521102095,-0.31986975211020985,0.07670502911158399,0.07762675925772318,-0.168117411419572,-0.24496457473547487,0.10802020797829946,0.08936467849167734,0.06074774582122214,-0.3817194732643078,0.41285899740635745,0.05215689679091323],[-0.32492178394544313,-0.40514167762598446,1.0,-0.3327766451771398,0.5267704711405935,-0.9440389991536534,0.37160456644554224,-0.26043062879355877,0.2604306287935595,-0.06873356197625174,-0.07378556281133279,0.12835359764540855,0.20796829802600417,-0.08254758916227732,-0.07475230315797911,-0.03591587199492195,-0.12880450598516502,-0.15525513556573284,0.28462301369336696],[0.9881797716789515,0.8869477080514382,-0.3327766451771398,1.0,0.37960471977049093,0.36001910096017814,0.23172599741262442,0.29046696318247817,-0.29046696318247794,0.07103473674393837,0.07144545736675614,-0.13588801728334315,-0.23922300610126587,0.09514960448667321,0.0773035912514838,0.0596092438511545,-0.5732183275807221,0.48716478122194035,0.19871876135502511],[0.3859604614141433,0.14453375532413168,0.5267704711405935,0.37960471977049093,1.0,-0.5199668536819609,0.5652695070724054,-0.05408209889329562,0.05408209889329601,-0.015717769586468547,-0.020908570743844897,0.035512406270890036,0.03432958622416539,-0.02188957873359054,-0.010718121728261762,-0.0004416120030871661,-0.5944422445339715,0.28223887133400005,0.4081918762589688],[0.3535657085478799,0.4077162820034886,-0.9440389991536534,0.36001910096017814,-0.5199668536819609,1.0,-0.3605629891708782,0.31467485084100105,-0.3146748508410023,0.08632161460372381,0.0849875020970713,-0.13409177623754445,-0.27228147887929877,0.09978147562047913,0.08664053447795306,0.04796600388237933,0.03528439788182809,0.1908423970854719,-0.2124131748098708],[0.2346103272643915,0.082662371226899,0.37160456644554224,0.23172599741262442,0.5652695070724054,-0.3605629891708782,1.0,8.249137081300166e-17,-9.02798400009474e-17,3.32708740800176e-17,1.0067316874543576e-16,-6.184321233595547e-17,-8.314443241546554e-17,1.1924991112445893e-17,-1.642403270318391e-17,-1.2463923295055805e-17,-0.5944346179874108,0.21106073736728637,0.472705970292402],[0.2954748296267286,0.3198697521102095,-0.26043062879355877,0.29046696318247817,-0.05408209889329562,0.31467485084100105,8.249137081300166e-17,1.0,-1.0000000000000002,0.25729178444552486,0.2601699022431397,-0.6457034205796368,-0.6457034205796376,0.25729178444552386,0.25729178444552525,0.25729178444552603,-0.22199581538339686,0.11724307598851376,0.141706996351297],[-0.2954748296267285,-0.31986975211020985,0.2604306287935595,-0.29046696318247794,0.05408209889329601,-0.3146748508410023,-9.02798400009474e-17,-1.0000000000000002,1.0,-0.2572917844455247,-0.2601699022431398,0.6457034205796371,0.6457034205796379,-0.2572917844455241,-0.25729178444552553,-0.2572917844455262,0.22199581538339666,-0.11724307598851397,-0.14170699635129747],[0.07078614412899249,0.07670502911158399,-0.06873356197625174,0.07103473674393837,-0.015717769586468547,0.08632161460372381,3.32708740800176e-17,0.25729178444552486,-0.2572917844455247,1.0,-0.16799259581026488,-0.16613418530351354,-0.16613418530351334,-0.1661341853035133,-0.16613418530351395,-0.16613418530351454,-0.06251614630138666,0.033016772314666896,0.039906046429424885],[0.0709484828381538,0.07762675925772318,-0.07378556281133279,0.07144545736675614,-0.020908570743844897,0.0849875020970713,1.0067316874543576e-16,0.2601699022431397,-0.2601699022431398,-0.16799259581026488,1.0,-0.16799259581026496,-0.16799259581026466,-0.16799259581026454,-0.16799259581026638,-0.1679925958102645,-0.054487481685188,0.028776578263902418,0.034781094206750726],[-0.13976402226524215,-0.168117411419572,0.12835359764540855,-0.13588801728334315,0.035512406270890036,-0.13409177623754445,-6.184321233595547e-17,-0.6457034205796368,0.6457034205796371,-0.16613418530351354,-0.16799259581026496,1.0,-0.16613418530351565,-0.166134185303513,-0.16613418530351387,-0.16613418530351448,0.04727564231131347,-0.024967775695854837,-0.030177547540454888],[-0.24181419410508756,-0.24496457473547487,0.20796829802600417,-0.23922300610126587,0.03432958622416539,-0.27228147887929877,-8.314443241546554e-17,-0.6457034205796376,0.6457034205796379,-0.16613418530351334,-0.16799259581026466,-0.16613418530351565,1.0,-0.16613418530351276,-0.16613418530351376,-0.16613418530351423,0.2394112723835384,-0.1264407347142685,-0.15282383698774388],[0.0941503147801299,0.10802020797829946,-0.08254758916227732,0.09514960448667321,-0.02188957873359054,0.09978147562047913,1.1924991112445893e-17,0.25729178444552386,-0.2572917844455241,-0.1661341853035133,-0.16799259581026454,-0.166134185303513,-0.16613418530351276,1.0,-0.16613418530351376,-0.16613418530351437,-0.06251614630138638,0.03301677231466693,0.03990604642942491],[0.08580838684350861,0.08936467849167734,-0.07475230315797911,0.0773035912514838,-0.010718121728261762,0.08664053447795306,-1.642403270318391e-17,0.25729178444552525,-0.25729178444552553,-0.16613418530351395,-0.16799259581026638,-0.16613418530351387,-0.16613418530351376,-0.16613418530351376,1.0,-0.16613418530351373,-0.05336683058366146,0.02818472664712332,0.0340657469319345],[0.05932045181300884,0.06074774582122214,-0.03591587199492195,0.0596092438511545,-0.0004416120030871661,0.04796600388237933,-1.2463923295055805e-17,0.25729178444552603,-0.2572917844455262,-0.16613418530351454,-0.1679925958102645,-0.16613418530351448,-0.16613418530351423,-0.16613418530351437,-0.16613418530351373,1.0,-0.05336683058366164,0.028184726647123442,0.03406574693193474],[-0.5789213119060053,-0.3817194732643078,-0.12880450598516502,-0.5732183275807221,-0.5944422445339715,0.03528439788182809,-0.5944346179874108,-0.22199581538339686,0.22199581538339666,-0.06251614630138666,-0.054487481685188,0.04727564231131347,0.2394112723835384,-0.06251614630138638,-0.05336683058366146,-0.05336683058366164,1.0,-0.5281319190004895,-0.6383318356995291],[0.48779179393462274,0.41285899740635745,-0.15525513556573284,0.48716478122194035,0.28223887133400005,0.1908423970854719,0.21106073736728637,0.11724307598851376,-0.11724307598851397,0.033016772314666896,0.028776578263902418,-0.024967775695854837,-0.1264407347142685,0.03301677231466693,0.02818472664712332,0.028184726647123442,-0.5281319190004895,1.0,-0.3165288925158049],[0.20452107133907516,0.05215689679091323,0.28462301369336696,0.19871876135502511,0.4081918762589688,-0.2124131748098708,0.472705970292402,0.141706996351297,-0.14170699635129747,0.039906046429424885,0.034781094206750726,-0.030177547540454888,-0.15282383698774388,0.03990604642942491,0.0340657469319345,0.03406574693193474,-0.6383318356995291,-0.3165288925158049,1.0]],\"type\":\"heatmap\"}],                        {\"annotations\":[{\"font\":{\"color\":\"#000000\"},\"showarrow\":false,\"text\":\"1.0\",\"x\":\"Usage\",\"xref\":\"x\",\"y\":\"Usage\",\"yref\":\"y\"},{\"font\":{\"color\":\"#000000\"},\"showarrow\":false,\"text\":\"0.9\",\"x\":\"Lag_RP\",\"xref\":\"x\",\"y\":\"Usage\",\"yref\":\"y\"},{\"font\":{\"color\":\"#FFFFFF\"},\"showarrow\":false,\"text\":\"-0.32\",\"x\":\"Lead_RP\",\"xref\":\"x\",\"y\":\"Usage\",\"yref\":\"y\"},{\"font\":{\"color\":\"#000000\"},\"showarrow\":false,\"text\":\"0.99\",\"x\":\"CO2\",\"xref\":\"x\",\"y\":\"Usage\",\"yref\":\"y\"},{\"font\":{\"color\":\"#000000\"},\"showarrow\":false,\"text\":\"0.39\",\"x\":\"Lag_PF\",\"xref\":\"x\",\"y\":\"Usage\",\"yref\":\"y\"},{\"font\":{\"color\":\"#000000\"},\"showarrow\":false,\"text\":\"0.35\",\"x\":\"Lead_PF\",\"xref\":\"x\",\"y\":\"Usage\",\"yref\":\"y\"},{\"font\":{\"color\":\"#000000\"},\"showarrow\":false,\"text\":\"0.23\",\"x\":\"NSM\",\"xref\":\"x\",\"y\":\"Usage\",\"yref\":\"y\"},{\"font\":{\"color\":\"#000000\"},\"showarrow\":false,\"text\":\"0.3\",\"x\":\"WeekStatus_Weekday\",\"xref\":\"x\",\"y\":\"Usage\",\"yref\":\"y\"},{\"font\":{\"color\":\"#FFFFFF\"},\"showarrow\":false,\"text\":\"-0.3\",\"x\":\"WeekStatus_Weekend\",\"xref\":\"x\",\"y\":\"Usage\",\"yref\":\"y\"},{\"font\":{\"color\":\"#000000\"},\"showarrow\":false,\"text\":\"0.07\",\"x\":\"Day_of_week_Friday\",\"xref\":\"x\",\"y\":\"Usage\",\"yref\":\"y\"},{\"font\":{\"color\":\"#000000\"},\"showarrow\":false,\"text\":\"0.07\",\"x\":\"Day_of_week_Monday\",\"xref\":\"x\",\"y\":\"Usage\",\"yref\":\"y\"},{\"font\":{\"color\":\"#FFFFFF\"},\"showarrow\":false,\"text\":\"-0.14\",\"x\":\"Day_of_week_Saturday\",\"xref\":\"x\",\"y\":\"Usage\",\"yref\":\"y\"},{\"font\":{\"color\":\"#FFFFFF\"},\"showarrow\":false,\"text\":\"-0.24\",\"x\":\"Day_of_week_Sunday\",\"xref\":\"x\",\"y\":\"Usage\",\"yref\":\"y\"},{\"font\":{\"color\":\"#000000\"},\"showarrow\":false,\"text\":\"0.09\",\"x\":\"Day_of_week_Thursday\",\"xref\":\"x\",\"y\":\"Usage\",\"yref\":\"y\"},{\"font\":{\"color\":\"#000000\"},\"showarrow\":false,\"text\":\"0.09\",\"x\":\"Day_of_week_Tuesday\",\"xref\":\"x\",\"y\":\"Usage\",\"yref\":\"y\"},{\"font\":{\"color\":\"#000000\"},\"showarrow\":false,\"text\":\"0.06\",\"x\":\"Day_of_week_Wednesday\",\"xref\":\"x\",\"y\":\"Usage\",\"yref\":\"y\"},{\"font\":{\"color\":\"#FFFFFF\"},\"showarrow\":false,\"text\":\"-0.58\",\"x\":\"Load_Type_Light_Load\",\"xref\":\"x\",\"y\":\"Usage\",\"yref\":\"y\"},{\"font\":{\"color\":\"#000000\"},\"showarrow\":false,\"text\":\"0.49\",\"x\":\"Load_Type_Maximum_Load\",\"xref\":\"x\",\"y\":\"Usage\",\"yref\":\"y\"},{\"font\":{\"color\":\"#000000\"},\"showarrow\":false,\"text\":\"0.2\",\"x\":\"Load_Type_Medium_Load\",\"xref\":\"x\",\"y\":\"Usage\",\"yref\":\"y\"},{\"font\":{\"color\":\"#000000\"},\"showarrow\":false,\"text\":\"0.9\",\"x\":\"Usage\",\"xref\":\"x\",\"y\":\"Lag_RP\",\"yref\":\"y\"},{\"font\":{\"color\":\"#000000\"},\"showarrow\":false,\"text\":\"1.0\",\"x\":\"Lag_RP\",\"xref\":\"x\",\"y\":\"Lag_RP\",\"yref\":\"y\"},{\"font\":{\"color\":\"#FFFFFF\"},\"showarrow\":false,\"text\":\"-0.41\",\"x\":\"Lead_RP\",\"xref\":\"x\",\"y\":\"Lag_RP\",\"yref\":\"y\"},{\"font\":{\"color\":\"#000000\"},\"showarrow\":false,\"text\":\"0.89\",\"x\":\"CO2\",\"xref\":\"x\",\"y\":\"Lag_RP\",\"yref\":\"y\"},{\"font\":{\"color\":\"#000000\"},\"showarrow\":false,\"text\":\"0.14\",\"x\":\"Lag_PF\",\"xref\":\"x\",\"y\":\"Lag_RP\",\"yref\":\"y\"},{\"font\":{\"color\":\"#000000\"},\"showarrow\":false,\"text\":\"0.41\",\"x\":\"Lead_PF\",\"xref\":\"x\",\"y\":\"Lag_RP\",\"yref\":\"y\"},{\"font\":{\"color\":\"#000000\"},\"showarrow\":false,\"text\":\"0.08\",\"x\":\"NSM\",\"xref\":\"x\",\"y\":\"Lag_RP\",\"yref\":\"y\"},{\"font\":{\"color\":\"#000000\"},\"showarrow\":false,\"text\":\"0.32\",\"x\":\"WeekStatus_Weekday\",\"xref\":\"x\",\"y\":\"Lag_RP\",\"yref\":\"y\"},{\"font\":{\"color\":\"#FFFFFF\"},\"showarrow\":false,\"text\":\"-0.32\",\"x\":\"WeekStatus_Weekend\",\"xref\":\"x\",\"y\":\"Lag_RP\",\"yref\":\"y\"},{\"font\":{\"color\":\"#000000\"},\"showarrow\":false,\"text\":\"0.08\",\"x\":\"Day_of_week_Friday\",\"xref\":\"x\",\"y\":\"Lag_RP\",\"yref\":\"y\"},{\"font\":{\"color\":\"#000000\"},\"showarrow\":false,\"text\":\"0.08\",\"x\":\"Day_of_week_Monday\",\"xref\":\"x\",\"y\":\"Lag_RP\",\"yref\":\"y\"},{\"font\":{\"color\":\"#FFFFFF\"},\"showarrow\":false,\"text\":\"-0.17\",\"x\":\"Day_of_week_Saturday\",\"xref\":\"x\",\"y\":\"Lag_RP\",\"yref\":\"y\"},{\"font\":{\"color\":\"#FFFFFF\"},\"showarrow\":false,\"text\":\"-0.24\",\"x\":\"Day_of_week_Sunday\",\"xref\":\"x\",\"y\":\"Lag_RP\",\"yref\":\"y\"},{\"font\":{\"color\":\"#000000\"},\"showarrow\":false,\"text\":\"0.11\",\"x\":\"Day_of_week_Thursday\",\"xref\":\"x\",\"y\":\"Lag_RP\",\"yref\":\"y\"},{\"font\":{\"color\":\"#000000\"},\"showarrow\":false,\"text\":\"0.09\",\"x\":\"Day_of_week_Tuesday\",\"xref\":\"x\",\"y\":\"Lag_RP\",\"yref\":\"y\"},{\"font\":{\"color\":\"#000000\"},\"showarrow\":false,\"text\":\"0.06\",\"x\":\"Day_of_week_Wednesday\",\"xref\":\"x\",\"y\":\"Lag_RP\",\"yref\":\"y\"},{\"font\":{\"color\":\"#FFFFFF\"},\"showarrow\":false,\"text\":\"-0.38\",\"x\":\"Load_Type_Light_Load\",\"xref\":\"x\",\"y\":\"Lag_RP\",\"yref\":\"y\"},{\"font\":{\"color\":\"#000000\"},\"showarrow\":false,\"text\":\"0.41\",\"x\":\"Load_Type_Maximum_Load\",\"xref\":\"x\",\"y\":\"Lag_RP\",\"yref\":\"y\"},{\"font\":{\"color\":\"#000000\"},\"showarrow\":false,\"text\":\"0.05\",\"x\":\"Load_Type_Medium_Load\",\"xref\":\"x\",\"y\":\"Lag_RP\",\"yref\":\"y\"},{\"font\":{\"color\":\"#FFFFFF\"},\"showarrow\":false,\"text\":\"-0.32\",\"x\":\"Usage\",\"xref\":\"x\",\"y\":\"Lead_RP\",\"yref\":\"y\"},{\"font\":{\"color\":\"#FFFFFF\"},\"showarrow\":false,\"text\":\"-0.41\",\"x\":\"Lag_RP\",\"xref\":\"x\",\"y\":\"Lead_RP\",\"yref\":\"y\"},{\"font\":{\"color\":\"#000000\"},\"showarrow\":false,\"text\":\"1.0\",\"x\":\"Lead_RP\",\"xref\":\"x\",\"y\":\"Lead_RP\",\"yref\":\"y\"},{\"font\":{\"color\":\"#FFFFFF\"},\"showarrow\":false,\"text\":\"-0.33\",\"x\":\"CO2\",\"xref\":\"x\",\"y\":\"Lead_RP\",\"yref\":\"y\"},{\"font\":{\"color\":\"#000000\"},\"showarrow\":false,\"text\":\"0.53\",\"x\":\"Lag_PF\",\"xref\":\"x\",\"y\":\"Lead_RP\",\"yref\":\"y\"},{\"font\":{\"color\":\"#FFFFFF\"},\"showarrow\":false,\"text\":\"-0.94\",\"x\":\"Lead_PF\",\"xref\":\"x\",\"y\":\"Lead_RP\",\"yref\":\"y\"},{\"font\":{\"color\":\"#000000\"},\"showarrow\":false,\"text\":\"0.37\",\"x\":\"NSM\",\"xref\":\"x\",\"y\":\"Lead_RP\",\"yref\":\"y\"},{\"font\":{\"color\":\"#FFFFFF\"},\"showarrow\":false,\"text\":\"-0.26\",\"x\":\"WeekStatus_Weekday\",\"xref\":\"x\",\"y\":\"Lead_RP\",\"yref\":\"y\"},{\"font\":{\"color\":\"#000000\"},\"showarrow\":false,\"text\":\"0.26\",\"x\":\"WeekStatus_Weekend\",\"xref\":\"x\",\"y\":\"Lead_RP\",\"yref\":\"y\"},{\"font\":{\"color\":\"#FFFFFF\"},\"showarrow\":false,\"text\":\"-0.07\",\"x\":\"Day_of_week_Friday\",\"xref\":\"x\",\"y\":\"Lead_RP\",\"yref\":\"y\"},{\"font\":{\"color\":\"#FFFFFF\"},\"showarrow\":false,\"text\":\"-0.07\",\"x\":\"Day_of_week_Monday\",\"xref\":\"x\",\"y\":\"Lead_RP\",\"yref\":\"y\"},{\"font\":{\"color\":\"#000000\"},\"showarrow\":false,\"text\":\"0.13\",\"x\":\"Day_of_week_Saturday\",\"xref\":\"x\",\"y\":\"Lead_RP\",\"yref\":\"y\"},{\"font\":{\"color\":\"#000000\"},\"showarrow\":false,\"text\":\"0.21\",\"x\":\"Day_of_week_Sunday\",\"xref\":\"x\",\"y\":\"Lead_RP\",\"yref\":\"y\"},{\"font\":{\"color\":\"#FFFFFF\"},\"showarrow\":false,\"text\":\"-0.08\",\"x\":\"Day_of_week_Thursday\",\"xref\":\"x\",\"y\":\"Lead_RP\",\"yref\":\"y\"},{\"font\":{\"color\":\"#FFFFFF\"},\"showarrow\":false,\"text\":\"-0.07\",\"x\":\"Day_of_week_Tuesday\",\"xref\":\"x\",\"y\":\"Lead_RP\",\"yref\":\"y\"},{\"font\":{\"color\":\"#FFFFFF\"},\"showarrow\":false,\"text\":\"-0.04\",\"x\":\"Day_of_week_Wednesday\",\"xref\":\"x\",\"y\":\"Lead_RP\",\"yref\":\"y\"},{\"font\":{\"color\":\"#FFFFFF\"},\"showarrow\":false,\"text\":\"-0.13\",\"x\":\"Load_Type_Light_Load\",\"xref\":\"x\",\"y\":\"Lead_RP\",\"yref\":\"y\"},{\"font\":{\"color\":\"#FFFFFF\"},\"showarrow\":false,\"text\":\"-0.16\",\"x\":\"Load_Type_Maximum_Load\",\"xref\":\"x\",\"y\":\"Lead_RP\",\"yref\":\"y\"},{\"font\":{\"color\":\"#000000\"},\"showarrow\":false,\"text\":\"0.28\",\"x\":\"Load_Type_Medium_Load\",\"xref\":\"x\",\"y\":\"Lead_RP\",\"yref\":\"y\"},{\"font\":{\"color\":\"#000000\"},\"showarrow\":false,\"text\":\"0.99\",\"x\":\"Usage\",\"xref\":\"x\",\"y\":\"CO2\",\"yref\":\"y\"},{\"font\":{\"color\":\"#000000\"},\"showarrow\":false,\"text\":\"0.89\",\"x\":\"Lag_RP\",\"xref\":\"x\",\"y\":\"CO2\",\"yref\":\"y\"},{\"font\":{\"color\":\"#FFFFFF\"},\"showarrow\":false,\"text\":\"-0.33\",\"x\":\"Lead_RP\",\"xref\":\"x\",\"y\":\"CO2\",\"yref\":\"y\"},{\"font\":{\"color\":\"#000000\"},\"showarrow\":false,\"text\":\"1.0\",\"x\":\"CO2\",\"xref\":\"x\",\"y\":\"CO2\",\"yref\":\"y\"},{\"font\":{\"color\":\"#000000\"},\"showarrow\":false,\"text\":\"0.38\",\"x\":\"Lag_PF\",\"xref\":\"x\",\"y\":\"CO2\",\"yref\":\"y\"},{\"font\":{\"color\":\"#000000\"},\"showarrow\":false,\"text\":\"0.36\",\"x\":\"Lead_PF\",\"xref\":\"x\",\"y\":\"CO2\",\"yref\":\"y\"},{\"font\":{\"color\":\"#000000\"},\"showarrow\":false,\"text\":\"0.23\",\"x\":\"NSM\",\"xref\":\"x\",\"y\":\"CO2\",\"yref\":\"y\"},{\"font\":{\"color\":\"#000000\"},\"showarrow\":false,\"text\":\"0.29\",\"x\":\"WeekStatus_Weekday\",\"xref\":\"x\",\"y\":\"CO2\",\"yref\":\"y\"},{\"font\":{\"color\":\"#FFFFFF\"},\"showarrow\":false,\"text\":\"-0.29\",\"x\":\"WeekStatus_Weekend\",\"xref\":\"x\",\"y\":\"CO2\",\"yref\":\"y\"},{\"font\":{\"color\":\"#000000\"},\"showarrow\":false,\"text\":\"0.07\",\"x\":\"Day_of_week_Friday\",\"xref\":\"x\",\"y\":\"CO2\",\"yref\":\"y\"},{\"font\":{\"color\":\"#000000\"},\"showarrow\":false,\"text\":\"0.07\",\"x\":\"Day_of_week_Monday\",\"xref\":\"x\",\"y\":\"CO2\",\"yref\":\"y\"},{\"font\":{\"color\":\"#FFFFFF\"},\"showarrow\":false,\"text\":\"-0.14\",\"x\":\"Day_of_week_Saturday\",\"xref\":\"x\",\"y\":\"CO2\",\"yref\":\"y\"},{\"font\":{\"color\":\"#FFFFFF\"},\"showarrow\":false,\"text\":\"-0.24\",\"x\":\"Day_of_week_Sunday\",\"xref\":\"x\",\"y\":\"CO2\",\"yref\":\"y\"},{\"font\":{\"color\":\"#000000\"},\"showarrow\":false,\"text\":\"0.1\",\"x\":\"Day_of_week_Thursday\",\"xref\":\"x\",\"y\":\"CO2\",\"yref\":\"y\"},{\"font\":{\"color\":\"#000000\"},\"showarrow\":false,\"text\":\"0.08\",\"x\":\"Day_of_week_Tuesday\",\"xref\":\"x\",\"y\":\"CO2\",\"yref\":\"y\"},{\"font\":{\"color\":\"#000000\"},\"showarrow\":false,\"text\":\"0.06\",\"x\":\"Day_of_week_Wednesday\",\"xref\":\"x\",\"y\":\"CO2\",\"yref\":\"y\"},{\"font\":{\"color\":\"#FFFFFF\"},\"showarrow\":false,\"text\":\"-0.57\",\"x\":\"Load_Type_Light_Load\",\"xref\":\"x\",\"y\":\"CO2\",\"yref\":\"y\"},{\"font\":{\"color\":\"#000000\"},\"showarrow\":false,\"text\":\"0.49\",\"x\":\"Load_Type_Maximum_Load\",\"xref\":\"x\",\"y\":\"CO2\",\"yref\":\"y\"},{\"font\":{\"color\":\"#000000\"},\"showarrow\":false,\"text\":\"0.2\",\"x\":\"Load_Type_Medium_Load\",\"xref\":\"x\",\"y\":\"CO2\",\"yref\":\"y\"},{\"font\":{\"color\":\"#000000\"},\"showarrow\":false,\"text\":\"0.39\",\"x\":\"Usage\",\"xref\":\"x\",\"y\":\"Lag_PF\",\"yref\":\"y\"},{\"font\":{\"color\":\"#000000\"},\"showarrow\":false,\"text\":\"0.14\",\"x\":\"Lag_RP\",\"xref\":\"x\",\"y\":\"Lag_PF\",\"yref\":\"y\"},{\"font\":{\"color\":\"#000000\"},\"showarrow\":false,\"text\":\"0.53\",\"x\":\"Lead_RP\",\"xref\":\"x\",\"y\":\"Lag_PF\",\"yref\":\"y\"},{\"font\":{\"color\":\"#000000\"},\"showarrow\":false,\"text\":\"0.38\",\"x\":\"CO2\",\"xref\":\"x\",\"y\":\"Lag_PF\",\"yref\":\"y\"},{\"font\":{\"color\":\"#000000\"},\"showarrow\":false,\"text\":\"1.0\",\"x\":\"Lag_PF\",\"xref\":\"x\",\"y\":\"Lag_PF\",\"yref\":\"y\"},{\"font\":{\"color\":\"#FFFFFF\"},\"showarrow\":false,\"text\":\"-0.52\",\"x\":\"Lead_PF\",\"xref\":\"x\",\"y\":\"Lag_PF\",\"yref\":\"y\"},{\"font\":{\"color\":\"#000000\"},\"showarrow\":false,\"text\":\"0.57\",\"x\":\"NSM\",\"xref\":\"x\",\"y\":\"Lag_PF\",\"yref\":\"y\"},{\"font\":{\"color\":\"#FFFFFF\"},\"showarrow\":false,\"text\":\"-0.05\",\"x\":\"WeekStatus_Weekday\",\"xref\":\"x\",\"y\":\"Lag_PF\",\"yref\":\"y\"},{\"font\":{\"color\":\"#000000\"},\"showarrow\":false,\"text\":\"0.05\",\"x\":\"WeekStatus_Weekend\",\"xref\":\"x\",\"y\":\"Lag_PF\",\"yref\":\"y\"},{\"font\":{\"color\":\"#FFFFFF\"},\"showarrow\":false,\"text\":\"-0.02\",\"x\":\"Day_of_week_Friday\",\"xref\":\"x\",\"y\":\"Lag_PF\",\"yref\":\"y\"},{\"font\":{\"color\":\"#FFFFFF\"},\"showarrow\":false,\"text\":\"-0.02\",\"x\":\"Day_of_week_Monday\",\"xref\":\"x\",\"y\":\"Lag_PF\",\"yref\":\"y\"},{\"font\":{\"color\":\"#000000\"},\"showarrow\":false,\"text\":\"0.04\",\"x\":\"Day_of_week_Saturday\",\"xref\":\"x\",\"y\":\"Lag_PF\",\"yref\":\"y\"},{\"font\":{\"color\":\"#000000\"},\"showarrow\":false,\"text\":\"0.03\",\"x\":\"Day_of_week_Sunday\",\"xref\":\"x\",\"y\":\"Lag_PF\",\"yref\":\"y\"},{\"font\":{\"color\":\"#FFFFFF\"},\"showarrow\":false,\"text\":\"-0.02\",\"x\":\"Day_of_week_Thursday\",\"xref\":\"x\",\"y\":\"Lag_PF\",\"yref\":\"y\"},{\"font\":{\"color\":\"#FFFFFF\"},\"showarrow\":false,\"text\":\"-0.01\",\"x\":\"Day_of_week_Tuesday\",\"xref\":\"x\",\"y\":\"Lag_PF\",\"yref\":\"y\"},{\"font\":{\"color\":\"#FFFFFF\"},\"showarrow\":false,\"text\":\"-0.0\",\"x\":\"Day_of_week_Wednesday\",\"xref\":\"x\",\"y\":\"Lag_PF\",\"yref\":\"y\"},{\"font\":{\"color\":\"#FFFFFF\"},\"showarrow\":false,\"text\":\"-0.59\",\"x\":\"Load_Type_Light_Load\",\"xref\":\"x\",\"y\":\"Lag_PF\",\"yref\":\"y\"},{\"font\":{\"color\":\"#000000\"},\"showarrow\":false,\"text\":\"0.28\",\"x\":\"Load_Type_Maximum_Load\",\"xref\":\"x\",\"y\":\"Lag_PF\",\"yref\":\"y\"},{\"font\":{\"color\":\"#000000\"},\"showarrow\":false,\"text\":\"0.41\",\"x\":\"Load_Type_Medium_Load\",\"xref\":\"x\",\"y\":\"Lag_PF\",\"yref\":\"y\"},{\"font\":{\"color\":\"#000000\"},\"showarrow\":false,\"text\":\"0.35\",\"x\":\"Usage\",\"xref\":\"x\",\"y\":\"Lead_PF\",\"yref\":\"y\"},{\"font\":{\"color\":\"#000000\"},\"showarrow\":false,\"text\":\"0.41\",\"x\":\"Lag_RP\",\"xref\":\"x\",\"y\":\"Lead_PF\",\"yref\":\"y\"},{\"font\":{\"color\":\"#FFFFFF\"},\"showarrow\":false,\"text\":\"-0.94\",\"x\":\"Lead_RP\",\"xref\":\"x\",\"y\":\"Lead_PF\",\"yref\":\"y\"},{\"font\":{\"color\":\"#000000\"},\"showarrow\":false,\"text\":\"0.36\",\"x\":\"CO2\",\"xref\":\"x\",\"y\":\"Lead_PF\",\"yref\":\"y\"},{\"font\":{\"color\":\"#FFFFFF\"},\"showarrow\":false,\"text\":\"-0.52\",\"x\":\"Lag_PF\",\"xref\":\"x\",\"y\":\"Lead_PF\",\"yref\":\"y\"},{\"font\":{\"color\":\"#000000\"},\"showarrow\":false,\"text\":\"1.0\",\"x\":\"Lead_PF\",\"xref\":\"x\",\"y\":\"Lead_PF\",\"yref\":\"y\"},{\"font\":{\"color\":\"#FFFFFF\"},\"showarrow\":false,\"text\":\"-0.36\",\"x\":\"NSM\",\"xref\":\"x\",\"y\":\"Lead_PF\",\"yref\":\"y\"},{\"font\":{\"color\":\"#000000\"},\"showarrow\":false,\"text\":\"0.31\",\"x\":\"WeekStatus_Weekday\",\"xref\":\"x\",\"y\":\"Lead_PF\",\"yref\":\"y\"},{\"font\":{\"color\":\"#FFFFFF\"},\"showarrow\":false,\"text\":\"-0.31\",\"x\":\"WeekStatus_Weekend\",\"xref\":\"x\",\"y\":\"Lead_PF\",\"yref\":\"y\"},{\"font\":{\"color\":\"#000000\"},\"showarrow\":false,\"text\":\"0.09\",\"x\":\"Day_of_week_Friday\",\"xref\":\"x\",\"y\":\"Lead_PF\",\"yref\":\"y\"},{\"font\":{\"color\":\"#000000\"},\"showarrow\":false,\"text\":\"0.08\",\"x\":\"Day_of_week_Monday\",\"xref\":\"x\",\"y\":\"Lead_PF\",\"yref\":\"y\"},{\"font\":{\"color\":\"#FFFFFF\"},\"showarrow\":false,\"text\":\"-0.13\",\"x\":\"Day_of_week_Saturday\",\"xref\":\"x\",\"y\":\"Lead_PF\",\"yref\":\"y\"},{\"font\":{\"color\":\"#FFFFFF\"},\"showarrow\":false,\"text\":\"-0.27\",\"x\":\"Day_of_week_Sunday\",\"xref\":\"x\",\"y\":\"Lead_PF\",\"yref\":\"y\"},{\"font\":{\"color\":\"#000000\"},\"showarrow\":false,\"text\":\"0.1\",\"x\":\"Day_of_week_Thursday\",\"xref\":\"x\",\"y\":\"Lead_PF\",\"yref\":\"y\"},{\"font\":{\"color\":\"#000000\"},\"showarrow\":false,\"text\":\"0.09\",\"x\":\"Day_of_week_Tuesday\",\"xref\":\"x\",\"y\":\"Lead_PF\",\"yref\":\"y\"},{\"font\":{\"color\":\"#000000\"},\"showarrow\":false,\"text\":\"0.05\",\"x\":\"Day_of_week_Wednesday\",\"xref\":\"x\",\"y\":\"Lead_PF\",\"yref\":\"y\"},{\"font\":{\"color\":\"#000000\"},\"showarrow\":false,\"text\":\"0.04\",\"x\":\"Load_Type_Light_Load\",\"xref\":\"x\",\"y\":\"Lead_PF\",\"yref\":\"y\"},{\"font\":{\"color\":\"#000000\"},\"showarrow\":false,\"text\":\"0.19\",\"x\":\"Load_Type_Maximum_Load\",\"xref\":\"x\",\"y\":\"Lead_PF\",\"yref\":\"y\"},{\"font\":{\"color\":\"#FFFFFF\"},\"showarrow\":false,\"text\":\"-0.21\",\"x\":\"Load_Type_Medium_Load\",\"xref\":\"x\",\"y\":\"Lead_PF\",\"yref\":\"y\"},{\"font\":{\"color\":\"#000000\"},\"showarrow\":false,\"text\":\"0.23\",\"x\":\"Usage\",\"xref\":\"x\",\"y\":\"NSM\",\"yref\":\"y\"},{\"font\":{\"color\":\"#000000\"},\"showarrow\":false,\"text\":\"0.08\",\"x\":\"Lag_RP\",\"xref\":\"x\",\"y\":\"NSM\",\"yref\":\"y\"},{\"font\":{\"color\":\"#000000\"},\"showarrow\":false,\"text\":\"0.37\",\"x\":\"Lead_RP\",\"xref\":\"x\",\"y\":\"NSM\",\"yref\":\"y\"},{\"font\":{\"color\":\"#000000\"},\"showarrow\":false,\"text\":\"0.23\",\"x\":\"CO2\",\"xref\":\"x\",\"y\":\"NSM\",\"yref\":\"y\"},{\"font\":{\"color\":\"#000000\"},\"showarrow\":false,\"text\":\"0.57\",\"x\":\"Lag_PF\",\"xref\":\"x\",\"y\":\"NSM\",\"yref\":\"y\"},{\"font\":{\"color\":\"#FFFFFF\"},\"showarrow\":false,\"text\":\"-0.36\",\"x\":\"Lead_PF\",\"xref\":\"x\",\"y\":\"NSM\",\"yref\":\"y\"},{\"font\":{\"color\":\"#000000\"},\"showarrow\":false,\"text\":\"1.0\",\"x\":\"NSM\",\"xref\":\"x\",\"y\":\"NSM\",\"yref\":\"y\"},{\"font\":{\"color\":\"#000000\"},\"showarrow\":false,\"text\":\"0.0\",\"x\":\"WeekStatus_Weekday\",\"xref\":\"x\",\"y\":\"NSM\",\"yref\":\"y\"},{\"font\":{\"color\":\"#000000\"},\"showarrow\":false,\"text\":\"-0.0\",\"x\":\"WeekStatus_Weekend\",\"xref\":\"x\",\"y\":\"NSM\",\"yref\":\"y\"},{\"font\":{\"color\":\"#000000\"},\"showarrow\":false,\"text\":\"0.0\",\"x\":\"Day_of_week_Friday\",\"xref\":\"x\",\"y\":\"NSM\",\"yref\":\"y\"},{\"font\":{\"color\":\"#000000\"},\"showarrow\":false,\"text\":\"0.0\",\"x\":\"Day_of_week_Monday\",\"xref\":\"x\",\"y\":\"NSM\",\"yref\":\"y\"},{\"font\":{\"color\":\"#000000\"},\"showarrow\":false,\"text\":\"-0.0\",\"x\":\"Day_of_week_Saturday\",\"xref\":\"x\",\"y\":\"NSM\",\"yref\":\"y\"},{\"font\":{\"color\":\"#000000\"},\"showarrow\":false,\"text\":\"-0.0\",\"x\":\"Day_of_week_Sunday\",\"xref\":\"x\",\"y\":\"NSM\",\"yref\":\"y\"},{\"font\":{\"color\":\"#000000\"},\"showarrow\":false,\"text\":\"0.0\",\"x\":\"Day_of_week_Thursday\",\"xref\":\"x\",\"y\":\"NSM\",\"yref\":\"y\"},{\"font\":{\"color\":\"#000000\"},\"showarrow\":false,\"text\":\"-0.0\",\"x\":\"Day_of_week_Tuesday\",\"xref\":\"x\",\"y\":\"NSM\",\"yref\":\"y\"},{\"font\":{\"color\":\"#000000\"},\"showarrow\":false,\"text\":\"-0.0\",\"x\":\"Day_of_week_Wednesday\",\"xref\":\"x\",\"y\":\"NSM\",\"yref\":\"y\"},{\"font\":{\"color\":\"#FFFFFF\"},\"showarrow\":false,\"text\":\"-0.59\",\"x\":\"Load_Type_Light_Load\",\"xref\":\"x\",\"y\":\"NSM\",\"yref\":\"y\"},{\"font\":{\"color\":\"#000000\"},\"showarrow\":false,\"text\":\"0.21\",\"x\":\"Load_Type_Maximum_Load\",\"xref\":\"x\",\"y\":\"NSM\",\"yref\":\"y\"},{\"font\":{\"color\":\"#000000\"},\"showarrow\":false,\"text\":\"0.47\",\"x\":\"Load_Type_Medium_Load\",\"xref\":\"x\",\"y\":\"NSM\",\"yref\":\"y\"},{\"font\":{\"color\":\"#000000\"},\"showarrow\":false,\"text\":\"0.3\",\"x\":\"Usage\",\"xref\":\"x\",\"y\":\"WeekStatus_Weekday\",\"yref\":\"y\"},{\"font\":{\"color\":\"#000000\"},\"showarrow\":false,\"text\":\"0.32\",\"x\":\"Lag_RP\",\"xref\":\"x\",\"y\":\"WeekStatus_Weekday\",\"yref\":\"y\"},{\"font\":{\"color\":\"#FFFFFF\"},\"showarrow\":false,\"text\":\"-0.26\",\"x\":\"Lead_RP\",\"xref\":\"x\",\"y\":\"WeekStatus_Weekday\",\"yref\":\"y\"},{\"font\":{\"color\":\"#000000\"},\"showarrow\":false,\"text\":\"0.29\",\"x\":\"CO2\",\"xref\":\"x\",\"y\":\"WeekStatus_Weekday\",\"yref\":\"y\"},{\"font\":{\"color\":\"#FFFFFF\"},\"showarrow\":false,\"text\":\"-0.05\",\"x\":\"Lag_PF\",\"xref\":\"x\",\"y\":\"WeekStatus_Weekday\",\"yref\":\"y\"},{\"font\":{\"color\":\"#000000\"},\"showarrow\":false,\"text\":\"0.31\",\"x\":\"Lead_PF\",\"xref\":\"x\",\"y\":\"WeekStatus_Weekday\",\"yref\":\"y\"},{\"font\":{\"color\":\"#000000\"},\"showarrow\":false,\"text\":\"0.0\",\"x\":\"NSM\",\"xref\":\"x\",\"y\":\"WeekStatus_Weekday\",\"yref\":\"y\"},{\"font\":{\"color\":\"#000000\"},\"showarrow\":false,\"text\":\"1.0\",\"x\":\"WeekStatus_Weekday\",\"xref\":\"x\",\"y\":\"WeekStatus_Weekday\",\"yref\":\"y\"},{\"font\":{\"color\":\"#FFFFFF\"},\"showarrow\":false,\"text\":\"-1.0\",\"x\":\"WeekStatus_Weekend\",\"xref\":\"x\",\"y\":\"WeekStatus_Weekday\",\"yref\":\"y\"},{\"font\":{\"color\":\"#000000\"},\"showarrow\":false,\"text\":\"0.26\",\"x\":\"Day_of_week_Friday\",\"xref\":\"x\",\"y\":\"WeekStatus_Weekday\",\"yref\":\"y\"},{\"font\":{\"color\":\"#000000\"},\"showarrow\":false,\"text\":\"0.26\",\"x\":\"Day_of_week_Monday\",\"xref\":\"x\",\"y\":\"WeekStatus_Weekday\",\"yref\":\"y\"},{\"font\":{\"color\":\"#FFFFFF\"},\"showarrow\":false,\"text\":\"-0.65\",\"x\":\"Day_of_week_Saturday\",\"xref\":\"x\",\"y\":\"WeekStatus_Weekday\",\"yref\":\"y\"},{\"font\":{\"color\":\"#FFFFFF\"},\"showarrow\":false,\"text\":\"-0.65\",\"x\":\"Day_of_week_Sunday\",\"xref\":\"x\",\"y\":\"WeekStatus_Weekday\",\"yref\":\"y\"},{\"font\":{\"color\":\"#000000\"},\"showarrow\":false,\"text\":\"0.26\",\"x\":\"Day_of_week_Thursday\",\"xref\":\"x\",\"y\":\"WeekStatus_Weekday\",\"yref\":\"y\"},{\"font\":{\"color\":\"#000000\"},\"showarrow\":false,\"text\":\"0.26\",\"x\":\"Day_of_week_Tuesday\",\"xref\":\"x\",\"y\":\"WeekStatus_Weekday\",\"yref\":\"y\"},{\"font\":{\"color\":\"#000000\"},\"showarrow\":false,\"text\":\"0.26\",\"x\":\"Day_of_week_Wednesday\",\"xref\":\"x\",\"y\":\"WeekStatus_Weekday\",\"yref\":\"y\"},{\"font\":{\"color\":\"#FFFFFF\"},\"showarrow\":false,\"text\":\"-0.22\",\"x\":\"Load_Type_Light_Load\",\"xref\":\"x\",\"y\":\"WeekStatus_Weekday\",\"yref\":\"y\"},{\"font\":{\"color\":\"#000000\"},\"showarrow\":false,\"text\":\"0.12\",\"x\":\"Load_Type_Maximum_Load\",\"xref\":\"x\",\"y\":\"WeekStatus_Weekday\",\"yref\":\"y\"},{\"font\":{\"color\":\"#000000\"},\"showarrow\":false,\"text\":\"0.14\",\"x\":\"Load_Type_Medium_Load\",\"xref\":\"x\",\"y\":\"WeekStatus_Weekday\",\"yref\":\"y\"},{\"font\":{\"color\":\"#FFFFFF\"},\"showarrow\":false,\"text\":\"-0.3\",\"x\":\"Usage\",\"xref\":\"x\",\"y\":\"WeekStatus_Weekend\",\"yref\":\"y\"},{\"font\":{\"color\":\"#FFFFFF\"},\"showarrow\":false,\"text\":\"-0.32\",\"x\":\"Lag_RP\",\"xref\":\"x\",\"y\":\"WeekStatus_Weekend\",\"yref\":\"y\"},{\"font\":{\"color\":\"#000000\"},\"showarrow\":false,\"text\":\"0.26\",\"x\":\"Lead_RP\",\"xref\":\"x\",\"y\":\"WeekStatus_Weekend\",\"yref\":\"y\"},{\"font\":{\"color\":\"#FFFFFF\"},\"showarrow\":false,\"text\":\"-0.29\",\"x\":\"CO2\",\"xref\":\"x\",\"y\":\"WeekStatus_Weekend\",\"yref\":\"y\"},{\"font\":{\"color\":\"#000000\"},\"showarrow\":false,\"text\":\"0.05\",\"x\":\"Lag_PF\",\"xref\":\"x\",\"y\":\"WeekStatus_Weekend\",\"yref\":\"y\"},{\"font\":{\"color\":\"#FFFFFF\"},\"showarrow\":false,\"text\":\"-0.31\",\"x\":\"Lead_PF\",\"xref\":\"x\",\"y\":\"WeekStatus_Weekend\",\"yref\":\"y\"},{\"font\":{\"color\":\"#000000\"},\"showarrow\":false,\"text\":\"-0.0\",\"x\":\"NSM\",\"xref\":\"x\",\"y\":\"WeekStatus_Weekend\",\"yref\":\"y\"},{\"font\":{\"color\":\"#FFFFFF\"},\"showarrow\":false,\"text\":\"-1.0\",\"x\":\"WeekStatus_Weekday\",\"xref\":\"x\",\"y\":\"WeekStatus_Weekend\",\"yref\":\"y\"},{\"font\":{\"color\":\"#000000\"},\"showarrow\":false,\"text\":\"1.0\",\"x\":\"WeekStatus_Weekend\",\"xref\":\"x\",\"y\":\"WeekStatus_Weekend\",\"yref\":\"y\"},{\"font\":{\"color\":\"#FFFFFF\"},\"showarrow\":false,\"text\":\"-0.26\",\"x\":\"Day_of_week_Friday\",\"xref\":\"x\",\"y\":\"WeekStatus_Weekend\",\"yref\":\"y\"},{\"font\":{\"color\":\"#FFFFFF\"},\"showarrow\":false,\"text\":\"-0.26\",\"x\":\"Day_of_week_Monday\",\"xref\":\"x\",\"y\":\"WeekStatus_Weekend\",\"yref\":\"y\"},{\"font\":{\"color\":\"#000000\"},\"showarrow\":false,\"text\":\"0.65\",\"x\":\"Day_of_week_Saturday\",\"xref\":\"x\",\"y\":\"WeekStatus_Weekend\",\"yref\":\"y\"},{\"font\":{\"color\":\"#000000\"},\"showarrow\":false,\"text\":\"0.65\",\"x\":\"Day_of_week_Sunday\",\"xref\":\"x\",\"y\":\"WeekStatus_Weekend\",\"yref\":\"y\"},{\"font\":{\"color\":\"#FFFFFF\"},\"showarrow\":false,\"text\":\"-0.26\",\"x\":\"Day_of_week_Thursday\",\"xref\":\"x\",\"y\":\"WeekStatus_Weekend\",\"yref\":\"y\"},{\"font\":{\"color\":\"#FFFFFF\"},\"showarrow\":false,\"text\":\"-0.26\",\"x\":\"Day_of_week_Tuesday\",\"xref\":\"x\",\"y\":\"WeekStatus_Weekend\",\"yref\":\"y\"},{\"font\":{\"color\":\"#FFFFFF\"},\"showarrow\":false,\"text\":\"-0.26\",\"x\":\"Day_of_week_Wednesday\",\"xref\":\"x\",\"y\":\"WeekStatus_Weekend\",\"yref\":\"y\"},{\"font\":{\"color\":\"#000000\"},\"showarrow\":false,\"text\":\"0.22\",\"x\":\"Load_Type_Light_Load\",\"xref\":\"x\",\"y\":\"WeekStatus_Weekend\",\"yref\":\"y\"},{\"font\":{\"color\":\"#FFFFFF\"},\"showarrow\":false,\"text\":\"-0.12\",\"x\":\"Load_Type_Maximum_Load\",\"xref\":\"x\",\"y\":\"WeekStatus_Weekend\",\"yref\":\"y\"},{\"font\":{\"color\":\"#FFFFFF\"},\"showarrow\":false,\"text\":\"-0.14\",\"x\":\"Load_Type_Medium_Load\",\"xref\":\"x\",\"y\":\"WeekStatus_Weekend\",\"yref\":\"y\"},{\"font\":{\"color\":\"#000000\"},\"showarrow\":false,\"text\":\"0.07\",\"x\":\"Usage\",\"xref\":\"x\",\"y\":\"Day_of_week_Friday\",\"yref\":\"y\"},{\"font\":{\"color\":\"#000000\"},\"showarrow\":false,\"text\":\"0.08\",\"x\":\"Lag_RP\",\"xref\":\"x\",\"y\":\"Day_of_week_Friday\",\"yref\":\"y\"},{\"font\":{\"color\":\"#FFFFFF\"},\"showarrow\":false,\"text\":\"-0.07\",\"x\":\"Lead_RP\",\"xref\":\"x\",\"y\":\"Day_of_week_Friday\",\"yref\":\"y\"},{\"font\":{\"color\":\"#000000\"},\"showarrow\":false,\"text\":\"0.07\",\"x\":\"CO2\",\"xref\":\"x\",\"y\":\"Day_of_week_Friday\",\"yref\":\"y\"},{\"font\":{\"color\":\"#FFFFFF\"},\"showarrow\":false,\"text\":\"-0.02\",\"x\":\"Lag_PF\",\"xref\":\"x\",\"y\":\"Day_of_week_Friday\",\"yref\":\"y\"},{\"font\":{\"color\":\"#000000\"},\"showarrow\":false,\"text\":\"0.09\",\"x\":\"Lead_PF\",\"xref\":\"x\",\"y\":\"Day_of_week_Friday\",\"yref\":\"y\"},{\"font\":{\"color\":\"#000000\"},\"showarrow\":false,\"text\":\"0.0\",\"x\":\"NSM\",\"xref\":\"x\",\"y\":\"Day_of_week_Friday\",\"yref\":\"y\"},{\"font\":{\"color\":\"#000000\"},\"showarrow\":false,\"text\":\"0.26\",\"x\":\"WeekStatus_Weekday\",\"xref\":\"x\",\"y\":\"Day_of_week_Friday\",\"yref\":\"y\"},{\"font\":{\"color\":\"#FFFFFF\"},\"showarrow\":false,\"text\":\"-0.26\",\"x\":\"WeekStatus_Weekend\",\"xref\":\"x\",\"y\":\"Day_of_week_Friday\",\"yref\":\"y\"},{\"font\":{\"color\":\"#000000\"},\"showarrow\":false,\"text\":\"1.0\",\"x\":\"Day_of_week_Friday\",\"xref\":\"x\",\"y\":\"Day_of_week_Friday\",\"yref\":\"y\"},{\"font\":{\"color\":\"#FFFFFF\"},\"showarrow\":false,\"text\":\"-0.17\",\"x\":\"Day_of_week_Monday\",\"xref\":\"x\",\"y\":\"Day_of_week_Friday\",\"yref\":\"y\"},{\"font\":{\"color\":\"#FFFFFF\"},\"showarrow\":false,\"text\":\"-0.17\",\"x\":\"Day_of_week_Saturday\",\"xref\":\"x\",\"y\":\"Day_of_week_Friday\",\"yref\":\"y\"},{\"font\":{\"color\":\"#FFFFFF\"},\"showarrow\":false,\"text\":\"-0.17\",\"x\":\"Day_of_week_Sunday\",\"xref\":\"x\",\"y\":\"Day_of_week_Friday\",\"yref\":\"y\"},{\"font\":{\"color\":\"#FFFFFF\"},\"showarrow\":false,\"text\":\"-0.17\",\"x\":\"Day_of_week_Thursday\",\"xref\":\"x\",\"y\":\"Day_of_week_Friday\",\"yref\":\"y\"},{\"font\":{\"color\":\"#FFFFFF\"},\"showarrow\":false,\"text\":\"-0.17\",\"x\":\"Day_of_week_Tuesday\",\"xref\":\"x\",\"y\":\"Day_of_week_Friday\",\"yref\":\"y\"},{\"font\":{\"color\":\"#FFFFFF\"},\"showarrow\":false,\"text\":\"-0.17\",\"x\":\"Day_of_week_Wednesday\",\"xref\":\"x\",\"y\":\"Day_of_week_Friday\",\"yref\":\"y\"},{\"font\":{\"color\":\"#FFFFFF\"},\"showarrow\":false,\"text\":\"-0.06\",\"x\":\"Load_Type_Light_Load\",\"xref\":\"x\",\"y\":\"Day_of_week_Friday\",\"yref\":\"y\"},{\"font\":{\"color\":\"#000000\"},\"showarrow\":false,\"text\":\"0.03\",\"x\":\"Load_Type_Maximum_Load\",\"xref\":\"x\",\"y\":\"Day_of_week_Friday\",\"yref\":\"y\"},{\"font\":{\"color\":\"#000000\"},\"showarrow\":false,\"text\":\"0.04\",\"x\":\"Load_Type_Medium_Load\",\"xref\":\"x\",\"y\":\"Day_of_week_Friday\",\"yref\":\"y\"},{\"font\":{\"color\":\"#000000\"},\"showarrow\":false,\"text\":\"0.07\",\"x\":\"Usage\",\"xref\":\"x\",\"y\":\"Day_of_week_Monday\",\"yref\":\"y\"},{\"font\":{\"color\":\"#000000\"},\"showarrow\":false,\"text\":\"0.08\",\"x\":\"Lag_RP\",\"xref\":\"x\",\"y\":\"Day_of_week_Monday\",\"yref\":\"y\"},{\"font\":{\"color\":\"#FFFFFF\"},\"showarrow\":false,\"text\":\"-0.07\",\"x\":\"Lead_RP\",\"xref\":\"x\",\"y\":\"Day_of_week_Monday\",\"yref\":\"y\"},{\"font\":{\"color\":\"#000000\"},\"showarrow\":false,\"text\":\"0.07\",\"x\":\"CO2\",\"xref\":\"x\",\"y\":\"Day_of_week_Monday\",\"yref\":\"y\"},{\"font\":{\"color\":\"#FFFFFF\"},\"showarrow\":false,\"text\":\"-0.02\",\"x\":\"Lag_PF\",\"xref\":\"x\",\"y\":\"Day_of_week_Monday\",\"yref\":\"y\"},{\"font\":{\"color\":\"#000000\"},\"showarrow\":false,\"text\":\"0.08\",\"x\":\"Lead_PF\",\"xref\":\"x\",\"y\":\"Day_of_week_Monday\",\"yref\":\"y\"},{\"font\":{\"color\":\"#000000\"},\"showarrow\":false,\"text\":\"0.0\",\"x\":\"NSM\",\"xref\":\"x\",\"y\":\"Day_of_week_Monday\",\"yref\":\"y\"},{\"font\":{\"color\":\"#000000\"},\"showarrow\":false,\"text\":\"0.26\",\"x\":\"WeekStatus_Weekday\",\"xref\":\"x\",\"y\":\"Day_of_week_Monday\",\"yref\":\"y\"},{\"font\":{\"color\":\"#FFFFFF\"},\"showarrow\":false,\"text\":\"-0.26\",\"x\":\"WeekStatus_Weekend\",\"xref\":\"x\",\"y\":\"Day_of_week_Monday\",\"yref\":\"y\"},{\"font\":{\"color\":\"#FFFFFF\"},\"showarrow\":false,\"text\":\"-0.17\",\"x\":\"Day_of_week_Friday\",\"xref\":\"x\",\"y\":\"Day_of_week_Monday\",\"yref\":\"y\"},{\"font\":{\"color\":\"#000000\"},\"showarrow\":false,\"text\":\"1.0\",\"x\":\"Day_of_week_Monday\",\"xref\":\"x\",\"y\":\"Day_of_week_Monday\",\"yref\":\"y\"},{\"font\":{\"color\":\"#FFFFFF\"},\"showarrow\":false,\"text\":\"-0.17\",\"x\":\"Day_of_week_Saturday\",\"xref\":\"x\",\"y\":\"Day_of_week_Monday\",\"yref\":\"y\"},{\"font\":{\"color\":\"#FFFFFF\"},\"showarrow\":false,\"text\":\"-0.17\",\"x\":\"Day_of_week_Sunday\",\"xref\":\"x\",\"y\":\"Day_of_week_Monday\",\"yref\":\"y\"},{\"font\":{\"color\":\"#FFFFFF\"},\"showarrow\":false,\"text\":\"-0.17\",\"x\":\"Day_of_week_Thursday\",\"xref\":\"x\",\"y\":\"Day_of_week_Monday\",\"yref\":\"y\"},{\"font\":{\"color\":\"#FFFFFF\"},\"showarrow\":false,\"text\":\"-0.17\",\"x\":\"Day_of_week_Tuesday\",\"xref\":\"x\",\"y\":\"Day_of_week_Monday\",\"yref\":\"y\"},{\"font\":{\"color\":\"#FFFFFF\"},\"showarrow\":false,\"text\":\"-0.17\",\"x\":\"Day_of_week_Wednesday\",\"xref\":\"x\",\"y\":\"Day_of_week_Monday\",\"yref\":\"y\"},{\"font\":{\"color\":\"#FFFFFF\"},\"showarrow\":false,\"text\":\"-0.05\",\"x\":\"Load_Type_Light_Load\",\"xref\":\"x\",\"y\":\"Day_of_week_Monday\",\"yref\":\"y\"},{\"font\":{\"color\":\"#000000\"},\"showarrow\":false,\"text\":\"0.03\",\"x\":\"Load_Type_Maximum_Load\",\"xref\":\"x\",\"y\":\"Day_of_week_Monday\",\"yref\":\"y\"},{\"font\":{\"color\":\"#000000\"},\"showarrow\":false,\"text\":\"0.03\",\"x\":\"Load_Type_Medium_Load\",\"xref\":\"x\",\"y\":\"Day_of_week_Monday\",\"yref\":\"y\"},{\"font\":{\"color\":\"#FFFFFF\"},\"showarrow\":false,\"text\":\"-0.14\",\"x\":\"Usage\",\"xref\":\"x\",\"y\":\"Day_of_week_Saturday\",\"yref\":\"y\"},{\"font\":{\"color\":\"#FFFFFF\"},\"showarrow\":false,\"text\":\"-0.17\",\"x\":\"Lag_RP\",\"xref\":\"x\",\"y\":\"Day_of_week_Saturday\",\"yref\":\"y\"},{\"font\":{\"color\":\"#000000\"},\"showarrow\":false,\"text\":\"0.13\",\"x\":\"Lead_RP\",\"xref\":\"x\",\"y\":\"Day_of_week_Saturday\",\"yref\":\"y\"},{\"font\":{\"color\":\"#FFFFFF\"},\"showarrow\":false,\"text\":\"-0.14\",\"x\":\"CO2\",\"xref\":\"x\",\"y\":\"Day_of_week_Saturday\",\"yref\":\"y\"},{\"font\":{\"color\":\"#000000\"},\"showarrow\":false,\"text\":\"0.04\",\"x\":\"Lag_PF\",\"xref\":\"x\",\"y\":\"Day_of_week_Saturday\",\"yref\":\"y\"},{\"font\":{\"color\":\"#FFFFFF\"},\"showarrow\":false,\"text\":\"-0.13\",\"x\":\"Lead_PF\",\"xref\":\"x\",\"y\":\"Day_of_week_Saturday\",\"yref\":\"y\"},{\"font\":{\"color\":\"#000000\"},\"showarrow\":false,\"text\":\"-0.0\",\"x\":\"NSM\",\"xref\":\"x\",\"y\":\"Day_of_week_Saturday\",\"yref\":\"y\"},{\"font\":{\"color\":\"#FFFFFF\"},\"showarrow\":false,\"text\":\"-0.65\",\"x\":\"WeekStatus_Weekday\",\"xref\":\"x\",\"y\":\"Day_of_week_Saturday\",\"yref\":\"y\"},{\"font\":{\"color\":\"#000000\"},\"showarrow\":false,\"text\":\"0.65\",\"x\":\"WeekStatus_Weekend\",\"xref\":\"x\",\"y\":\"Day_of_week_Saturday\",\"yref\":\"y\"},{\"font\":{\"color\":\"#FFFFFF\"},\"showarrow\":false,\"text\":\"-0.17\",\"x\":\"Day_of_week_Friday\",\"xref\":\"x\",\"y\":\"Day_of_week_Saturday\",\"yref\":\"y\"},{\"font\":{\"color\":\"#FFFFFF\"},\"showarrow\":false,\"text\":\"-0.17\",\"x\":\"Day_of_week_Monday\",\"xref\":\"x\",\"y\":\"Day_of_week_Saturday\",\"yref\":\"y\"},{\"font\":{\"color\":\"#000000\"},\"showarrow\":false,\"text\":\"1.0\",\"x\":\"Day_of_week_Saturday\",\"xref\":\"x\",\"y\":\"Day_of_week_Saturday\",\"yref\":\"y\"},{\"font\":{\"color\":\"#FFFFFF\"},\"showarrow\":false,\"text\":\"-0.17\",\"x\":\"Day_of_week_Sunday\",\"xref\":\"x\",\"y\":\"Day_of_week_Saturday\",\"yref\":\"y\"},{\"font\":{\"color\":\"#FFFFFF\"},\"showarrow\":false,\"text\":\"-0.17\",\"x\":\"Day_of_week_Thursday\",\"xref\":\"x\",\"y\":\"Day_of_week_Saturday\",\"yref\":\"y\"},{\"font\":{\"color\":\"#FFFFFF\"},\"showarrow\":false,\"text\":\"-0.17\",\"x\":\"Day_of_week_Tuesday\",\"xref\":\"x\",\"y\":\"Day_of_week_Saturday\",\"yref\":\"y\"},{\"font\":{\"color\":\"#FFFFFF\"},\"showarrow\":false,\"text\":\"-0.17\",\"x\":\"Day_of_week_Wednesday\",\"xref\":\"x\",\"y\":\"Day_of_week_Saturday\",\"yref\":\"y\"},{\"font\":{\"color\":\"#000000\"},\"showarrow\":false,\"text\":\"0.05\",\"x\":\"Load_Type_Light_Load\",\"xref\":\"x\",\"y\":\"Day_of_week_Saturday\",\"yref\":\"y\"},{\"font\":{\"color\":\"#FFFFFF\"},\"showarrow\":false,\"text\":\"-0.02\",\"x\":\"Load_Type_Maximum_Load\",\"xref\":\"x\",\"y\":\"Day_of_week_Saturday\",\"yref\":\"y\"},{\"font\":{\"color\":\"#FFFFFF\"},\"showarrow\":false,\"text\":\"-0.03\",\"x\":\"Load_Type_Medium_Load\",\"xref\":\"x\",\"y\":\"Day_of_week_Saturday\",\"yref\":\"y\"},{\"font\":{\"color\":\"#FFFFFF\"},\"showarrow\":false,\"text\":\"-0.24\",\"x\":\"Usage\",\"xref\":\"x\",\"y\":\"Day_of_week_Sunday\",\"yref\":\"y\"},{\"font\":{\"color\":\"#FFFFFF\"},\"showarrow\":false,\"text\":\"-0.24\",\"x\":\"Lag_RP\",\"xref\":\"x\",\"y\":\"Day_of_week_Sunday\",\"yref\":\"y\"},{\"font\":{\"color\":\"#000000\"},\"showarrow\":false,\"text\":\"0.21\",\"x\":\"Lead_RP\",\"xref\":\"x\",\"y\":\"Day_of_week_Sunday\",\"yref\":\"y\"},{\"font\":{\"color\":\"#FFFFFF\"},\"showarrow\":false,\"text\":\"-0.24\",\"x\":\"CO2\",\"xref\":\"x\",\"y\":\"Day_of_week_Sunday\",\"yref\":\"y\"},{\"font\":{\"color\":\"#000000\"},\"showarrow\":false,\"text\":\"0.03\",\"x\":\"Lag_PF\",\"xref\":\"x\",\"y\":\"Day_of_week_Sunday\",\"yref\":\"y\"},{\"font\":{\"color\":\"#FFFFFF\"},\"showarrow\":false,\"text\":\"-0.27\",\"x\":\"Lead_PF\",\"xref\":\"x\",\"y\":\"Day_of_week_Sunday\",\"yref\":\"y\"},{\"font\":{\"color\":\"#000000\"},\"showarrow\":false,\"text\":\"-0.0\",\"x\":\"NSM\",\"xref\":\"x\",\"y\":\"Day_of_week_Sunday\",\"yref\":\"y\"},{\"font\":{\"color\":\"#FFFFFF\"},\"showarrow\":false,\"text\":\"-0.65\",\"x\":\"WeekStatus_Weekday\",\"xref\":\"x\",\"y\":\"Day_of_week_Sunday\",\"yref\":\"y\"},{\"font\":{\"color\":\"#000000\"},\"showarrow\":false,\"text\":\"0.65\",\"x\":\"WeekStatus_Weekend\",\"xref\":\"x\",\"y\":\"Day_of_week_Sunday\",\"yref\":\"y\"},{\"font\":{\"color\":\"#FFFFFF\"},\"showarrow\":false,\"text\":\"-0.17\",\"x\":\"Day_of_week_Friday\",\"xref\":\"x\",\"y\":\"Day_of_week_Sunday\",\"yref\":\"y\"},{\"font\":{\"color\":\"#FFFFFF\"},\"showarrow\":false,\"text\":\"-0.17\",\"x\":\"Day_of_week_Monday\",\"xref\":\"x\",\"y\":\"Day_of_week_Sunday\",\"yref\":\"y\"},{\"font\":{\"color\":\"#FFFFFF\"},\"showarrow\":false,\"text\":\"-0.17\",\"x\":\"Day_of_week_Saturday\",\"xref\":\"x\",\"y\":\"Day_of_week_Sunday\",\"yref\":\"y\"},{\"font\":{\"color\":\"#000000\"},\"showarrow\":false,\"text\":\"1.0\",\"x\":\"Day_of_week_Sunday\",\"xref\":\"x\",\"y\":\"Day_of_week_Sunday\",\"yref\":\"y\"},{\"font\":{\"color\":\"#FFFFFF\"},\"showarrow\":false,\"text\":\"-0.17\",\"x\":\"Day_of_week_Thursday\",\"xref\":\"x\",\"y\":\"Day_of_week_Sunday\",\"yref\":\"y\"},{\"font\":{\"color\":\"#FFFFFF\"},\"showarrow\":false,\"text\":\"-0.17\",\"x\":\"Day_of_week_Tuesday\",\"xref\":\"x\",\"y\":\"Day_of_week_Sunday\",\"yref\":\"y\"},{\"font\":{\"color\":\"#FFFFFF\"},\"showarrow\":false,\"text\":\"-0.17\",\"x\":\"Day_of_week_Wednesday\",\"xref\":\"x\",\"y\":\"Day_of_week_Sunday\",\"yref\":\"y\"},{\"font\":{\"color\":\"#000000\"},\"showarrow\":false,\"text\":\"0.24\",\"x\":\"Load_Type_Light_Load\",\"xref\":\"x\",\"y\":\"Day_of_week_Sunday\",\"yref\":\"y\"},{\"font\":{\"color\":\"#FFFFFF\"},\"showarrow\":false,\"text\":\"-0.13\",\"x\":\"Load_Type_Maximum_Load\",\"xref\":\"x\",\"y\":\"Day_of_week_Sunday\",\"yref\":\"y\"},{\"font\":{\"color\":\"#FFFFFF\"},\"showarrow\":false,\"text\":\"-0.15\",\"x\":\"Load_Type_Medium_Load\",\"xref\":\"x\",\"y\":\"Day_of_week_Sunday\",\"yref\":\"y\"},{\"font\":{\"color\":\"#000000\"},\"showarrow\":false,\"text\":\"0.09\",\"x\":\"Usage\",\"xref\":\"x\",\"y\":\"Day_of_week_Thursday\",\"yref\":\"y\"},{\"font\":{\"color\":\"#000000\"},\"showarrow\":false,\"text\":\"0.11\",\"x\":\"Lag_RP\",\"xref\":\"x\",\"y\":\"Day_of_week_Thursday\",\"yref\":\"y\"},{\"font\":{\"color\":\"#FFFFFF\"},\"showarrow\":false,\"text\":\"-0.08\",\"x\":\"Lead_RP\",\"xref\":\"x\",\"y\":\"Day_of_week_Thursday\",\"yref\":\"y\"},{\"font\":{\"color\":\"#000000\"},\"showarrow\":false,\"text\":\"0.1\",\"x\":\"CO2\",\"xref\":\"x\",\"y\":\"Day_of_week_Thursday\",\"yref\":\"y\"},{\"font\":{\"color\":\"#FFFFFF\"},\"showarrow\":false,\"text\":\"-0.02\",\"x\":\"Lag_PF\",\"xref\":\"x\",\"y\":\"Day_of_week_Thursday\",\"yref\":\"y\"},{\"font\":{\"color\":\"#000000\"},\"showarrow\":false,\"text\":\"0.1\",\"x\":\"Lead_PF\",\"xref\":\"x\",\"y\":\"Day_of_week_Thursday\",\"yref\":\"y\"},{\"font\":{\"color\":\"#000000\"},\"showarrow\":false,\"text\":\"0.0\",\"x\":\"NSM\",\"xref\":\"x\",\"y\":\"Day_of_week_Thursday\",\"yref\":\"y\"},{\"font\":{\"color\":\"#000000\"},\"showarrow\":false,\"text\":\"0.26\",\"x\":\"WeekStatus_Weekday\",\"xref\":\"x\",\"y\":\"Day_of_week_Thursday\",\"yref\":\"y\"},{\"font\":{\"color\":\"#FFFFFF\"},\"showarrow\":false,\"text\":\"-0.26\",\"x\":\"WeekStatus_Weekend\",\"xref\":\"x\",\"y\":\"Day_of_week_Thursday\",\"yref\":\"y\"},{\"font\":{\"color\":\"#FFFFFF\"},\"showarrow\":false,\"text\":\"-0.17\",\"x\":\"Day_of_week_Friday\",\"xref\":\"x\",\"y\":\"Day_of_week_Thursday\",\"yref\":\"y\"},{\"font\":{\"color\":\"#FFFFFF\"},\"showarrow\":false,\"text\":\"-0.17\",\"x\":\"Day_of_week_Monday\",\"xref\":\"x\",\"y\":\"Day_of_week_Thursday\",\"yref\":\"y\"},{\"font\":{\"color\":\"#FFFFFF\"},\"showarrow\":false,\"text\":\"-0.17\",\"x\":\"Day_of_week_Saturday\",\"xref\":\"x\",\"y\":\"Day_of_week_Thursday\",\"yref\":\"y\"},{\"font\":{\"color\":\"#FFFFFF\"},\"showarrow\":false,\"text\":\"-0.17\",\"x\":\"Day_of_week_Sunday\",\"xref\":\"x\",\"y\":\"Day_of_week_Thursday\",\"yref\":\"y\"},{\"font\":{\"color\":\"#000000\"},\"showarrow\":false,\"text\":\"1.0\",\"x\":\"Day_of_week_Thursday\",\"xref\":\"x\",\"y\":\"Day_of_week_Thursday\",\"yref\":\"y\"},{\"font\":{\"color\":\"#FFFFFF\"},\"showarrow\":false,\"text\":\"-0.17\",\"x\":\"Day_of_week_Tuesday\",\"xref\":\"x\",\"y\":\"Day_of_week_Thursday\",\"yref\":\"y\"},{\"font\":{\"color\":\"#FFFFFF\"},\"showarrow\":false,\"text\":\"-0.17\",\"x\":\"Day_of_week_Wednesday\",\"xref\":\"x\",\"y\":\"Day_of_week_Thursday\",\"yref\":\"y\"},{\"font\":{\"color\":\"#FFFFFF\"},\"showarrow\":false,\"text\":\"-0.06\",\"x\":\"Load_Type_Light_Load\",\"xref\":\"x\",\"y\":\"Day_of_week_Thursday\",\"yref\":\"y\"},{\"font\":{\"color\":\"#000000\"},\"showarrow\":false,\"text\":\"0.03\",\"x\":\"Load_Type_Maximum_Load\",\"xref\":\"x\",\"y\":\"Day_of_week_Thursday\",\"yref\":\"y\"},{\"font\":{\"color\":\"#000000\"},\"showarrow\":false,\"text\":\"0.04\",\"x\":\"Load_Type_Medium_Load\",\"xref\":\"x\",\"y\":\"Day_of_week_Thursday\",\"yref\":\"y\"},{\"font\":{\"color\":\"#000000\"},\"showarrow\":false,\"text\":\"0.09\",\"x\":\"Usage\",\"xref\":\"x\",\"y\":\"Day_of_week_Tuesday\",\"yref\":\"y\"},{\"font\":{\"color\":\"#000000\"},\"showarrow\":false,\"text\":\"0.09\",\"x\":\"Lag_RP\",\"xref\":\"x\",\"y\":\"Day_of_week_Tuesday\",\"yref\":\"y\"},{\"font\":{\"color\":\"#FFFFFF\"},\"showarrow\":false,\"text\":\"-0.07\",\"x\":\"Lead_RP\",\"xref\":\"x\",\"y\":\"Day_of_week_Tuesday\",\"yref\":\"y\"},{\"font\":{\"color\":\"#000000\"},\"showarrow\":false,\"text\":\"0.08\",\"x\":\"CO2\",\"xref\":\"x\",\"y\":\"Day_of_week_Tuesday\",\"yref\":\"y\"},{\"font\":{\"color\":\"#FFFFFF\"},\"showarrow\":false,\"text\":\"-0.01\",\"x\":\"Lag_PF\",\"xref\":\"x\",\"y\":\"Day_of_week_Tuesday\",\"yref\":\"y\"},{\"font\":{\"color\":\"#000000\"},\"showarrow\":false,\"text\":\"0.09\",\"x\":\"Lead_PF\",\"xref\":\"x\",\"y\":\"Day_of_week_Tuesday\",\"yref\":\"y\"},{\"font\":{\"color\":\"#000000\"},\"showarrow\":false,\"text\":\"-0.0\",\"x\":\"NSM\",\"xref\":\"x\",\"y\":\"Day_of_week_Tuesday\",\"yref\":\"y\"},{\"font\":{\"color\":\"#000000\"},\"showarrow\":false,\"text\":\"0.26\",\"x\":\"WeekStatus_Weekday\",\"xref\":\"x\",\"y\":\"Day_of_week_Tuesday\",\"yref\":\"y\"},{\"font\":{\"color\":\"#FFFFFF\"},\"showarrow\":false,\"text\":\"-0.26\",\"x\":\"WeekStatus_Weekend\",\"xref\":\"x\",\"y\":\"Day_of_week_Tuesday\",\"yref\":\"y\"},{\"font\":{\"color\":\"#FFFFFF\"},\"showarrow\":false,\"text\":\"-0.17\",\"x\":\"Day_of_week_Friday\",\"xref\":\"x\",\"y\":\"Day_of_week_Tuesday\",\"yref\":\"y\"},{\"font\":{\"color\":\"#FFFFFF\"},\"showarrow\":false,\"text\":\"-0.17\",\"x\":\"Day_of_week_Monday\",\"xref\":\"x\",\"y\":\"Day_of_week_Tuesday\",\"yref\":\"y\"},{\"font\":{\"color\":\"#FFFFFF\"},\"showarrow\":false,\"text\":\"-0.17\",\"x\":\"Day_of_week_Saturday\",\"xref\":\"x\",\"y\":\"Day_of_week_Tuesday\",\"yref\":\"y\"},{\"font\":{\"color\":\"#FFFFFF\"},\"showarrow\":false,\"text\":\"-0.17\",\"x\":\"Day_of_week_Sunday\",\"xref\":\"x\",\"y\":\"Day_of_week_Tuesday\",\"yref\":\"y\"},{\"font\":{\"color\":\"#FFFFFF\"},\"showarrow\":false,\"text\":\"-0.17\",\"x\":\"Day_of_week_Thursday\",\"xref\":\"x\",\"y\":\"Day_of_week_Tuesday\",\"yref\":\"y\"},{\"font\":{\"color\":\"#000000\"},\"showarrow\":false,\"text\":\"1.0\",\"x\":\"Day_of_week_Tuesday\",\"xref\":\"x\",\"y\":\"Day_of_week_Tuesday\",\"yref\":\"y\"},{\"font\":{\"color\":\"#FFFFFF\"},\"showarrow\":false,\"text\":\"-0.17\",\"x\":\"Day_of_week_Wednesday\",\"xref\":\"x\",\"y\":\"Day_of_week_Tuesday\",\"yref\":\"y\"},{\"font\":{\"color\":\"#FFFFFF\"},\"showarrow\":false,\"text\":\"-0.05\",\"x\":\"Load_Type_Light_Load\",\"xref\":\"x\",\"y\":\"Day_of_week_Tuesday\",\"yref\":\"y\"},{\"font\":{\"color\":\"#000000\"},\"showarrow\":false,\"text\":\"0.03\",\"x\":\"Load_Type_Maximum_Load\",\"xref\":\"x\",\"y\":\"Day_of_week_Tuesday\",\"yref\":\"y\"},{\"font\":{\"color\":\"#000000\"},\"showarrow\":false,\"text\":\"0.03\",\"x\":\"Load_Type_Medium_Load\",\"xref\":\"x\",\"y\":\"Day_of_week_Tuesday\",\"yref\":\"y\"},{\"font\":{\"color\":\"#000000\"},\"showarrow\":false,\"text\":\"0.06\",\"x\":\"Usage\",\"xref\":\"x\",\"y\":\"Day_of_week_Wednesday\",\"yref\":\"y\"},{\"font\":{\"color\":\"#000000\"},\"showarrow\":false,\"text\":\"0.06\",\"x\":\"Lag_RP\",\"xref\":\"x\",\"y\":\"Day_of_week_Wednesday\",\"yref\":\"y\"},{\"font\":{\"color\":\"#FFFFFF\"},\"showarrow\":false,\"text\":\"-0.04\",\"x\":\"Lead_RP\",\"xref\":\"x\",\"y\":\"Day_of_week_Wednesday\",\"yref\":\"y\"},{\"font\":{\"color\":\"#000000\"},\"showarrow\":false,\"text\":\"0.06\",\"x\":\"CO2\",\"xref\":\"x\",\"y\":\"Day_of_week_Wednesday\",\"yref\":\"y\"},{\"font\":{\"color\":\"#FFFFFF\"},\"showarrow\":false,\"text\":\"-0.0\",\"x\":\"Lag_PF\",\"xref\":\"x\",\"y\":\"Day_of_week_Wednesday\",\"yref\":\"y\"},{\"font\":{\"color\":\"#000000\"},\"showarrow\":false,\"text\":\"0.05\",\"x\":\"Lead_PF\",\"xref\":\"x\",\"y\":\"Day_of_week_Wednesday\",\"yref\":\"y\"},{\"font\":{\"color\":\"#000000\"},\"showarrow\":false,\"text\":\"-0.0\",\"x\":\"NSM\",\"xref\":\"x\",\"y\":\"Day_of_week_Wednesday\",\"yref\":\"y\"},{\"font\":{\"color\":\"#000000\"},\"showarrow\":false,\"text\":\"0.26\",\"x\":\"WeekStatus_Weekday\",\"xref\":\"x\",\"y\":\"Day_of_week_Wednesday\",\"yref\":\"y\"},{\"font\":{\"color\":\"#FFFFFF\"},\"showarrow\":false,\"text\":\"-0.26\",\"x\":\"WeekStatus_Weekend\",\"xref\":\"x\",\"y\":\"Day_of_week_Wednesday\",\"yref\":\"y\"},{\"font\":{\"color\":\"#FFFFFF\"},\"showarrow\":false,\"text\":\"-0.17\",\"x\":\"Day_of_week_Friday\",\"xref\":\"x\",\"y\":\"Day_of_week_Wednesday\",\"yref\":\"y\"},{\"font\":{\"color\":\"#FFFFFF\"},\"showarrow\":false,\"text\":\"-0.17\",\"x\":\"Day_of_week_Monday\",\"xref\":\"x\",\"y\":\"Day_of_week_Wednesday\",\"yref\":\"y\"},{\"font\":{\"color\":\"#FFFFFF\"},\"showarrow\":false,\"text\":\"-0.17\",\"x\":\"Day_of_week_Saturday\",\"xref\":\"x\",\"y\":\"Day_of_week_Wednesday\",\"yref\":\"y\"},{\"font\":{\"color\":\"#FFFFFF\"},\"showarrow\":false,\"text\":\"-0.17\",\"x\":\"Day_of_week_Sunday\",\"xref\":\"x\",\"y\":\"Day_of_week_Wednesday\",\"yref\":\"y\"},{\"font\":{\"color\":\"#FFFFFF\"},\"showarrow\":false,\"text\":\"-0.17\",\"x\":\"Day_of_week_Thursday\",\"xref\":\"x\",\"y\":\"Day_of_week_Wednesday\",\"yref\":\"y\"},{\"font\":{\"color\":\"#FFFFFF\"},\"showarrow\":false,\"text\":\"-0.17\",\"x\":\"Day_of_week_Tuesday\",\"xref\":\"x\",\"y\":\"Day_of_week_Wednesday\",\"yref\":\"y\"},{\"font\":{\"color\":\"#000000\"},\"showarrow\":false,\"text\":\"1.0\",\"x\":\"Day_of_week_Wednesday\",\"xref\":\"x\",\"y\":\"Day_of_week_Wednesday\",\"yref\":\"y\"},{\"font\":{\"color\":\"#FFFFFF\"},\"showarrow\":false,\"text\":\"-0.05\",\"x\":\"Load_Type_Light_Load\",\"xref\":\"x\",\"y\":\"Day_of_week_Wednesday\",\"yref\":\"y\"},{\"font\":{\"color\":\"#000000\"},\"showarrow\":false,\"text\":\"0.03\",\"x\":\"Load_Type_Maximum_Load\",\"xref\":\"x\",\"y\":\"Day_of_week_Wednesday\",\"yref\":\"y\"},{\"font\":{\"color\":\"#000000\"},\"showarrow\":false,\"text\":\"0.03\",\"x\":\"Load_Type_Medium_Load\",\"xref\":\"x\",\"y\":\"Day_of_week_Wednesday\",\"yref\":\"y\"},{\"font\":{\"color\":\"#FFFFFF\"},\"showarrow\":false,\"text\":\"-0.58\",\"x\":\"Usage\",\"xref\":\"x\",\"y\":\"Load_Type_Light_Load\",\"yref\":\"y\"},{\"font\":{\"color\":\"#FFFFFF\"},\"showarrow\":false,\"text\":\"-0.38\",\"x\":\"Lag_RP\",\"xref\":\"x\",\"y\":\"Load_Type_Light_Load\",\"yref\":\"y\"},{\"font\":{\"color\":\"#FFFFFF\"},\"showarrow\":false,\"text\":\"-0.13\",\"x\":\"Lead_RP\",\"xref\":\"x\",\"y\":\"Load_Type_Light_Load\",\"yref\":\"y\"},{\"font\":{\"color\":\"#FFFFFF\"},\"showarrow\":false,\"text\":\"-0.57\",\"x\":\"CO2\",\"xref\":\"x\",\"y\":\"Load_Type_Light_Load\",\"yref\":\"y\"},{\"font\":{\"color\":\"#FFFFFF\"},\"showarrow\":false,\"text\":\"-0.59\",\"x\":\"Lag_PF\",\"xref\":\"x\",\"y\":\"Load_Type_Light_Load\",\"yref\":\"y\"},{\"font\":{\"color\":\"#000000\"},\"showarrow\":false,\"text\":\"0.04\",\"x\":\"Lead_PF\",\"xref\":\"x\",\"y\":\"Load_Type_Light_Load\",\"yref\":\"y\"},{\"font\":{\"color\":\"#FFFFFF\"},\"showarrow\":false,\"text\":\"-0.59\",\"x\":\"NSM\",\"xref\":\"x\",\"y\":\"Load_Type_Light_Load\",\"yref\":\"y\"},{\"font\":{\"color\":\"#FFFFFF\"},\"showarrow\":false,\"text\":\"-0.22\",\"x\":\"WeekStatus_Weekday\",\"xref\":\"x\",\"y\":\"Load_Type_Light_Load\",\"yref\":\"y\"},{\"font\":{\"color\":\"#000000\"},\"showarrow\":false,\"text\":\"0.22\",\"x\":\"WeekStatus_Weekend\",\"xref\":\"x\",\"y\":\"Load_Type_Light_Load\",\"yref\":\"y\"},{\"font\":{\"color\":\"#FFFFFF\"},\"showarrow\":false,\"text\":\"-0.06\",\"x\":\"Day_of_week_Friday\",\"xref\":\"x\",\"y\":\"Load_Type_Light_Load\",\"yref\":\"y\"},{\"font\":{\"color\":\"#FFFFFF\"},\"showarrow\":false,\"text\":\"-0.05\",\"x\":\"Day_of_week_Monday\",\"xref\":\"x\",\"y\":\"Load_Type_Light_Load\",\"yref\":\"y\"},{\"font\":{\"color\":\"#000000\"},\"showarrow\":false,\"text\":\"0.05\",\"x\":\"Day_of_week_Saturday\",\"xref\":\"x\",\"y\":\"Load_Type_Light_Load\",\"yref\":\"y\"},{\"font\":{\"color\":\"#000000\"},\"showarrow\":false,\"text\":\"0.24\",\"x\":\"Day_of_week_Sunday\",\"xref\":\"x\",\"y\":\"Load_Type_Light_Load\",\"yref\":\"y\"},{\"font\":{\"color\":\"#FFFFFF\"},\"showarrow\":false,\"text\":\"-0.06\",\"x\":\"Day_of_week_Thursday\",\"xref\":\"x\",\"y\":\"Load_Type_Light_Load\",\"yref\":\"y\"},{\"font\":{\"color\":\"#FFFFFF\"},\"showarrow\":false,\"text\":\"-0.05\",\"x\":\"Day_of_week_Tuesday\",\"xref\":\"x\",\"y\":\"Load_Type_Light_Load\",\"yref\":\"y\"},{\"font\":{\"color\":\"#FFFFFF\"},\"showarrow\":false,\"text\":\"-0.05\",\"x\":\"Day_of_week_Wednesday\",\"xref\":\"x\",\"y\":\"Load_Type_Light_Load\",\"yref\":\"y\"},{\"font\":{\"color\":\"#000000\"},\"showarrow\":false,\"text\":\"1.0\",\"x\":\"Load_Type_Light_Load\",\"xref\":\"x\",\"y\":\"Load_Type_Light_Load\",\"yref\":\"y\"},{\"font\":{\"color\":\"#FFFFFF\"},\"showarrow\":false,\"text\":\"-0.53\",\"x\":\"Load_Type_Maximum_Load\",\"xref\":\"x\",\"y\":\"Load_Type_Light_Load\",\"yref\":\"y\"},{\"font\":{\"color\":\"#FFFFFF\"},\"showarrow\":false,\"text\":\"-0.64\",\"x\":\"Load_Type_Medium_Load\",\"xref\":\"x\",\"y\":\"Load_Type_Light_Load\",\"yref\":\"y\"},{\"font\":{\"color\":\"#000000\"},\"showarrow\":false,\"text\":\"0.49\",\"x\":\"Usage\",\"xref\":\"x\",\"y\":\"Load_Type_Maximum_Load\",\"yref\":\"y\"},{\"font\":{\"color\":\"#000000\"},\"showarrow\":false,\"text\":\"0.41\",\"x\":\"Lag_RP\",\"xref\":\"x\",\"y\":\"Load_Type_Maximum_Load\",\"yref\":\"y\"},{\"font\":{\"color\":\"#FFFFFF\"},\"showarrow\":false,\"text\":\"-0.16\",\"x\":\"Lead_RP\",\"xref\":\"x\",\"y\":\"Load_Type_Maximum_Load\",\"yref\":\"y\"},{\"font\":{\"color\":\"#000000\"},\"showarrow\":false,\"text\":\"0.49\",\"x\":\"CO2\",\"xref\":\"x\",\"y\":\"Load_Type_Maximum_Load\",\"yref\":\"y\"},{\"font\":{\"color\":\"#000000\"},\"showarrow\":false,\"text\":\"0.28\",\"x\":\"Lag_PF\",\"xref\":\"x\",\"y\":\"Load_Type_Maximum_Load\",\"yref\":\"y\"},{\"font\":{\"color\":\"#000000\"},\"showarrow\":false,\"text\":\"0.19\",\"x\":\"Lead_PF\",\"xref\":\"x\",\"y\":\"Load_Type_Maximum_Load\",\"yref\":\"y\"},{\"font\":{\"color\":\"#000000\"},\"showarrow\":false,\"text\":\"0.21\",\"x\":\"NSM\",\"xref\":\"x\",\"y\":\"Load_Type_Maximum_Load\",\"yref\":\"y\"},{\"font\":{\"color\":\"#000000\"},\"showarrow\":false,\"text\":\"0.12\",\"x\":\"WeekStatus_Weekday\",\"xref\":\"x\",\"y\":\"Load_Type_Maximum_Load\",\"yref\":\"y\"},{\"font\":{\"color\":\"#FFFFFF\"},\"showarrow\":false,\"text\":\"-0.12\",\"x\":\"WeekStatus_Weekend\",\"xref\":\"x\",\"y\":\"Load_Type_Maximum_Load\",\"yref\":\"y\"},{\"font\":{\"color\":\"#000000\"},\"showarrow\":false,\"text\":\"0.03\",\"x\":\"Day_of_week_Friday\",\"xref\":\"x\",\"y\":\"Load_Type_Maximum_Load\",\"yref\":\"y\"},{\"font\":{\"color\":\"#000000\"},\"showarrow\":false,\"text\":\"0.03\",\"x\":\"Day_of_week_Monday\",\"xref\":\"x\",\"y\":\"Load_Type_Maximum_Load\",\"yref\":\"y\"},{\"font\":{\"color\":\"#FFFFFF\"},\"showarrow\":false,\"text\":\"-0.02\",\"x\":\"Day_of_week_Saturday\",\"xref\":\"x\",\"y\":\"Load_Type_Maximum_Load\",\"yref\":\"y\"},{\"font\":{\"color\":\"#FFFFFF\"},\"showarrow\":false,\"text\":\"-0.13\",\"x\":\"Day_of_week_Sunday\",\"xref\":\"x\",\"y\":\"Load_Type_Maximum_Load\",\"yref\":\"y\"},{\"font\":{\"color\":\"#000000\"},\"showarrow\":false,\"text\":\"0.03\",\"x\":\"Day_of_week_Thursday\",\"xref\":\"x\",\"y\":\"Load_Type_Maximum_Load\",\"yref\":\"y\"},{\"font\":{\"color\":\"#000000\"},\"showarrow\":false,\"text\":\"0.03\",\"x\":\"Day_of_week_Tuesday\",\"xref\":\"x\",\"y\":\"Load_Type_Maximum_Load\",\"yref\":\"y\"},{\"font\":{\"color\":\"#000000\"},\"showarrow\":false,\"text\":\"0.03\",\"x\":\"Day_of_week_Wednesday\",\"xref\":\"x\",\"y\":\"Load_Type_Maximum_Load\",\"yref\":\"y\"},{\"font\":{\"color\":\"#FFFFFF\"},\"showarrow\":false,\"text\":\"-0.53\",\"x\":\"Load_Type_Light_Load\",\"xref\":\"x\",\"y\":\"Load_Type_Maximum_Load\",\"yref\":\"y\"},{\"font\":{\"color\":\"#000000\"},\"showarrow\":false,\"text\":\"1.0\",\"x\":\"Load_Type_Maximum_Load\",\"xref\":\"x\",\"y\":\"Load_Type_Maximum_Load\",\"yref\":\"y\"},{\"font\":{\"color\":\"#FFFFFF\"},\"showarrow\":false,\"text\":\"-0.32\",\"x\":\"Load_Type_Medium_Load\",\"xref\":\"x\",\"y\":\"Load_Type_Maximum_Load\",\"yref\":\"y\"},{\"font\":{\"color\":\"#000000\"},\"showarrow\":false,\"text\":\"0.2\",\"x\":\"Usage\",\"xref\":\"x\",\"y\":\"Load_Type_Medium_Load\",\"yref\":\"y\"},{\"font\":{\"color\":\"#000000\"},\"showarrow\":false,\"text\":\"0.05\",\"x\":\"Lag_RP\",\"xref\":\"x\",\"y\":\"Load_Type_Medium_Load\",\"yref\":\"y\"},{\"font\":{\"color\":\"#000000\"},\"showarrow\":false,\"text\":\"0.28\",\"x\":\"Lead_RP\",\"xref\":\"x\",\"y\":\"Load_Type_Medium_Load\",\"yref\":\"y\"},{\"font\":{\"color\":\"#000000\"},\"showarrow\":false,\"text\":\"0.2\",\"x\":\"CO2\",\"xref\":\"x\",\"y\":\"Load_Type_Medium_Load\",\"yref\":\"y\"},{\"font\":{\"color\":\"#000000\"},\"showarrow\":false,\"text\":\"0.41\",\"x\":\"Lag_PF\",\"xref\":\"x\",\"y\":\"Load_Type_Medium_Load\",\"yref\":\"y\"},{\"font\":{\"color\":\"#FFFFFF\"},\"showarrow\":false,\"text\":\"-0.21\",\"x\":\"Lead_PF\",\"xref\":\"x\",\"y\":\"Load_Type_Medium_Load\",\"yref\":\"y\"},{\"font\":{\"color\":\"#000000\"},\"showarrow\":false,\"text\":\"0.47\",\"x\":\"NSM\",\"xref\":\"x\",\"y\":\"Load_Type_Medium_Load\",\"yref\":\"y\"},{\"font\":{\"color\":\"#000000\"},\"showarrow\":false,\"text\":\"0.14\",\"x\":\"WeekStatus_Weekday\",\"xref\":\"x\",\"y\":\"Load_Type_Medium_Load\",\"yref\":\"y\"},{\"font\":{\"color\":\"#FFFFFF\"},\"showarrow\":false,\"text\":\"-0.14\",\"x\":\"WeekStatus_Weekend\",\"xref\":\"x\",\"y\":\"Load_Type_Medium_Load\",\"yref\":\"y\"},{\"font\":{\"color\":\"#000000\"},\"showarrow\":false,\"text\":\"0.04\",\"x\":\"Day_of_week_Friday\",\"xref\":\"x\",\"y\":\"Load_Type_Medium_Load\",\"yref\":\"y\"},{\"font\":{\"color\":\"#000000\"},\"showarrow\":false,\"text\":\"0.03\",\"x\":\"Day_of_week_Monday\",\"xref\":\"x\",\"y\":\"Load_Type_Medium_Load\",\"yref\":\"y\"},{\"font\":{\"color\":\"#FFFFFF\"},\"showarrow\":false,\"text\":\"-0.03\",\"x\":\"Day_of_week_Saturday\",\"xref\":\"x\",\"y\":\"Load_Type_Medium_Load\",\"yref\":\"y\"},{\"font\":{\"color\":\"#FFFFFF\"},\"showarrow\":false,\"text\":\"-0.15\",\"x\":\"Day_of_week_Sunday\",\"xref\":\"x\",\"y\":\"Load_Type_Medium_Load\",\"yref\":\"y\"},{\"font\":{\"color\":\"#000000\"},\"showarrow\":false,\"text\":\"0.04\",\"x\":\"Day_of_week_Thursday\",\"xref\":\"x\",\"y\":\"Load_Type_Medium_Load\",\"yref\":\"y\"},{\"font\":{\"color\":\"#000000\"},\"showarrow\":false,\"text\":\"0.03\",\"x\":\"Day_of_week_Tuesday\",\"xref\":\"x\",\"y\":\"Load_Type_Medium_Load\",\"yref\":\"y\"},{\"font\":{\"color\":\"#000000\"},\"showarrow\":false,\"text\":\"0.03\",\"x\":\"Day_of_week_Wednesday\",\"xref\":\"x\",\"y\":\"Load_Type_Medium_Load\",\"yref\":\"y\"},{\"font\":{\"color\":\"#FFFFFF\"},\"showarrow\":false,\"text\":\"-0.64\",\"x\":\"Load_Type_Light_Load\",\"xref\":\"x\",\"y\":\"Load_Type_Medium_Load\",\"yref\":\"y\"},{\"font\":{\"color\":\"#FFFFFF\"},\"showarrow\":false,\"text\":\"-0.32\",\"x\":\"Load_Type_Maximum_Load\",\"xref\":\"x\",\"y\":\"Load_Type_Medium_Load\",\"yref\":\"y\"},{\"font\":{\"color\":\"#000000\"},\"showarrow\":false,\"text\":\"1.0\",\"x\":\"Load_Type_Medium_Load\",\"xref\":\"x\",\"y\":\"Load_Type_Medium_Load\",\"yref\":\"y\"}],\"xaxis\":{\"dtick\":1,\"gridcolor\":\"rgb(0, 0, 0)\",\"side\":\"top\",\"ticks\":\"\"},\"yaxis\":{\"dtick\":1,\"ticks\":\"\",\"ticksuffix\":\"  \"},\"template\":{\"data\":{\"histogram2dcontour\":[{\"type\":\"histogram2dcontour\",\"colorbar\":{\"outlinewidth\":0,\"ticks\":\"\"},\"colorscale\":[[0.0,\"#0d0887\"],[0.1111111111111111,\"#46039f\"],[0.2222222222222222,\"#7201a8\"],[0.3333333333333333,\"#9c179e\"],[0.4444444444444444,\"#bd3786\"],[0.5555555555555556,\"#d8576b\"],[0.6666666666666666,\"#ed7953\"],[0.7777777777777778,\"#fb9f3a\"],[0.8888888888888888,\"#fdca26\"],[1.0,\"#f0f921\"]]}],\"choropleth\":[{\"type\":\"choropleth\",\"colorbar\":{\"outlinewidth\":0,\"ticks\":\"\"}}],\"histogram2d\":[{\"type\":\"histogram2d\",\"colorbar\":{\"outlinewidth\":0,\"ticks\":\"\"},\"colorscale\":[[0.0,\"#0d0887\"],[0.1111111111111111,\"#46039f\"],[0.2222222222222222,\"#7201a8\"],[0.3333333333333333,\"#9c179e\"],[0.4444444444444444,\"#bd3786\"],[0.5555555555555556,\"#d8576b\"],[0.6666666666666666,\"#ed7953\"],[0.7777777777777778,\"#fb9f3a\"],[0.8888888888888888,\"#fdca26\"],[1.0,\"#f0f921\"]]}],\"heatmap\":[{\"type\":\"heatmap\",\"colorbar\":{\"outlinewidth\":0,\"ticks\":\"\"},\"colorscale\":[[0.0,\"#0d0887\"],[0.1111111111111111,\"#46039f\"],[0.2222222222222222,\"#7201a8\"],[0.3333333333333333,\"#9c179e\"],[0.4444444444444444,\"#bd3786\"],[0.5555555555555556,\"#d8576b\"],[0.6666666666666666,\"#ed7953\"],[0.7777777777777778,\"#fb9f3a\"],[0.8888888888888888,\"#fdca26\"],[1.0,\"#f0f921\"]]}],\"heatmapgl\":[{\"type\":\"heatmapgl\",\"colorbar\":{\"outlinewidth\":0,\"ticks\":\"\"},\"colorscale\":[[0.0,\"#0d0887\"],[0.1111111111111111,\"#46039f\"],[0.2222222222222222,\"#7201a8\"],[0.3333333333333333,\"#9c179e\"],[0.4444444444444444,\"#bd3786\"],[0.5555555555555556,\"#d8576b\"],[0.6666666666666666,\"#ed7953\"],[0.7777777777777778,\"#fb9f3a\"],[0.8888888888888888,\"#fdca26\"],[1.0,\"#f0f921\"]]}],\"contourcarpet\":[{\"type\":\"contourcarpet\",\"colorbar\":{\"outlinewidth\":0,\"ticks\":\"\"}}],\"contour\":[{\"type\":\"contour\",\"colorbar\":{\"outlinewidth\":0,\"ticks\":\"\"},\"colorscale\":[[0.0,\"#0d0887\"],[0.1111111111111111,\"#46039f\"],[0.2222222222222222,\"#7201a8\"],[0.3333333333333333,\"#9c179e\"],[0.4444444444444444,\"#bd3786\"],[0.5555555555555556,\"#d8576b\"],[0.6666666666666666,\"#ed7953\"],[0.7777777777777778,\"#fb9f3a\"],[0.8888888888888888,\"#fdca26\"],[1.0,\"#f0f921\"]]}],\"surface\":[{\"type\":\"surface\",\"colorbar\":{\"outlinewidth\":0,\"ticks\":\"\"},\"colorscale\":[[0.0,\"#0d0887\"],[0.1111111111111111,\"#46039f\"],[0.2222222222222222,\"#7201a8\"],[0.3333333333333333,\"#9c179e\"],[0.4444444444444444,\"#bd3786\"],[0.5555555555555556,\"#d8576b\"],[0.6666666666666666,\"#ed7953\"],[0.7777777777777778,\"#fb9f3a\"],[0.8888888888888888,\"#fdca26\"],[1.0,\"#f0f921\"]]}],\"mesh3d\":[{\"type\":\"mesh3d\",\"colorbar\":{\"outlinewidth\":0,\"ticks\":\"\"}}],\"scatter\":[{\"fillpattern\":{\"fillmode\":\"overlay\",\"size\":10,\"solidity\":0.2},\"type\":\"scatter\"}],\"parcoords\":[{\"type\":\"parcoords\",\"line\":{\"colorbar\":{\"outlinewidth\":0,\"ticks\":\"\"}}}],\"scatterpolargl\":[{\"type\":\"scatterpolargl\",\"marker\":{\"colorbar\":{\"outlinewidth\":0,\"ticks\":\"\"}}}],\"bar\":[{\"error_x\":{\"color\":\"#2a3f5f\"},\"error_y\":{\"color\":\"#2a3f5f\"},\"marker\":{\"line\":{\"color\":\"#E5ECF6\",\"width\":0.5},\"pattern\":{\"fillmode\":\"overlay\",\"size\":10,\"solidity\":0.2}},\"type\":\"bar\"}],\"scattergeo\":[{\"type\":\"scattergeo\",\"marker\":{\"colorbar\":{\"outlinewidth\":0,\"ticks\":\"\"}}}],\"scatterpolar\":[{\"type\":\"scatterpolar\",\"marker\":{\"colorbar\":{\"outlinewidth\":0,\"ticks\":\"\"}}}],\"histogram\":[{\"marker\":{\"pattern\":{\"fillmode\":\"overlay\",\"size\":10,\"solidity\":0.2}},\"type\":\"histogram\"}],\"scattergl\":[{\"type\":\"scattergl\",\"marker\":{\"colorbar\":{\"outlinewidth\":0,\"ticks\":\"\"}}}],\"scatter3d\":[{\"type\":\"scatter3d\",\"line\":{\"colorbar\":{\"outlinewidth\":0,\"ticks\":\"\"}},\"marker\":{\"colorbar\":{\"outlinewidth\":0,\"ticks\":\"\"}}}],\"scattermapbox\":[{\"type\":\"scattermapbox\",\"marker\":{\"colorbar\":{\"outlinewidth\":0,\"ticks\":\"\"}}}],\"scatterternary\":[{\"type\":\"scatterternary\",\"marker\":{\"colorbar\":{\"outlinewidth\":0,\"ticks\":\"\"}}}],\"scattercarpet\":[{\"type\":\"scattercarpet\",\"marker\":{\"colorbar\":{\"outlinewidth\":0,\"ticks\":\"\"}}}],\"carpet\":[{\"aaxis\":{\"endlinecolor\":\"#2a3f5f\",\"gridcolor\":\"white\",\"linecolor\":\"white\",\"minorgridcolor\":\"white\",\"startlinecolor\":\"#2a3f5f\"},\"baxis\":{\"endlinecolor\":\"#2a3f5f\",\"gridcolor\":\"white\",\"linecolor\":\"white\",\"minorgridcolor\":\"white\",\"startlinecolor\":\"#2a3f5f\"},\"type\":\"carpet\"}],\"table\":[{\"cells\":{\"fill\":{\"color\":\"#EBF0F8\"},\"line\":{\"color\":\"white\"}},\"header\":{\"fill\":{\"color\":\"#C8D4E3\"},\"line\":{\"color\":\"white\"}},\"type\":\"table\"}],\"barpolar\":[{\"marker\":{\"line\":{\"color\":\"#E5ECF6\",\"width\":0.5},\"pattern\":{\"fillmode\":\"overlay\",\"size\":10,\"solidity\":0.2}},\"type\":\"barpolar\"}],\"pie\":[{\"automargin\":true,\"type\":\"pie\"}]},\"layout\":{\"autotypenumbers\":\"strict\",\"colorway\":[\"#636efa\",\"#EF553B\",\"#00cc96\",\"#ab63fa\",\"#FFA15A\",\"#19d3f3\",\"#FF6692\",\"#B6E880\",\"#FF97FF\",\"#FECB52\"],\"font\":{\"color\":\"#2a3f5f\"},\"hovermode\":\"closest\",\"hoverlabel\":{\"align\":\"left\"},\"paper_bgcolor\":\"white\",\"plot_bgcolor\":\"#E5ECF6\",\"polar\":{\"bgcolor\":\"#E5ECF6\",\"angularaxis\":{\"gridcolor\":\"white\",\"linecolor\":\"white\",\"ticks\":\"\"},\"radialaxis\":{\"gridcolor\":\"white\",\"linecolor\":\"white\",\"ticks\":\"\"}},\"ternary\":{\"bgcolor\":\"#E5ECF6\",\"aaxis\":{\"gridcolor\":\"white\",\"linecolor\":\"white\",\"ticks\":\"\"},\"baxis\":{\"gridcolor\":\"white\",\"linecolor\":\"white\",\"ticks\":\"\"},\"caxis\":{\"gridcolor\":\"white\",\"linecolor\":\"white\",\"ticks\":\"\"}},\"coloraxis\":{\"colorbar\":{\"outlinewidth\":0,\"ticks\":\"\"}},\"colorscale\":{\"sequential\":[[0.0,\"#0d0887\"],[0.1111111111111111,\"#46039f\"],[0.2222222222222222,\"#7201a8\"],[0.3333333333333333,\"#9c179e\"],[0.4444444444444444,\"#bd3786\"],[0.5555555555555556,\"#d8576b\"],[0.6666666666666666,\"#ed7953\"],[0.7777777777777778,\"#fb9f3a\"],[0.8888888888888888,\"#fdca26\"],[1.0,\"#f0f921\"]],\"sequentialminus\":[[0.0,\"#0d0887\"],[0.1111111111111111,\"#46039f\"],[0.2222222222222222,\"#7201a8\"],[0.3333333333333333,\"#9c179e\"],[0.4444444444444444,\"#bd3786\"],[0.5555555555555556,\"#d8576b\"],[0.6666666666666666,\"#ed7953\"],[0.7777777777777778,\"#fb9f3a\"],[0.8888888888888888,\"#fdca26\"],[1.0,\"#f0f921\"]],\"diverging\":[[0,\"#8e0152\"],[0.1,\"#c51b7d\"],[0.2,\"#de77ae\"],[0.3,\"#f1b6da\"],[0.4,\"#fde0ef\"],[0.5,\"#f7f7f7\"],[0.6,\"#e6f5d0\"],[0.7,\"#b8e186\"],[0.8,\"#7fbc41\"],[0.9,\"#4d9221\"],[1,\"#276419\"]]},\"xaxis\":{\"gridcolor\":\"white\",\"linecolor\":\"white\",\"ticks\":\"\",\"title\":{\"standoff\":15},\"zerolinecolor\":\"white\",\"automargin\":true,\"zerolinewidth\":2},\"yaxis\":{\"gridcolor\":\"white\",\"linecolor\":\"white\",\"ticks\":\"\",\"title\":{\"standoff\":15},\"zerolinecolor\":\"white\",\"automargin\":true,\"zerolinewidth\":2},\"scene\":{\"xaxis\":{\"backgroundcolor\":\"#E5ECF6\",\"gridcolor\":\"white\",\"linecolor\":\"white\",\"showbackground\":true,\"ticks\":\"\",\"zerolinecolor\":\"white\",\"gridwidth\":2},\"yaxis\":{\"backgroundcolor\":\"#E5ECF6\",\"gridcolor\":\"white\",\"linecolor\":\"white\",\"showbackground\":true,\"ticks\":\"\",\"zerolinecolor\":\"white\",\"gridwidth\":2},\"zaxis\":{\"backgroundcolor\":\"#E5ECF6\",\"gridcolor\":\"white\",\"linecolor\":\"white\",\"showbackground\":true,\"ticks\":\"\",\"zerolinecolor\":\"white\",\"gridwidth\":2}},\"shapedefaults\":{\"line\":{\"color\":\"#2a3f5f\"}},\"annotationdefaults\":{\"arrowcolor\":\"#2a3f5f\",\"arrowhead\":0,\"arrowwidth\":1},\"geo\":{\"bgcolor\":\"white\",\"landcolor\":\"#E5ECF6\",\"subunitcolor\":\"white\",\"showland\":true,\"showlakes\":true,\"lakecolor\":\"white\"},\"title\":{\"x\":0.05},\"mapbox\":{\"style\":\"light\"}}}},                        {\"responsive\": true}                    ).then(function(){\n",
       "                            \n",
       "var gd = document.getElementById('6cb61c89-f381-4e04-9417-878f88422ffc');\n",
       "var x = new MutationObserver(function (mutations, observer) {{\n",
       "        var display = window.getComputedStyle(gd).display;\n",
       "        if (!display || display === 'none') {{\n",
       "            console.log([gd, 'removed!']);\n",
       "            Plotly.purge(gd);\n",
       "            observer.disconnect();\n",
       "        }}\n",
       "}});\n",
       "\n",
       "// Listen for the removal of the full notebook cells\n",
       "var notebookContainer = gd.closest('#notebook-container');\n",
       "if (notebookContainer) {{\n",
       "    x.observe(notebookContainer, {childList: true});\n",
       "}}\n",
       "\n",
       "// Listen for the clearing of the current output cell\n",
       "var outputEl = gd.closest('.output');\n",
       "if (outputEl) {{\n",
       "    x.observe(outputEl, {childList: true});\n",
       "}}\n",
       "\n",
       "                        })                };                });            </script>        </div>"
      ]
     },
     "metadata": {},
     "output_type": "display_data"
    }
   ],
   "source": [
    "# Plotting Correlation Heatmap for the dataset\n",
    "corrs = dataset.corr()\n",
    "figure = ff.create_annotated_heatmap(\n",
    "    z=corrs.values,\n",
    "    x=list(corrs.columns),\n",
    "    y=list(corrs.index),\n",
    "    annotation_text=corrs.round(2).values,\n",
    "    showscale=True)\n",
    "#figure.write_image(\"corr.png\")\n",
    "figure.show()"
   ]
  },
  {
   "cell_type": "code",
   "execution_count": 25,
   "id": "a9e8397e",
   "metadata": {},
   "outputs": [],
   "source": [
    "X = dataset.drop(['Usage'], axis = 1) # Features\n",
    "y = dataset['Usage'] # Labels\n",
    "# X_train, X_test, y_train, y_test = train_test_split(X, y, test_size = 0.3, random_state = 42)\n",
    "# print(X_train.shape)\n",
    "# print(y_train.shape)\n",
    "# print(X_test.shape)\n",
    "# print(y_test.shape)"
   ]
  },
  {
   "cell_type": "code",
   "execution_count": 26,
   "id": "46e0641b",
   "metadata": {},
   "outputs": [
    {
     "data": {
      "text/html": [
       "<div>\n",
       "<style scoped>\n",
       "    .dataframe tbody tr th:only-of-type {\n",
       "        vertical-align: middle;\n",
       "    }\n",
       "\n",
       "    .dataframe tbody tr th {\n",
       "        vertical-align: top;\n",
       "    }\n",
       "\n",
       "    .dataframe thead th {\n",
       "        text-align: right;\n",
       "    }\n",
       "</style>\n",
       "<table border=\"1\" class=\"dataframe\">\n",
       "  <thead>\n",
       "    <tr style=\"text-align: right;\">\n",
       "      <th></th>\n",
       "      <th>Lag_RP</th>\n",
       "      <th>Lead_RP</th>\n",
       "      <th>CO2</th>\n",
       "      <th>Lag_PF</th>\n",
       "      <th>Lead_PF</th>\n",
       "      <th>NSM</th>\n",
       "      <th>WeekStatus_Weekday</th>\n",
       "      <th>WeekStatus_Weekend</th>\n",
       "      <th>Day_of_week_Friday</th>\n",
       "      <th>Day_of_week_Monday</th>\n",
       "      <th>Day_of_week_Saturday</th>\n",
       "      <th>Day_of_week_Sunday</th>\n",
       "      <th>Day_of_week_Thursday</th>\n",
       "      <th>Day_of_week_Tuesday</th>\n",
       "      <th>Day_of_week_Wednesday</th>\n",
       "      <th>Load_Type_Light_Load</th>\n",
       "      <th>Load_Type_Maximum_Load</th>\n",
       "      <th>Load_Type_Medium_Load</th>\n",
       "    </tr>\n",
       "  </thead>\n",
       "  <tbody>\n",
       "    <tr>\n",
       "      <th>0</th>\n",
       "      <td>-0.618516</td>\n",
       "      <td>-0.521385</td>\n",
       "      <td>-0.71355</td>\n",
       "      <td>-0.389410</td>\n",
       "      <td>0.513268</td>\n",
       "      <td>-1.678015</td>\n",
       "      <td>0.631243</td>\n",
       "      <td>-0.631243</td>\n",
       "      <td>-0.407596</td>\n",
       "      <td>2.426271</td>\n",
       "      <td>-0.407596</td>\n",
       "      <td>-0.407596</td>\n",
       "      <td>-0.407596</td>\n",
       "      <td>-0.407596</td>\n",
       "      <td>-0.407596</td>\n",
       "      <td>0.968974</td>\n",
       "      <td>-0.511746</td>\n",
       "      <td>-0.618527</td>\n",
       "    </tr>\n",
       "    <tr>\n",
       "      <th>1</th>\n",
       "      <td>-0.525911</td>\n",
       "      <td>-0.521385</td>\n",
       "      <td>-0.71355</td>\n",
       "      <td>-0.729772</td>\n",
       "      <td>0.513268</td>\n",
       "      <td>-1.641929</td>\n",
       "      <td>0.631243</td>\n",
       "      <td>-0.631243</td>\n",
       "      <td>-0.407596</td>\n",
       "      <td>2.426271</td>\n",
       "      <td>-0.407596</td>\n",
       "      <td>-0.407596</td>\n",
       "      <td>-0.407596</td>\n",
       "      <td>-0.407596</td>\n",
       "      <td>-0.407596</td>\n",
       "      <td>0.968974</td>\n",
       "      <td>-0.511746</td>\n",
       "      <td>-0.618527</td>\n",
       "    </tr>\n",
       "    <tr>\n",
       "      <th>2</th>\n",
       "      <td>-0.598278</td>\n",
       "      <td>-0.521385</td>\n",
       "      <td>-0.71355</td>\n",
       "      <td>-0.544264</td>\n",
       "      <td>0.513268</td>\n",
       "      <td>-1.605843</td>\n",
       "      <td>0.631243</td>\n",
       "      <td>-0.631243</td>\n",
       "      <td>-0.407596</td>\n",
       "      <td>2.426271</td>\n",
       "      <td>-0.407596</td>\n",
       "      <td>-0.407596</td>\n",
       "      <td>-0.407596</td>\n",
       "      <td>-0.407596</td>\n",
       "      <td>-0.407596</td>\n",
       "      <td>0.968974</td>\n",
       "      <td>-0.511746</td>\n",
       "      <td>-0.618527</td>\n",
       "    </tr>\n",
       "    <tr>\n",
       "      <th>3</th>\n",
       "      <td>-0.581106</td>\n",
       "      <td>-0.521385</td>\n",
       "      <td>-0.71355</td>\n",
       "      <td>-0.660009</td>\n",
       "      <td>0.513268</td>\n",
       "      <td>-1.569756</td>\n",
       "      <td>0.631243</td>\n",
       "      <td>-0.631243</td>\n",
       "      <td>-0.407596</td>\n",
       "      <td>2.426271</td>\n",
       "      <td>-0.407596</td>\n",
       "      <td>-0.407596</td>\n",
       "      <td>-0.407596</td>\n",
       "      <td>-0.407596</td>\n",
       "      <td>-0.407596</td>\n",
       "      <td>0.968974</td>\n",
       "      <td>-0.511746</td>\n",
       "      <td>-0.618527</td>\n",
       "    </tr>\n",
       "    <tr>\n",
       "      <th>4</th>\n",
       "      <td>-0.523458</td>\n",
       "      <td>-0.521385</td>\n",
       "      <td>-0.71355</td>\n",
       "      <td>-0.838117</td>\n",
       "      <td>0.513268</td>\n",
       "      <td>-1.533670</td>\n",
       "      <td>0.631243</td>\n",
       "      <td>-0.631243</td>\n",
       "      <td>-0.407596</td>\n",
       "      <td>2.426271</td>\n",
       "      <td>-0.407596</td>\n",
       "      <td>-0.407596</td>\n",
       "      <td>-0.407596</td>\n",
       "      <td>-0.407596</td>\n",
       "      <td>-0.407596</td>\n",
       "      <td>0.968974</td>\n",
       "      <td>-0.511746</td>\n",
       "      <td>-0.618527</td>\n",
       "    </tr>\n",
       "  </tbody>\n",
       "</table>\n",
       "</div>"
      ],
      "text/plain": [
       "     Lag_RP   Lead_RP      CO2    Lag_PF   Lead_PF       NSM  \\\n",
       "0 -0.618516 -0.521385 -0.71355 -0.389410  0.513268 -1.678015   \n",
       "1 -0.525911 -0.521385 -0.71355 -0.729772  0.513268 -1.641929   \n",
       "2 -0.598278 -0.521385 -0.71355 -0.544264  0.513268 -1.605843   \n",
       "3 -0.581106 -0.521385 -0.71355 -0.660009  0.513268 -1.569756   \n",
       "4 -0.523458 -0.521385 -0.71355 -0.838117  0.513268 -1.533670   \n",
       "\n",
       "   WeekStatus_Weekday  WeekStatus_Weekend  Day_of_week_Friday  \\\n",
       "0            0.631243           -0.631243           -0.407596   \n",
       "1            0.631243           -0.631243           -0.407596   \n",
       "2            0.631243           -0.631243           -0.407596   \n",
       "3            0.631243           -0.631243           -0.407596   \n",
       "4            0.631243           -0.631243           -0.407596   \n",
       "\n",
       "   Day_of_week_Monday  Day_of_week_Saturday  Day_of_week_Sunday  \\\n",
       "0            2.426271             -0.407596           -0.407596   \n",
       "1            2.426271             -0.407596           -0.407596   \n",
       "2            2.426271             -0.407596           -0.407596   \n",
       "3            2.426271             -0.407596           -0.407596   \n",
       "4            2.426271             -0.407596           -0.407596   \n",
       "\n",
       "   Day_of_week_Thursday  Day_of_week_Tuesday  Day_of_week_Wednesday  \\\n",
       "0             -0.407596            -0.407596              -0.407596   \n",
       "1             -0.407596            -0.407596              -0.407596   \n",
       "2             -0.407596            -0.407596              -0.407596   \n",
       "3             -0.407596            -0.407596              -0.407596   \n",
       "4             -0.407596            -0.407596              -0.407596   \n",
       "\n",
       "   Load_Type_Light_Load  Load_Type_Maximum_Load  Load_Type_Medium_Load  \n",
       "0              0.968974               -0.511746              -0.618527  \n",
       "1              0.968974               -0.511746              -0.618527  \n",
       "2              0.968974               -0.511746              -0.618527  \n",
       "3              0.968974               -0.511746              -0.618527  \n",
       "4              0.968974               -0.511746              -0.618527  "
      ]
     },
     "execution_count": 26,
     "metadata": {},
     "output_type": "execute_result"
    }
   ],
   "source": [
    "# Normalizing numerical features so that each feature has mean 0 and variance 1\n",
    "feature_scaler = StandardScaler()\n",
    "X_scaled = feature_scaler.fit_transform(X)\n",
    "X_scaled = pd.DataFrame(X_scaled,columns=X.columns)\n",
    "print(X_scaled.head())"
   ]
  },
  {
   "cell_type": "code",
   "execution_count": 31,
   "id": "6d97220d",
   "metadata": {},
   "outputs": [
    {
     "name": "stdout",
     "output_type": "stream",
     "text": [
      "(24528, 18)\n",
      "(24528,)\n",
      "(10512, 18)\n",
      "(10512,)\n"
     ]
    }
   ],
   "source": [
    "# Data splitting\n",
    "X_train, X_test, y_train, y_test = train_test_split(X_scaled, y, test_size = 0.3, random_state = 42)\n",
    "print(X_train.shape)\n",
    "print(y_train.shape)\n",
    "print(X_test.shape)\n",
    "print(y_test.shape)"
   ]
  },
  {
   "cell_type": "code",
   "execution_count": 35,
   "id": "b67e80cd",
   "metadata": {},
   "outputs": [],
   "source": [
    "# Using a helper function to print model metrics\n",
    "def print_metrics(y_test, pred):  \n",
    "    mae = mean_absolute_error(y_test, pred)\n",
    "    mse = mean_squared_error(y_test, pred)\n",
    "    r2 = r2_score(y_test, pred)\n",
    "    print('MAE:', mae)\n",
    "    print('MSE:', mse)\n",
    "    print('R2:', r2)\n",
    "    print('')"
   ]
  },
  {
   "cell_type": "code",
   "execution_count": 36,
   "id": "98273598",
   "metadata": {},
   "outputs": [],
   "source": [
    "# A function to save model metrics\n",
    "def save_metrics(y_test,pred):\n",
    "    mae = mean_absolute_error(y_test, pred)\n",
    "    mse = mean_squared_error(y_test, pred)\n",
    "    r2 = r2_score(y_test, pred)\n",
    "    return mae, mse, r2"
   ]
  },
  {
   "cell_type": "code",
   "execution_count": 42,
   "id": "e9b7c9e2",
   "metadata": {},
   "outputs": [],
   "source": [
    "# creating a function to create adjusted R-Squared\n",
    "\n",
    "def adj_r2(X, y, model):\n",
    "    r2 = model.score(X, y)\n",
    "    n = X.shape[0]\n",
    "    p = X.shape[1]\n",
    "    adjusted_r2 = 1 - (1 - r2) * (n - 1) / (n - p - 1)\n",
    "    \n",
    "    return adjusted_r2"
   ]
  },
  {
   "cell_type": "markdown",
   "id": "ad885813",
   "metadata": {},
   "source": [
    "## We will begin by implementing a baseline Linear Regression (LR) model"
   ]
  },
  {
   "cell_type": "code",
   "execution_count": 38,
   "id": "629d0cdc",
   "metadata": {},
   "outputs": [
    {
     "data": {
      "text/plain": [
       "LinearRegression()"
      ]
     },
     "execution_count": 38,
     "metadata": {},
     "output_type": "execute_result"
    }
   ],
   "source": [
    "# Fitting the LR model\n",
    "lr = LinearRegression()\n",
    "lr.fit(X_train, y_train)"
   ]
  },
  {
   "cell_type": "code",
   "execution_count": 40,
   "id": "437d398a",
   "metadata": {},
   "outputs": [],
   "source": [
    "# Prediction using the testing and training data\n",
    "lr_pred = lr.predict(X_test)\n",
    "lr_pred_train = lr.predict(X_train)"
   ]
  },
  {
   "cell_type": "code",
   "execution_count": 44,
   "id": "b1ba70b4",
   "metadata": {},
   "outputs": [
    {
     "name": "stdout",
     "output_type": "stream",
     "text": [
      "Metrics for testing data:\n",
      "\n",
      "MAE: 2.5535445213317196\n",
      "MSE: 17.774193845255017\n",
      "R2: 0.9841638817921283\n",
      "\n",
      "Metrics for training data:\n",
      "\n",
      "MAE: 2.623404281286807\n",
      "MSE: 23.70301455569002\n",
      "R2: 0.9787757058329211\n",
      "\n"
     ]
    }
   ],
   "source": [
    "print('Metrics for testing data:\\n')\n",
    "print_metrics(y_test, lr_pred)\n",
    "print('Metrics for training data:\\n')\n",
    "print_metrics(y_train, lr_pred_train)"
   ]
  },
  {
   "cell_type": "code",
   "execution_count": 60,
   "id": "31d88496",
   "metadata": {},
   "outputs": [],
   "source": [
    "# saving the LR metrics\n",
    "lr_mae, lr_mse, lr_r2 = save_metrics(y_test, lr_pred)"
   ]
  },
  {
   "cell_type": "code",
   "execution_count": 97,
   "id": "ca56f5c8",
   "metadata": {},
   "outputs": [
    {
     "name": "stdout",
     "output_type": "stream",
     "text": [
      "###########################\n",
      " Adjusted R^2 for LR model \n",
      "##########################\n",
      "0.9787601182000104\n"
     ]
    }
   ],
   "source": [
    "# Printing the adjusted R^2 for the LR model\n",
    "print('###########################\\n Adjusted R^2 for LR model \\n##########################')\n",
    "print(adj_r2(X_train, y_train, lr))"
   ]
  },
  {
   "cell_type": "code",
   "execution_count": 78,
   "id": "f30c8332",
   "metadata": {},
   "outputs": [],
   "source": [
    "# Extracting the LR coefficients and sorting in ascending order\n",
    "# lr_feature = pd.DataFrame(lr.coef_, index=X.columns, columns=['coef']).sort_values(['coef'], ascending=False)"
   ]
  },
  {
   "cell_type": "code",
   "execution_count": 82,
   "id": "1cbf80e0",
   "metadata": {},
   "outputs": [
    {
     "data": {
      "text/html": [
       "<div>\n",
       "<style scoped>\n",
       "    .dataframe tbody tr th:only-of-type {\n",
       "        vertical-align: middle;\n",
       "    }\n",
       "\n",
       "    .dataframe tbody tr th {\n",
       "        vertical-align: top;\n",
       "    }\n",
       "\n",
       "    .dataframe thead th {\n",
       "        text-align: right;\n",
       "    }\n",
       "</style>\n",
       "<table border=\"1\" class=\"dataframe\">\n",
       "  <thead>\n",
       "    <tr style=\"text-align: right;\">\n",
       "      <th></th>\n",
       "      <th>Features</th>\n",
       "      <th>Coefficients</th>\n",
       "    </tr>\n",
       "  </thead>\n",
       "  <tbody>\n",
       "    <tr>\n",
       "      <th>15</th>\n",
       "      <td>Load_Type_Light_Load</td>\n",
       "      <td>1.827896e+13</td>\n",
       "    </tr>\n",
       "    <tr>\n",
       "      <th>17</th>\n",
       "      <td>Load_Type_Medium_Load</td>\n",
       "      <td>1.636315e+13</td>\n",
       "    </tr>\n",
       "    <tr>\n",
       "      <th>16</th>\n",
       "      <td>Load_Type_Maximum_Load</td>\n",
       "      <td>1.483311e+13</td>\n",
       "    </tr>\n",
       "    <tr>\n",
       "      <th>6</th>\n",
       "      <td>WeekStatus_Weekday</td>\n",
       "      <td>1.305982e+12</td>\n",
       "    </tr>\n",
       "    <tr>\n",
       "      <th>11</th>\n",
       "      <td>Day_of_week_Sunday</td>\n",
       "      <td>1.025553e+12</td>\n",
       "    </tr>\n",
       "    <tr>\n",
       "      <th>10</th>\n",
       "      <td>Day_of_week_Saturday</td>\n",
       "      <td>1.025553e+12</td>\n",
       "    </tr>\n",
       "    <tr>\n",
       "      <th>2</th>\n",
       "      <td>CO2</td>\n",
       "      <td>2.627583e+01</td>\n",
       "    </tr>\n",
       "    <tr>\n",
       "      <th>0</th>\n",
       "      <td>Lag_RP</td>\n",
       "      <td>5.567480e+00</td>\n",
       "    </tr>\n",
       "    <tr>\n",
       "      <th>3</th>\n",
       "      <td>Lag_PF</td>\n",
       "      <td>2.388292e+00</td>\n",
       "    </tr>\n",
       "    <tr>\n",
       "      <th>4</th>\n",
       "      <td>Lead_PF</td>\n",
       "      <td>1.889144e+00</td>\n",
       "    </tr>\n",
       "    <tr>\n",
       "      <th>1</th>\n",
       "      <td>Lead_RP</td>\n",
       "      <td>4.930954e-01</td>\n",
       "    </tr>\n",
       "    <tr>\n",
       "      <th>5</th>\n",
       "      <td>NSM</td>\n",
       "      <td>-8.230445e-02</td>\n",
       "    </tr>\n",
       "    <tr>\n",
       "      <th>13</th>\n",
       "      <td>Day_of_week_Tuesday</td>\n",
       "      <td>-5.756833e+11</td>\n",
       "    </tr>\n",
       "    <tr>\n",
       "      <th>14</th>\n",
       "      <td>Day_of_week_Wednesday</td>\n",
       "      <td>-5.756833e+11</td>\n",
       "    </tr>\n",
       "    <tr>\n",
       "      <th>8</th>\n",
       "      <td>Day_of_week_Friday</td>\n",
       "      <td>-5.756833e+11</td>\n",
       "    </tr>\n",
       "    <tr>\n",
       "      <th>12</th>\n",
       "      <td>Day_of_week_Thursday</td>\n",
       "      <td>-5.756833e+11</td>\n",
       "    </tr>\n",
       "    <tr>\n",
       "      <th>9</th>\n",
       "      <td>Day_of_week_Monday</td>\n",
       "      <td>-5.802632e+11</td>\n",
       "    </tr>\n",
       "    <tr>\n",
       "      <th>7</th>\n",
       "      <td>WeekStatus_Weekend</td>\n",
       "      <td>-7.618654e+11</td>\n",
       "    </tr>\n",
       "  </tbody>\n",
       "</table>\n",
       "</div>"
      ],
      "text/plain": [
       "                  Features  Coefficients\n",
       "15    Load_Type_Light_Load  1.827896e+13\n",
       "17   Load_Type_Medium_Load  1.636315e+13\n",
       "16  Load_Type_Maximum_Load  1.483311e+13\n",
       "6       WeekStatus_Weekday  1.305982e+12\n",
       "11      Day_of_week_Sunday  1.025553e+12\n",
       "10    Day_of_week_Saturday  1.025553e+12\n",
       "2                      CO2  2.627583e+01\n",
       "0                   Lag_RP  5.567480e+00\n",
       "3                   Lag_PF  2.388292e+00\n",
       "4                  Lead_PF  1.889144e+00\n",
       "1                  Lead_RP  4.930954e-01\n",
       "5                      NSM -8.230445e-02\n",
       "13     Day_of_week_Tuesday -5.756833e+11\n",
       "14   Day_of_week_Wednesday -5.756833e+11\n",
       "8       Day_of_week_Friday -5.756833e+11\n",
       "12    Day_of_week_Thursday -5.756833e+11\n",
       "9       Day_of_week_Monday -5.802632e+11\n",
       "7       WeekStatus_Weekend -7.618654e+11"
      ]
     },
     "execution_count": 82,
     "metadata": {},
     "output_type": "execute_result"
    }
   ],
   "source": [
    "lr_feature = pd.DataFrame(zip(X.columns, lr.coef_), columns=['Features','Coefficients']).sort_values(by=['Coefficients'],ascending=False)\n",
    "print(lr_feature)"
   ]
  },
  {
   "cell_type": "code",
   "execution_count": 48,
   "id": "d64687f4",
   "metadata": {},
   "outputs": [
    {
     "data": {
      "image/png": "[encoded data removed]",
      "text/plain": [
       "<Figure size 640x480 with 1 Axes>"
      ]
     },
     "metadata": {},
     "output_type": "display_data"
    }
   ],
   "source": [
    "sns.scatterplot(x=y_test, y=lr_pred);"
   ]
  },
  {
   "cell_type": "code",
   "execution_count": 49,
   "id": "04ad1f59",
   "metadata": {},
   "outputs": [],
   "source": [
    "train_sizes=[1,101,203,304,404]"
   ]
  },
  {
   "cell_type": "code",
   "execution_count": 50,
   "id": "1cf105ac",
   "metadata": {},
   "outputs": [],
   "source": [
    "train_sizes, train_scores, validation_scores = learning_curve(\n",
    "estimator = LinearRegression(),\n",
    "X = X,\n",
    "y = y, \n",
    "train_sizes = train_sizes, \n",
    "cv = 5, \n",
    "shuffle=True,\n",
    "scoring = 'neg_mean_squared_error',random_state=17)"
   ]
  },
  {
   "cell_type": "code",
   "execution_count": 51,
   "id": "d412aafc",
   "metadata": {},
   "outputs": [
    {
     "name": "stdout",
     "output_type": "stream",
     "text": [
      "Mean training scores\n",
      "\n",
      " 1      -0.000000\n",
      "101    14.703888\n",
      "203    14.511400\n",
      "304    15.213866\n",
      "404    15.333685\n",
      "dtype: float64\n",
      "\n",
      "Mean validation scores\n",
      "\n",
      " 1      1597.285094\n",
      "101      25.320653\n",
      "203      24.101064\n",
      "304      23.536790\n",
      "404      23.150997\n",
      "dtype: float64\n"
     ]
    }
   ],
   "source": [
    "train_scores_mean = -train_scores.mean(axis = 1)\n",
    "validation_scores_mean = -validation_scores.mean(axis =1)\n",
    "print('Mean training scores\\n\\n', pd.Series(train_scores_mean, index = train_sizes))\n",
    "print('\\nMean validation scores\\n\\n',pd.Series(validation_scores_mean, index = train_sizes))"
   ]
  },
  {
   "cell_type": "code",
   "execution_count": 52,
   "id": "503e7353",
   "metadata": {},
   "outputs": [
    {
     "data": {
      "text/plain": [
       "(0.0, 404.0)"
      ]
     },
     "execution_count": 52,
     "metadata": {},
     "output_type": "execute_result"
    },
    {
     "data": {
      "image/png": "[encoded data removed]",
      "text/plain": [
       "<Figure size 800x550 with 1 Axes>"
      ]
     },
     "metadata": {},
     "output_type": "display_data"
    }
   ],
   "source": [
    "plt.style.use('seaborn')\n",
    "plt.plot(train_sizes, train_scores_mean, label = 'Training error')\n",
    "plt.plot(train_sizes, validation_scores_mean, label = 'Validation error')\n",
    "plt.ylabel('MSE', fontsize = 14)\n",
    "plt.xlabel('Training set size', fontsize = 14)\n",
    "plt.title('Learning curves for a linear regression model', fontsize = 18, y = 1.03)\n",
    "plt.legend()\n",
    "plt.ylim(0,40)\n",
    "plt.xlim(0,404)"
   ]
  },
  {
   "cell_type": "markdown",
   "id": "4fa55c9b",
   "metadata": {},
   "source": [
    "## There is a problem of high variance. Let's try to eliminate it with the help of regularization."
   ]
  },
  {
   "cell_type": "markdown",
   "id": "3a1c1d3e",
   "metadata": {},
   "source": [
    "## SGDRegressor"
   ]
  },
  {
   "cell_type": "code",
   "execution_count": 54,
   "id": "a2384d02",
   "metadata": {},
   "outputs": [],
   "source": [
    "sgd = SGDRegressor(random_state=0, tol=.0001)\n",
    "sgd_params = {'alpha':[.001, .0015, .01, .015, .1, 1, 10, 100],\n",
    "             'eta0':[.001, .003, .01, .03, .1, .3, 1, 3]\n",
    "             }"
   ]
  },
  {
   "cell_type": "code",
   "execution_count": 61,
   "id": "d9a06960",
   "metadata": {},
   "outputs": [
    {
     "name": "stdout",
     "output_type": "stream",
     "text": [
      "Fitting 5 folds for each of 64 candidates, totalling 320 fits\n"
     ]
    },
    {
     "name": "stderr",
     "output_type": "stream",
     "text": [
      "[Parallel(n_jobs=-1)]: Using backend LokyBackend with 4 concurrent workers.\n",
      "[Parallel(n_jobs=-1)]: Done  42 tasks      | elapsed:    7.6s\n",
      "[Parallel(n_jobs=-1)]: Done 192 tasks      | elapsed:   19.2s\n",
      "[Parallel(n_jobs=-1)]: Done 320 out of 320 | elapsed:   27.5s finished\n"
     ]
    },
    {
     "name": "stdout",
     "output_type": "stream",
     "text": [
      "Wall time: 27.9 s\n"
     ]
    },
    {
     "data": {
      "text/plain": [
       "GridSearchCV(cv=5, estimator=SGDRegressor(random_state=0, tol=0.0001),\n",
       "             n_jobs=-1,\n",
       "             param_grid={'alpha': [0.001, 0.0015, 0.01, 0.015, 0.1, 1, 10, 100],\n",
       "                         'eta0': [0.001, 0.003, 0.01, 0.03, 0.1, 0.3, 1, 3]},\n",
       "             scoring='r2', verbose=1)"
      ]
     },
     "execution_count": 61,
     "metadata": {},
     "output_type": "execute_result"
    }
   ],
   "source": [
    "%%time\n",
    "gs_sgd = GridSearchCV(sgd, sgd_params, cv=5, n_jobs=-1, verbose=1, scoring='r2')\n",
    "gs_sgd.fit(X_train, y_train)"
   ]
  },
  {
   "cell_type": "code",
   "execution_count": 62,
   "id": "3457aa4b",
   "metadata": {},
   "outputs": [],
   "source": [
    "sgd_best = gs_sgd.best_estimator_"
   ]
  },
  {
   "cell_type": "code",
   "execution_count": 63,
   "id": "6145c2d7",
   "metadata": {},
   "outputs": [],
   "source": [
    "# Prediction\n",
    "sgd_pred = sgd_best.predict(X_test)\n",
    "sgd_pred_train = sgd_best.predict(X_train)"
   ]
  },
  {
   "cell_type": "code",
   "execution_count": 64,
   "id": "d7b47dbd",
   "metadata": {},
   "outputs": [
    {
     "name": "stdout",
     "output_type": "stream",
     "text": [
      "Metrics for testing data:\n",
      "\n",
      "MAE: 2.568298397969912\n",
      "MSE: 17.86709351616535\n",
      "R2: 0.9840811117839459\n",
      "\n",
      "metrics for training data:\n",
      "\n",
      "MAE: 2.636218217203045\n",
      "MSE: 23.71323999256818\n",
      "R2: 0.9787665497114589\n",
      "\n"
     ]
    }
   ],
   "source": [
    "print('Metrics for testing data:\\n')\n",
    "print_metrics(y_test, sgd_pred)\n",
    "print('metrics for training data:\\n')\n",
    "print_metrics(y_train, sgd_pred_train)"
   ]
  },
  {
   "cell_type": "code",
   "execution_count": 65,
   "id": "9fd596f3",
   "metadata": {},
   "outputs": [],
   "source": [
    "# Saving the SGDRegressor metrics\n",
    "sgd_mae, sgd_mse, sgd_r2 = save_metrics(y_test, sgd_pred)"
   ]
  },
  {
   "cell_type": "code",
   "execution_count": 81,
   "id": "f8bc13e9",
   "metadata": {
    "scrolled": false
   },
   "outputs": [
    {
     "data": {
      "text/html": [
       "<div>\n",
       "<style scoped>\n",
       "    .dataframe tbody tr th:only-of-type {\n",
       "        vertical-align: middle;\n",
       "    }\n",
       "\n",
       "    .dataframe tbody tr th {\n",
       "        vertical-align: top;\n",
       "    }\n",
       "\n",
       "    .dataframe thead th {\n",
       "        text-align: right;\n",
       "    }\n",
       "</style>\n",
       "<table border=\"1\" class=\"dataframe\">\n",
       "  <thead>\n",
       "    <tr style=\"text-align: right;\">\n",
       "      <th></th>\n",
       "      <th>Features</th>\n",
       "      <th>Coefficients</th>\n",
       "    </tr>\n",
       "  </thead>\n",
       "  <tbody>\n",
       "    <tr>\n",
       "      <th>2</th>\n",
       "      <td>CO2</td>\n",
       "      <td>26.048957</td>\n",
       "    </tr>\n",
       "    <tr>\n",
       "      <th>0</th>\n",
       "      <td>Lag_RP</td>\n",
       "      <td>5.702920</td>\n",
       "    </tr>\n",
       "    <tr>\n",
       "      <th>3</th>\n",
       "      <td>Lag_PF</td>\n",
       "      <td>2.479911</td>\n",
       "    </tr>\n",
       "    <tr>\n",
       "      <th>4</th>\n",
       "      <td>Lead_PF</td>\n",
       "      <td>1.953129</td>\n",
       "    </tr>\n",
       "    <tr>\n",
       "      <th>1</th>\n",
       "      <td>Lead_RP</td>\n",
       "      <td>0.500837</td>\n",
       "    </tr>\n",
       "    <tr>\n",
       "      <th>17</th>\n",
       "      <td>Load_Type_Medium_Load</td>\n",
       "      <td>0.447997</td>\n",
       "    </tr>\n",
       "    <tr>\n",
       "      <th>13</th>\n",
       "      <td>Day_of_week_Tuesday</td>\n",
       "      <td>0.203606</td>\n",
       "    </tr>\n",
       "    <tr>\n",
       "      <th>16</th>\n",
       "      <td>Load_Type_Maximum_Load</td>\n",
       "      <td>0.123959</td>\n",
       "    </tr>\n",
       "    <tr>\n",
       "      <th>11</th>\n",
       "      <td>Day_of_week_Sunday</td>\n",
       "      <td>0.070570</td>\n",
       "    </tr>\n",
       "    <tr>\n",
       "      <th>7</th>\n",
       "      <td>WeekStatus_Weekend</td>\n",
       "      <td>0.023673</td>\n",
       "    </tr>\n",
       "    <tr>\n",
       "      <th>6</th>\n",
       "      <td>WeekStatus_Weekday</td>\n",
       "      <td>-0.023673</td>\n",
       "    </tr>\n",
       "    <tr>\n",
       "      <th>14</th>\n",
       "      <td>Day_of_week_Wednesday</td>\n",
       "      <td>-0.029884</td>\n",
       "    </tr>\n",
       "    <tr>\n",
       "      <th>10</th>\n",
       "      <td>Day_of_week_Saturday</td>\n",
       "      <td>-0.039998</td>\n",
       "    </tr>\n",
       "    <tr>\n",
       "      <th>9</th>\n",
       "      <td>Day_of_week_Monday</td>\n",
       "      <td>-0.048682</td>\n",
       "    </tr>\n",
       "    <tr>\n",
       "      <th>8</th>\n",
       "      <td>Day_of_week_Friday</td>\n",
       "      <td>-0.058212</td>\n",
       "    </tr>\n",
       "    <tr>\n",
       "      <th>5</th>\n",
       "      <td>NSM</td>\n",
       "      <td>-0.085198</td>\n",
       "    </tr>\n",
       "    <tr>\n",
       "      <th>12</th>\n",
       "      <td>Day_of_week_Thursday</td>\n",
       "      <td>-0.097013</td>\n",
       "    </tr>\n",
       "    <tr>\n",
       "      <th>15</th>\n",
       "      <td>Load_Type_Light_Load</td>\n",
       "      <td>-0.501634</td>\n",
       "    </tr>\n",
       "  </tbody>\n",
       "</table>\n",
       "</div>"
      ],
      "text/plain": [
       "                  Features  Coefficients\n",
       "2                      CO2     26.048957\n",
       "0                   Lag_RP      5.702920\n",
       "3                   Lag_PF      2.479911\n",
       "4                  Lead_PF      1.953129\n",
       "1                  Lead_RP      0.500837\n",
       "17   Load_Type_Medium_Load      0.447997\n",
       "13     Day_of_week_Tuesday      0.203606\n",
       "16  Load_Type_Maximum_Load      0.123959\n",
       "11      Day_of_week_Sunday      0.070570\n",
       "7       WeekStatus_Weekend      0.023673\n",
       "6       WeekStatus_Weekday     -0.023673\n",
       "14   Day_of_week_Wednesday     -0.029884\n",
       "10    Day_of_week_Saturday     -0.039998\n",
       "9       Day_of_week_Monday     -0.048682\n",
       "8       Day_of_week_Friday     -0.058212\n",
       "5                      NSM     -0.085198\n",
       "12    Day_of_week_Thursday     -0.097013\n",
       "15    Load_Type_Light_Load     -0.501634"
      ]
     },
     "execution_count": 81,
     "metadata": {},
     "output_type": "execute_result"
    }
   ],
   "source": [
    "#print(pd.DataFrame(zip(X.columns, sgd_best.coef_), columns=['Features','Coefficients']).sort_values(by=['Coefficients'],ascending=False))\n",
    "sgd_feature = pd.DataFrame(zip(X.columns, sgd_best.coef_), columns=['Features','Coefficients']).sort_values(by=['Coefficients'],ascending=False)\n",
    "print(sgd_feature)"
   ]
  },
  {
   "cell_type": "code",
   "execution_count": 98,
   "id": "fee9d5a6",
   "metadata": {},
   "outputs": [
    {
     "name": "stdout",
     "output_type": "stream",
     "text": [
      "###########################\n",
      " Adjusted R^2 for SGD model \n",
      "##########################\n",
      "0.9787509553540721\n"
     ]
    }
   ],
   "source": [
    "# Printing the adjusted R^2 for the SGD model\n",
    "print('###########################\\n Adjusted R^2 for SGD model \\n##########################')\n",
    "print(adj_r2(X_train, y_train, sgd_best))"
   ]
  },
  {
   "cell_type": "markdown",
   "id": "0ec292d2",
   "metadata": {},
   "source": [
    "## SGDRegressor with Elastic Net Penalty"
   ]
  },
  {
   "cell_type": "code",
   "execution_count": 66,
   "id": "884efcd6",
   "metadata": {},
   "outputs": [
    {
     "data": {
      "text/plain": [
       "GridSearchCV(cv=5, estimator=SGDRegressor(penalty='elasticnet', random_state=1),\n",
       "             param_grid={'alpha': [0.001, 0.01, 0.1, 1, 10, 100],\n",
       "                         'eta0': [0.0001, 0.001, 0.01, 0.1, 1],\n",
       "                         'l1_ratio': [0.25, 0.5, 0.75],\n",
       "                         'max_iter': [1000, 2000, 3000]},\n",
       "             scoring='r2')"
      ]
     },
     "execution_count": 66,
     "metadata": {},
     "output_type": "execute_result"
    }
   ],
   "source": [
    "## SGDRegressor with Elastic Net Penalty tuning the SGDRegressor parameters \n",
    "#'eta0' (learning rate) and 'max_iter', along with the regularization parameter alpha using Grid Search\n",
    "sgdr = SGDRegressor(random_state = 1, penalty = 'elasticnet')\n",
    "grid_param = {'eta0': [.0001, .001, .01, .1, 1], 'max_iter':[1000, 2000, 3000],'alpha': [.001, .01, .1, 1,10, 100], 'l1_ratio': [0.25,0.5,0.75]}\n",
    "\n",
    "gd_sr = GridSearchCV(estimator=sgdr, param_grid=grid_param, scoring='r2', cv=5)\n",
    "\n",
    "gd_sr.fit(X_train, y_train)"
   ]
  },
  {
   "cell_type": "code",
   "execution_count": 67,
   "id": "dcf34f01",
   "metadata": {},
   "outputs": [
    {
     "name": "stdout",
     "output_type": "stream",
     "text": [
      "Best parameters:  {'alpha': 0.001, 'eta0': 0.01, 'l1_ratio': 0.5, 'max_iter': 1000}\n",
      "r2:  0.9786576603162512\n"
     ]
    }
   ],
   "source": [
    "best_parameters = gd_sr.best_params_\n",
    "print(\"Best parameters: \", best_parameters)\n",
    "\n",
    "best_result = gd_sr.best_score_ # Mean cross-validated score of the best_estimator\n",
    "print(\"r2: \", best_result)"
   ]
  },
  {
   "cell_type": "code",
   "execution_count": 68,
   "id": "e8ba6010",
   "metadata": {},
   "outputs": [],
   "source": [
    "sgd_en = gd_sr.best_estimator_"
   ]
  },
  {
   "cell_type": "code",
   "execution_count": 69,
   "id": "d16cbc77",
   "metadata": {},
   "outputs": [],
   "source": [
    "# Prediction\n",
    "sgd_en_pred = sgd_en.predict(X_test)\n",
    "sgd_en_pred_train = sgd_en.predict(X_train)"
   ]
  },
  {
   "cell_type": "code",
   "execution_count": 70,
   "id": "23c8a0fa",
   "metadata": {},
   "outputs": [
    {
     "name": "stdout",
     "output_type": "stream",
     "text": [
      "Metrics for testing data:\n",
      "\n",
      "MAE: 2.5416955723985737\n",
      "MSE: 17.791191423190714\n",
      "R2: 0.9841487376086125\n",
      "\n",
      "metrics for training data:\n",
      "\n",
      "MAE: 2.6102934353307488\n",
      "MSE: 23.733098735163033\n",
      "R2: 0.9787487676781387\n",
      "\n"
     ]
    }
   ],
   "source": [
    "print('Metrics for testing data:\\n')\n",
    "print_metrics(y_test, sgd_en_pred)\n",
    "print('metrics for training data:\\n')\n",
    "print_metrics(y_train, sgd_en_pred_train)"
   ]
  },
  {
   "cell_type": "code",
   "execution_count": 71,
   "id": "9412c485",
   "metadata": {},
   "outputs": [],
   "source": [
    "# Saving the SGDRegressor with EN metrics\n",
    "sgd_en_mae, sgd_en_mse, sgd_en_r2 = save_metrics(y_test, sgd_en_pred)"
   ]
  },
  {
   "cell_type": "code",
   "execution_count": 73,
   "id": "72bda540",
   "metadata": {
    "scrolled": true
   },
   "outputs": [
    {
     "name": "stdout",
     "output_type": "stream",
     "text": [
      "                  Features  Coefficients\n",
      "2                      CO2     26.160153\n",
      "0                   Lag_RP      5.617256\n",
      "3                   Lag_PF      2.448988\n",
      "4                  Lead_PF      1.920261\n",
      "1                  Lead_RP      0.453810\n",
      "17   Load_Type_Medium_Load      0.327769\n",
      "13     Day_of_week_Tuesday      0.155197\n",
      "16  Load_Type_Maximum_Load      0.109719\n",
      "11      Day_of_week_Sunday      0.102426\n",
      "6       WeekStatus_Weekday      0.000000\n",
      "7       WeekStatus_Weekend      0.000000\n",
      "8       Day_of_week_Friday      0.000000\n",
      "10    Day_of_week_Saturday      0.000000\n",
      "14   Day_of_week_Wednesday      0.000000\n",
      "9       Day_of_week_Monday      0.000000\n",
      "12    Day_of_week_Thursday     -0.038309\n",
      "5                      NSM     -0.064801\n",
      "15    Load_Type_Light_Load     -0.467581\n"
     ]
    }
   ],
   "source": [
    "print(pd.DataFrame(zip(X.columns, sgd_en.coef_), columns=['Features','Coefficients']).sort_values(by=['Coefficients'],ascending=False))"
   ]
  },
  {
   "cell_type": "code",
   "execution_count": 83,
   "id": "ebce3f9e",
   "metadata": {},
   "outputs": [
    {
     "data": {
      "text/html": [
       "<div>\n",
       "<style scoped>\n",
       "    .dataframe tbody tr th:only-of-type {\n",
       "        vertical-align: middle;\n",
       "    }\n",
       "\n",
       "    .dataframe tbody tr th {\n",
       "        vertical-align: top;\n",
       "    }\n",
       "\n",
       "    .dataframe thead th {\n",
       "        text-align: right;\n",
       "    }\n",
       "</style>\n",
       "<table border=\"1\" class=\"dataframe\">\n",
       "  <thead>\n",
       "    <tr style=\"text-align: right;\">\n",
       "      <th></th>\n",
       "      <th>Features</th>\n",
       "      <th>Coefficients</th>\n",
       "    </tr>\n",
       "  </thead>\n",
       "  <tbody>\n",
       "    <tr>\n",
       "      <th>2</th>\n",
       "      <td>CO2</td>\n",
       "      <td>26.160153</td>\n",
       "    </tr>\n",
       "    <tr>\n",
       "      <th>0</th>\n",
       "      <td>Lag_RP</td>\n",
       "      <td>5.617256</td>\n",
       "    </tr>\n",
       "    <tr>\n",
       "      <th>3</th>\n",
       "      <td>Lag_PF</td>\n",
       "      <td>2.448988</td>\n",
       "    </tr>\n",
       "    <tr>\n",
       "      <th>4</th>\n",
       "      <td>Lead_PF</td>\n",
       "      <td>1.920261</td>\n",
       "    </tr>\n",
       "    <tr>\n",
       "      <th>1</th>\n",
       "      <td>Lead_RP</td>\n",
       "      <td>0.453810</td>\n",
       "    </tr>\n",
       "    <tr>\n",
       "      <th>17</th>\n",
       "      <td>Load_Type_Medium_Load</td>\n",
       "      <td>0.327769</td>\n",
       "    </tr>\n",
       "    <tr>\n",
       "      <th>13</th>\n",
       "      <td>Day_of_week_Tuesday</td>\n",
       "      <td>0.155197</td>\n",
       "    </tr>\n",
       "    <tr>\n",
       "      <th>16</th>\n",
       "      <td>Load_Type_Maximum_Load</td>\n",
       "      <td>0.109719</td>\n",
       "    </tr>\n",
       "    <tr>\n",
       "      <th>11</th>\n",
       "      <td>Day_of_week_Sunday</td>\n",
       "      <td>0.102426</td>\n",
       "    </tr>\n",
       "    <tr>\n",
       "      <th>6</th>\n",
       "      <td>WeekStatus_Weekday</td>\n",
       "      <td>0.000000</td>\n",
       "    </tr>\n",
       "    <tr>\n",
       "      <th>7</th>\n",
       "      <td>WeekStatus_Weekend</td>\n",
       "      <td>0.000000</td>\n",
       "    </tr>\n",
       "    <tr>\n",
       "      <th>8</th>\n",
       "      <td>Day_of_week_Friday</td>\n",
       "      <td>0.000000</td>\n",
       "    </tr>\n",
       "    <tr>\n",
       "      <th>10</th>\n",
       "      <td>Day_of_week_Saturday</td>\n",
       "      <td>0.000000</td>\n",
       "    </tr>\n",
       "    <tr>\n",
       "      <th>14</th>\n",
       "      <td>Day_of_week_Wednesday</td>\n",
       "      <td>0.000000</td>\n",
       "    </tr>\n",
       "    <tr>\n",
       "      <th>9</th>\n",
       "      <td>Day_of_week_Monday</td>\n",
       "      <td>0.000000</td>\n",
       "    </tr>\n",
       "    <tr>\n",
       "      <th>12</th>\n",
       "      <td>Day_of_week_Thursday</td>\n",
       "      <td>-0.038309</td>\n",
       "    </tr>\n",
       "    <tr>\n",
       "      <th>5</th>\n",
       "      <td>NSM</td>\n",
       "      <td>-0.064801</td>\n",
       "    </tr>\n",
       "    <tr>\n",
       "      <th>15</th>\n",
       "      <td>Load_Type_Light_Load</td>\n",
       "      <td>-0.467581</td>\n",
       "    </tr>\n",
       "  </tbody>\n",
       "</table>\n",
       "</div>"
      ],
      "text/plain": [
       "                  Features  Coefficients\n",
       "2                      CO2     26.160153\n",
       "0                   Lag_RP      5.617256\n",
       "3                   Lag_PF      2.448988\n",
       "4                  Lead_PF      1.920261\n",
       "1                  Lead_RP      0.453810\n",
       "17   Load_Type_Medium_Load      0.327769\n",
       "13     Day_of_week_Tuesday      0.155197\n",
       "16  Load_Type_Maximum_Load      0.109719\n",
       "11      Day_of_week_Sunday      0.102426\n",
       "6       WeekStatus_Weekday      0.000000\n",
       "7       WeekStatus_Weekend      0.000000\n",
       "8       Day_of_week_Friday      0.000000\n",
       "10    Day_of_week_Saturday      0.000000\n",
       "14   Day_of_week_Wednesday      0.000000\n",
       "9       Day_of_week_Monday      0.000000\n",
       "12    Day_of_week_Thursday     -0.038309\n",
       "5                      NSM     -0.064801\n",
       "15    Load_Type_Light_Load     -0.467581"
      ]
     },
     "execution_count": 83,
     "metadata": {},
     "output_type": "execute_result"
    }
   ],
   "source": [
    "#print(pd.DataFrame(zip(X.columns, sgd_best.coef_), columns=['Features','Coefficients']).sort_values(by=['Coefficients'],ascending=False))\n",
    "sgd_en_feature = pd.DataFrame(zip(X.columns, sgd_en.coef_), columns=['Features','Coefficients']).sort_values(by=['Coefficients'],ascending=False)\n",
    "print(sgd_en_feature)"
   ]
  },
  {
   "cell_type": "code",
   "execution_count": 99,
   "id": "6f40177d",
   "metadata": {},
   "outputs": [
    {
     "name": "stdout",
     "output_type": "stream",
     "text": [
      "###########################\n",
      " Adjusted R^2 for SGD_EN model \n",
      "##########################\n",
      "0.9787331602611983\n"
     ]
    }
   ],
   "source": [
    "# Printing the adjusted R^2 for the SGD with EN model\n",
    "print('###########################\\n Adjusted R^2 for SGD_EN model \\n##########################')\n",
    "print(adj_r2(X_train, y_train, sgd_en))"
   ]
  },
  {
   "cell_type": "markdown",
   "id": "9e6d4835",
   "metadata": {},
   "source": [
    "## Let's explore a Support Vector Regressor (SVR) (with no regularization as a baseline)"
   ]
  },
  {
   "cell_type": "code",
   "execution_count": 75,
   "id": "3dc27a31",
   "metadata": {},
   "outputs": [],
   "source": [
    "svr = SVR()"
   ]
  },
  {
   "cell_type": "code",
   "execution_count": 76,
   "id": "a8b972b4",
   "metadata": {},
   "outputs": [
    {
     "data": {
      "text/plain": [
       "GridSearchCV(cv=5, estimator=SVR(),\n",
       "             param_grid={'kernel': ['linear', 'poly', 'rbf', 'sigmoid']},\n",
       "             scoring='r2')"
      ]
     },
     "execution_count": 76,
     "metadata": {},
     "output_type": "execute_result"
    }
   ],
   "source": [
    "grid_param = {'kernel': ['linear', 'poly', 'rbf', 'sigmoid']}\n",
    "\n",
    "gd_svr = GridSearchCV(estimator=svr, param_grid=grid_param, scoring='r2', cv=5)\n",
    "\n",
    "gd_svr.fit(X_train, y_train)"
   ]
  },
  {
   "cell_type": "code",
   "execution_count": 87,
   "id": "89a3f85f",
   "metadata": {},
   "outputs": [],
   "source": [
    "svr_gs = gd_svr.best_estimator_  ## get the best estimator model"
   ]
  },
  {
   "cell_type": "code",
   "execution_count": 85,
   "id": "094f68e8",
   "metadata": {},
   "outputs": [],
   "source": [
    "# Prediction\n",
    "svr_pred = svr_gs.predict(X_test)\n",
    "svr_pred_train = svr_gs.predict(X_train)"
   ]
  },
  {
   "cell_type": "code",
   "execution_count": 86,
   "id": "0d2fc591",
   "metadata": {},
   "outputs": [
    {
     "name": "stdout",
     "output_type": "stream",
     "text": [
      "Metrics for testing data:\n",
      "\n",
      "MAE: 1.847312611957154\n",
      "MSE: 12.784172497781764\n",
      "R2: 0.988609797517273\n",
      "\n",
      "metrics for training data:\n",
      "\n",
      "MAE: 1.8851770798799274\n",
      "MSE: 15.601631287562626\n",
      "R2: 0.9860298945876468\n",
      "\n"
     ]
    }
   ],
   "source": [
    "print('Metrics for testing data:\\n')\n",
    "print_metrics(y_test, svr_pred)\n",
    "print('metrics for training data:\\n')\n",
    "print_metrics(y_train, svr_pred_train)"
   ]
  },
  {
   "cell_type": "code",
   "execution_count": 88,
   "id": "277172fb",
   "metadata": {},
   "outputs": [],
   "source": [
    "# Saving the SVR metrics\n",
    "svr_mae, svr_mse, svr_r2 = save_metrics(y_test, svr_pred)"
   ]
  },
  {
   "cell_type": "code",
   "execution_count": 100,
   "id": "40f6c6e2",
   "metadata": {
    "scrolled": true
   },
   "outputs": [
    {
     "name": "stdout",
     "output_type": "stream",
     "text": [
      "###########################\n",
      " Adjusted R^2 for SVR model \n",
      "##########################\n",
      "0.9860196346057045\n"
     ]
    }
   ],
   "source": [
    "print('###########################\\n Adjusted R^2 for SVR model \\n##########################')\n",
    "print(adj_r2(X_train, y_train, svr_gs))"
   ]
  },
  {
   "cell_type": "code",
   "execution_count": 92,
   "id": "871e3b50",
   "metadata": {
    "scrolled": true
   },
   "outputs": [],
   "source": [
    "# print(pd.DataFrame(zip(X.columns, svr_gs.coef_), columns=['Features','Coefficients']).sort_values(by=['Coefficients'],ascending=False))"
   ]
  },
  {
   "cell_type": "markdown",
   "id": "43a397ad",
   "metadata": {},
   "source": [
    "## Implementing Support Vector Regression with Regularization\n",
    "#### Tuning the SVR parameters 'kernel', 'C', 'epsilon' and implementing cross-validation using Grid Search"
   ]
  },
  {
   "cell_type": "code",
   "execution_count": 118,
   "id": "f9f4da33",
   "metadata": {},
   "outputs": [
    {
     "data": {
      "text/plain": [
       "GridSearchCV(cv=5, estimator=SVR(),\n",
       "             param_grid={'C': [100, 1000, 10000], 'epsilon': [100, 1000, 10000],\n",
       "                         'gamma': ['auto', 1, 10, 100],\n",
       "                         'kernel': ['linear', 'poly', 'rbf', 'sigmoid']},\n",
       "             scoring='r2')"
      ]
     },
     "execution_count": 118,
     "metadata": {},
     "output_type": "execute_result"
    }
   ],
   "source": [
    "svr_reg = SVR()\n",
    "grid_param = {'kernel': ['linear', 'poly', 'rbf', 'sigmoid'], 'C': [100,1000,10000], 'epsilon': [100,1000,10000],\n",
    "             'gamma': ['auto',1,10,100]}\n",
    "\n",
    "gd_svr_reg = GridSearchCV(estimator=svr_reg, param_grid=grid_param, scoring='r2', cv=5)\n",
    "\n",
    "gd_svr_reg.fit(X_train, y_train)"
   ]
  },
  {
   "cell_type": "code",
   "execution_count": 120,
   "id": "da37eaed",
   "metadata": {},
   "outputs": [
    {
     "name": "stdout",
     "output_type": "stream",
     "text": [
      "SVR with regularization best parameters:  {'C': 100, 'epsilon': 100, 'gamma': 'auto', 'kernel': 'linear'}\n"
     ]
    }
   ],
   "source": [
    "print(\"SVR with regularization best parameters: \", gd_svr_reg.best_params_)"
   ]
  },
  {
   "cell_type": "code",
   "execution_count": 121,
   "id": "13795d3a",
   "metadata": {},
   "outputs": [],
   "source": [
    "svr_gs_reg = gd_svr_reg.best_estimator_  ## get the best estimator model"
   ]
  },
  {
   "cell_type": "code",
   "execution_count": 122,
   "id": "4eab5410",
   "metadata": {},
   "outputs": [],
   "source": [
    "# Prediction\n",
    "svr_reg_pred = svr_gs_reg.predict(X_test)\n",
    "svr_reg_pred_train = svr_gs_reg.predict(X_train)"
   ]
  },
  {
   "cell_type": "code",
   "execution_count": 127,
   "id": "bfbb3570",
   "metadata": {},
   "outputs": [
    {
     "name": "stdout",
     "output_type": "stream",
     "text": [
      "Metrics for testing data:\n",
      "\n",
      "MAE: 55.375447108066965\n",
      "MSE: 3717.6717898972606\n",
      "R2: -2.3123015555836237\n",
      "\n",
      "metrics for training data:\n",
      "\n",
      "MAE: 55.78271811806915\n",
      "MSE: 3749.930432391553\n",
      "R2: -2.357784994653945\n",
      "\n"
     ]
    }
   ],
   "source": [
    "print('Metrics for testing data:\\n')\n",
    "print_metrics(y_test, svr_reg_pred)\n",
    "print('metrics for training data:\\n')\n",
    "print_metrics(y_train, svr_reg_pred_train)"
   ]
  },
  {
   "cell_type": "code",
   "execution_count": 124,
   "id": "9e9d25eb",
   "metadata": {},
   "outputs": [],
   "source": [
    "# Saving the SVR metrics\n",
    "svr_reg_mae, svr_reg_mse, svr_reg_r2 = save_metrics(y_test, svr_reg_pred)"
   ]
  },
  {
   "cell_type": "code",
   "execution_count": 125,
   "id": "fac49d44",
   "metadata": {},
   "outputs": [
    {
     "name": "stdout",
     "output_type": "stream",
     "text": [
      "###########################\n",
      " Adjusted R^2 for SVR model \n",
      "##########################\n",
      "-2.3602510328400714\n"
     ]
    }
   ],
   "source": [
    "print('###########################\\n Adjusted R^2 for SVR model \\n##########################')\n",
    "print(adj_r2(X_train, y_train, svr_gs_reg))"
   ]
  },
  {
   "cell_type": "markdown",
   "id": "e01be726",
   "metadata": {},
   "source": [
    "## Exploring the impact of L1, L2, and elastic net regularization on linear regression coefficients"
   ]
  },
  {
   "cell_type": "markdown",
   "id": "5a20de8c",
   "metadata": {},
   "source": [
    "## Ridge Regression (L2)"
   ]
  },
  {
   "cell_type": "code",
   "execution_count": 128,
   "id": "319ab860",
   "metadata": {},
   "outputs": [
    {
     "name": "stdout",
     "output_type": "stream",
     "text": [
      "Wall time: 554 ms\n"
     ]
    },
    {
     "data": {
      "text/plain": [
       "RidgeCV(alphas=array([1.0e-03, 1.5e-03, 1.0e-02, 1.5e-02, 1.0e-01, 1.0e+00, 1.0e+01,\n",
       "       1.0e+02]),\n",
       "        cv=5)"
      ]
     },
     "execution_count": 128,
     "metadata": {},
     "output_type": "execute_result"
    }
   ],
   "source": [
    "%%time\n",
    "r_lr = RidgeCV(alphas=[.001, .0015, .01, .015, .1, 1, 10, 100], cv=5)\n",
    "r_lr.fit(X_train, y_train)"
   ]
  },
  {
   "cell_type": "code",
   "execution_count": 129,
   "id": "06a91b2a",
   "metadata": {},
   "outputs": [],
   "source": [
    "r_lr_pred = r_lr.predict(X_test)\n",
    "r_lr_pred_train = r_lr.predict(X_train)"
   ]
  },
  {
   "cell_type": "code",
   "execution_count": 131,
   "id": "ebf6fee3",
   "metadata": {},
   "outputs": [
    {
     "name": "stdout",
     "output_type": "stream",
     "text": [
      "Metrics for testing data:\n",
      "\n",
      "MAE: 2.5581478386408643\n",
      "MSE: 17.804216576382977\n",
      "R2: 0.9841371327016657\n",
      "\n",
      "Metrics for training data:\n",
      "\n",
      "MAE: 2.627265901806237\n",
      "MSE: 23.703212660579656\n",
      "R2: 0.9787755284446633\n",
      "\n"
     ]
    }
   ],
   "source": [
    "print('Metrics for testing data:\\n')\n",
    "print_metrics(y_test, r_lr_pred)\n",
    "print('Metrics for training data:\\n')\n",
    "print_metrics(y_train, r_lr_pred_train)"
   ]
  },
  {
   "cell_type": "code",
   "execution_count": 132,
   "id": "5bce7b12",
   "metadata": {},
   "outputs": [],
   "source": [
    "r_lr_mae, r_lr_mse, r_lr_r2 = save_metrics(y_test, r_lr_pred)"
   ]
  },
  {
   "cell_type": "code",
   "execution_count": 133,
   "id": "06b85ea7",
   "metadata": {},
   "outputs": [
    {
     "data": {
      "text/html": [
       "<div>\n",
       "<style scoped>\n",
       "    .dataframe tbody tr th:only-of-type {\n",
       "        vertical-align: middle;\n",
       "    }\n",
       "\n",
       "    .dataframe tbody tr th {\n",
       "        vertical-align: top;\n",
       "    }\n",
       "\n",
       "    .dataframe thead th {\n",
       "        text-align: right;\n",
       "    }\n",
       "</style>\n",
       "<table border=\"1\" class=\"dataframe\">\n",
       "  <thead>\n",
       "    <tr style=\"text-align: right;\">\n",
       "      <th></th>\n",
       "      <th>Features</th>\n",
       "      <th>Coefficients</th>\n",
       "    </tr>\n",
       "  </thead>\n",
       "  <tbody>\n",
       "    <tr>\n",
       "      <th>2</th>\n",
       "      <td>CO2</td>\n",
       "      <td>26.195775</td>\n",
       "    </tr>\n",
       "    <tr>\n",
       "      <th>0</th>\n",
       "      <td>Lag_RP</td>\n",
       "      <td>5.618200</td>\n",
       "    </tr>\n",
       "    <tr>\n",
       "      <th>3</th>\n",
       "      <td>Lag_PF</td>\n",
       "      <td>2.425294</td>\n",
       "    </tr>\n",
       "    <tr>\n",
       "      <th>4</th>\n",
       "      <td>Lead_PF</td>\n",
       "      <td>1.916488</td>\n",
       "    </tr>\n",
       "    <tr>\n",
       "      <th>1</th>\n",
       "      <td>Lead_RP</td>\n",
       "      <td>0.504587</td>\n",
       "    </tr>\n",
       "    <tr>\n",
       "      <th>17</th>\n",
       "      <td>Load_Type_Medium_Load</td>\n",
       "      <td>0.418656</td>\n",
       "    </tr>\n",
       "    <tr>\n",
       "      <th>13</th>\n",
       "      <td>Day_of_week_Tuesday</td>\n",
       "      <td>0.200145</td>\n",
       "    </tr>\n",
       "    <tr>\n",
       "      <th>16</th>\n",
       "      <td>Load_Type_Maximum_Load</td>\n",
       "      <td>0.149704</td>\n",
       "    </tr>\n",
       "    <tr>\n",
       "      <th>11</th>\n",
       "      <td>Day_of_week_Sunday</td>\n",
       "      <td>0.059179</td>\n",
       "    </tr>\n",
       "    <tr>\n",
       "      <th>7</th>\n",
       "      <td>WeekStatus_Weekend</td>\n",
       "      <td>0.009838</td>\n",
       "    </tr>\n",
       "    <tr>\n",
       "      <th>6</th>\n",
       "      <td>WeekStatus_Weekday</td>\n",
       "      <td>-0.009838</td>\n",
       "    </tr>\n",
       "    <tr>\n",
       "      <th>14</th>\n",
       "      <td>Day_of_week_Wednesday</td>\n",
       "      <td>-0.025689</td>\n",
       "    </tr>\n",
       "    <tr>\n",
       "      <th>10</th>\n",
       "      <td>Day_of_week_Saturday</td>\n",
       "      <td>-0.046475</td>\n",
       "    </tr>\n",
       "    <tr>\n",
       "      <th>9</th>\n",
       "      <td>Day_of_week_Monday</td>\n",
       "      <td>-0.053788</td>\n",
       "    </tr>\n",
       "    <tr>\n",
       "      <th>8</th>\n",
       "      <td>Day_of_week_Friday</td>\n",
       "      <td>-0.056036</td>\n",
       "    </tr>\n",
       "    <tr>\n",
       "      <th>12</th>\n",
       "      <td>Day_of_week_Thursday</td>\n",
       "      <td>-0.076908</td>\n",
       "    </tr>\n",
       "    <tr>\n",
       "      <th>5</th>\n",
       "      <td>NSM</td>\n",
       "      <td>-0.078249</td>\n",
       "    </tr>\n",
       "    <tr>\n",
       "      <th>15</th>\n",
       "      <td>Load_Type_Light_Load</td>\n",
       "      <td>-0.496259</td>\n",
       "    </tr>\n",
       "  </tbody>\n",
       "</table>\n",
       "</div>"
      ],
      "text/plain": [
       "                  Features  Coefficients\n",
       "2                      CO2     26.195775\n",
       "0                   Lag_RP      5.618200\n",
       "3                   Lag_PF      2.425294\n",
       "4                  Lead_PF      1.916488\n",
       "1                  Lead_RP      0.504587\n",
       "17   Load_Type_Medium_Load      0.418656\n",
       "13     Day_of_week_Tuesday      0.200145\n",
       "16  Load_Type_Maximum_Load      0.149704\n",
       "11      Day_of_week_Sunday      0.059179\n",
       "7       WeekStatus_Weekend      0.009838\n",
       "6       WeekStatus_Weekday     -0.009838\n",
       "14   Day_of_week_Wednesday     -0.025689\n",
       "10    Day_of_week_Saturday     -0.046475\n",
       "9       Day_of_week_Monday     -0.053788\n",
       "8       Day_of_week_Friday     -0.056036\n",
       "12    Day_of_week_Thursday     -0.076908\n",
       "5                      NSM     -0.078249\n",
       "15    Load_Type_Light_Load     -0.496259"
      ]
     },
     "execution_count": 133,
     "metadata": {},
     "output_type": "execute_result"
    }
   ],
   "source": [
    "# Extract L2 coefficients\n",
    "rr_feature = pd.DataFrame(zip(X.columns, r_lr.coef_), columns=['Features','Coefficients']).sort_values(by=['Coefficients'],ascending=False)\n",
    "print(rr_feature)"
   ]
  },
  {
   "cell_type": "code",
   "execution_count": 150,
   "id": "3877a5c7",
   "metadata": {},
   "outputs": [
    {
     "name": "stdout",
     "output_type": "stream",
     "text": [
      "###########################\n",
      " Adjusted R^2 for L2 model \n",
      "##########################\n",
      "0.9787599406814744\n"
     ]
    }
   ],
   "source": [
    "print('###########################\\n Adjusted R^2 for L2 model \\n##########################')\n",
    "print(adj_r2(X_train, y_train, r_lr))"
   ]
  },
  {
   "cell_type": "markdown",
   "id": "d8db152b",
   "metadata": {},
   "source": [
    "## Lasso Regression (L1)"
   ]
  },
  {
   "cell_type": "code",
   "execution_count": 134,
   "id": "b6a4fee2",
   "metadata": {},
   "outputs": [
    {
     "name": "stdout",
     "output_type": "stream",
     "text": [
      "Wall time: 293 ms\n"
     ]
    },
    {
     "data": {
      "text/plain": [
       "LassoCV(alphas=[0.001, 0.0015, 0.01, 0.015, 0.1, 1, 10, 100], cv=5,\n",
       "        random_state=0)"
      ]
     },
     "execution_count": 134,
     "metadata": {},
     "output_type": "execute_result"
    }
   ],
   "source": [
    "%%time\n",
    "l_lr = LassoCV(alphas=[.001, .0015, .01, .015, .1, 1, 10, 100], random_state=0, cv=5)\n",
    "l_lr.fit(X_train, y_train)"
   ]
  },
  {
   "cell_type": "code",
   "execution_count": 135,
   "id": "d11b7aa9",
   "metadata": {},
   "outputs": [],
   "source": [
    "l_lr_pred = l_lr.predict(X_test)\n",
    "l_lr_pred_train = l_lr.predict(X_train)"
   ]
  },
  {
   "cell_type": "code",
   "execution_count": 137,
   "id": "045dd076",
   "metadata": {},
   "outputs": [
    {
     "name": "stdout",
     "output_type": "stream",
     "text": [
      "Metrics for testing data:\n",
      "\n",
      "MAE: 2.5516797589222477\n",
      "MSE: 17.766535691272374\n",
      "R2: 0.9841707049106775\n",
      "\n",
      "Metrics for training data:\n",
      "\n",
      "MAE: 2.621355448981054\n",
      "MSE: 23.7025083294717\n",
      "R2: 0.97877615912101\n",
      "\n"
     ]
    }
   ],
   "source": [
    "print('Metrics for testing data:\\n')\n",
    "print_metrics(y_test, l_lr_pred)\n",
    "print('Metrics for training data:\\n')\n",
    "print_metrics(y_train, l_lr_pred_train)"
   ]
  },
  {
   "cell_type": "code",
   "execution_count": 138,
   "id": "7ab12e6d",
   "metadata": {},
   "outputs": [],
   "source": [
    "l_lr_mae, l_lr_mse, l_lr_r2 = save_metrics(y_test, l_lr_pred)\n",
    "#l_lr_mae, l_lr_mse, l_lr_r2 = save_metrics(y_test, l_lr_pred)"
   ]
  },
  {
   "cell_type": "code",
   "execution_count": 139,
   "id": "29ccdaa6",
   "metadata": {},
   "outputs": [
    {
     "data": {
      "text/html": [
       "<div>\n",
       "<style scoped>\n",
       "    .dataframe tbody tr th:only-of-type {\n",
       "        vertical-align: middle;\n",
       "    }\n",
       "\n",
       "    .dataframe tbody tr th {\n",
       "        vertical-align: top;\n",
       "    }\n",
       "\n",
       "    .dataframe thead th {\n",
       "        text-align: right;\n",
       "    }\n",
       "</style>\n",
       "<table border=\"1\" class=\"dataframe\">\n",
       "  <thead>\n",
       "    <tr style=\"text-align: right;\">\n",
       "      <th></th>\n",
       "      <th>Features</th>\n",
       "      <th>Coefficients</th>\n",
       "    </tr>\n",
       "  </thead>\n",
       "  <tbody>\n",
       "    <tr>\n",
       "      <th>2</th>\n",
       "      <td>CO2</td>\n",
       "      <td>26.286720</td>\n",
       "    </tr>\n",
       "    <tr>\n",
       "      <th>0</th>\n",
       "      <td>Lag_RP</td>\n",
       "      <td>5.556616</td>\n",
       "    </tr>\n",
       "    <tr>\n",
       "      <th>3</th>\n",
       "      <td>Lag_PF</td>\n",
       "      <td>2.392119</td>\n",
       "    </tr>\n",
       "    <tr>\n",
       "      <th>4</th>\n",
       "      <td>Lead_PF</td>\n",
       "      <td>1.883480</td>\n",
       "    </tr>\n",
       "    <tr>\n",
       "      <th>1</th>\n",
       "      <td>Lead_RP</td>\n",
       "      <td>0.497963</td>\n",
       "    </tr>\n",
       "    <tr>\n",
       "      <th>13</th>\n",
       "      <td>Day_of_week_Tuesday</td>\n",
       "      <td>0.232266</td>\n",
       "    </tr>\n",
       "    <tr>\n",
       "      <th>17</th>\n",
       "      <td>Load_Type_Medium_Load</td>\n",
       "      <td>0.156098</td>\n",
       "    </tr>\n",
       "    <tr>\n",
       "      <th>11</th>\n",
       "      <td>Day_of_week_Sunday</td>\n",
       "      <td>0.103558</td>\n",
       "    </tr>\n",
       "    <tr>\n",
       "      <th>14</th>\n",
       "      <td>Day_of_week_Wednesday</td>\n",
       "      <td>0.005542</td>\n",
       "    </tr>\n",
       "    <tr>\n",
       "      <th>7</th>\n",
       "      <td>WeekStatus_Weekend</td>\n",
       "      <td>0.000000</td>\n",
       "    </tr>\n",
       "    <tr>\n",
       "      <th>6</th>\n",
       "      <td>WeekStatus_Weekday</td>\n",
       "      <td>-0.000000</td>\n",
       "    </tr>\n",
       "    <tr>\n",
       "      <th>10</th>\n",
       "      <td>Day_of_week_Saturday</td>\n",
       "      <td>-0.000000</td>\n",
       "    </tr>\n",
       "    <tr>\n",
       "      <th>9</th>\n",
       "      <td>Day_of_week_Monday</td>\n",
       "      <td>-0.020366</td>\n",
       "    </tr>\n",
       "    <tr>\n",
       "      <th>8</th>\n",
       "      <td>Day_of_week_Friday</td>\n",
       "      <td>-0.022734</td>\n",
       "    </tr>\n",
       "    <tr>\n",
       "      <th>12</th>\n",
       "      <td>Day_of_week_Thursday</td>\n",
       "      <td>-0.043580</td>\n",
       "    </tr>\n",
       "    <tr>\n",
       "      <th>5</th>\n",
       "      <td>NSM</td>\n",
       "      <td>-0.077550</td>\n",
       "    </tr>\n",
       "    <tr>\n",
       "      <th>16</th>\n",
       "      <td>Load_Type_Maximum_Load</td>\n",
       "      <td>-0.086301</td>\n",
       "    </tr>\n",
       "    <tr>\n",
       "      <th>15</th>\n",
       "      <td>Load_Type_Light_Load</td>\n",
       "      <td>-0.778237</td>\n",
       "    </tr>\n",
       "  </tbody>\n",
       "</table>\n",
       "</div>"
      ],
      "text/plain": [
       "                  Features  Coefficients\n",
       "2                      CO2     26.286720\n",
       "0                   Lag_RP      5.556616\n",
       "3                   Lag_PF      2.392119\n",
       "4                  Lead_PF      1.883480\n",
       "1                  Lead_RP      0.497963\n",
       "13     Day_of_week_Tuesday      0.232266\n",
       "17   Load_Type_Medium_Load      0.156098\n",
       "11      Day_of_week_Sunday      0.103558\n",
       "14   Day_of_week_Wednesday      0.005542\n",
       "7       WeekStatus_Weekend      0.000000\n",
       "6       WeekStatus_Weekday     -0.000000\n",
       "10    Day_of_week_Saturday     -0.000000\n",
       "9       Day_of_week_Monday     -0.020366\n",
       "8       Day_of_week_Friday     -0.022734\n",
       "12    Day_of_week_Thursday     -0.043580\n",
       "5                      NSM     -0.077550\n",
       "16  Load_Type_Maximum_Load     -0.086301\n",
       "15    Load_Type_Light_Load     -0.778237"
      ]
     },
     "execution_count": 139,
     "metadata": {},
     "output_type": "execute_result"
    }
   ],
   "source": [
    "# Extract L1 coefficients\n",
    "l_lr_feature = pd.DataFrame(zip(X.columns, l_lr.coef_), columns=['Features','Coefficients']).sort_values(by=['Coefficients'],ascending=False)\n",
    "print(l_lr_feature)"
   ]
  },
  {
   "cell_type": "code",
   "execution_count": 151,
   "id": "de2e4532",
   "metadata": {},
   "outputs": [
    {
     "name": "stdout",
     "output_type": "stream",
     "text": [
      "###########################\n",
      " Adjusted R^2 for L1 model \n",
      "##########################\n",
      "0.9787605718210051\n"
     ]
    }
   ],
   "source": [
    "print('###########################\\n Adjusted R^2 for L1 model \\n##########################')\n",
    "print(adj_r2(X_train, y_train, l_lr))"
   ]
  },
  {
   "cell_type": "markdown",
   "id": "c2cce91d",
   "metadata": {},
   "source": [
    "## Elastic Net (EN) Regression"
   ]
  },
  {
   "cell_type": "code",
   "execution_count": 142,
   "id": "596e4765",
   "metadata": {},
   "outputs": [
    {
     "name": "stderr",
     "output_type": "stream",
     "text": [
      "C:\\Users\\obinna.izima\\AppData\\Local\\Continuum\\anaconda3\\envs\\luchy_ml\\lib\\site-packages\\sklearn\\linear_model\\_coordinate_descent.py:527: ConvergenceWarning:\n",
      "\n",
      "Objective did not converge. You might want to increase the number of iterations. Duality gap: 2841.986556197109, tolerance: 2200.1843814354115\n",
      "\n",
      "C:\\Users\\obinna.izima\\AppData\\Local\\Continuum\\anaconda3\\envs\\luchy_ml\\lib\\site-packages\\sklearn\\linear_model\\_coordinate_descent.py:527: ConvergenceWarning:\n",
      "\n",
      "Objective did not converge. You might want to increase the number of iterations. Duality gap: 2691.427248734457, tolerance: 2206.290187768221\n",
      "\n",
      "C:\\Users\\obinna.izima\\AppData\\Local\\Continuum\\anaconda3\\envs\\luchy_ml\\lib\\site-packages\\sklearn\\linear_model\\_coordinate_descent.py:527: ConvergenceWarning:\n",
      "\n",
      "Objective did not converge. You might want to increase the number of iterations. Duality gap: 2803.5819958222564, tolerance: 2186.256904741246\n",
      "\n",
      "C:\\Users\\obinna.izima\\AppData\\Local\\Continuum\\anaconda3\\envs\\luchy_ml\\lib\\site-packages\\sklearn\\linear_model\\_coordinate_descent.py:527: ConvergenceWarning:\n",
      "\n",
      "Objective did not converge. You might want to increase the number of iterations. Duality gap: 2818.287186774891, tolerance: 2189.3214009819276\n",
      "\n",
      "C:\\Users\\obinna.izima\\AppData\\Local\\Continuum\\anaconda3\\envs\\luchy_ml\\lib\\site-packages\\sklearn\\linear_model\\_coordinate_descent.py:527: ConvergenceWarning:\n",
      "\n",
      "Objective did not converge. You might want to increase the number of iterations. Duality gap: 2683.4780171369785, tolerance: 2174.806648408079\n",
      "\n"
     ]
    },
    {
     "name": "stdout",
     "output_type": "stream",
     "text": [
      "Wall time: 832 ms\n"
     ]
    },
    {
     "data": {
      "text/plain": [
       "ElasticNetCV(alphas=[0.001, 0.0015, 0.01, 0.015, 0.1, 1, 10, 100], cv=5,\n",
       "             l1_ratio=[0.1, 0.3, 0.5, 0.7, 0.9, 1], random_state=0)"
      ]
     },
     "execution_count": 142,
     "metadata": {},
     "output_type": "execute_result"
    }
   ],
   "source": [
    "%%time\n",
    "el_lr = ElasticNetCV(alphas=[.001, .0015, .01, .015, .1, 1, 10, 100],\n",
    "                     l1_ratio=[.1, .3, .5, .7, .9, 1],\n",
    "                     random_state=0, cv=5)\n",
    "el_lr.fit(X_train, y_train)"
   ]
  },
  {
   "cell_type": "code",
   "execution_count": 145,
   "id": "02e3c7d5",
   "metadata": {},
   "outputs": [],
   "source": [
    "#Prediction\n",
    "el_lr_pred = el_lr.predict(X_test)\n",
    "el_lr_pred_train = el_lr.predict(X_train)"
   ]
  },
  {
   "cell_type": "code",
   "execution_count": 146,
   "id": "96c7da45",
   "metadata": {},
   "outputs": [
    {
     "name": "stdout",
     "output_type": "stream",
     "text": [
      "Metrics for testing data:\n",
      "\n",
      "MAE: 2.5626491642562863\n",
      "MSE: 17.829158821832394\n",
      "R2: 0.984114910127143\n",
      "\n",
      "Metrics for training data:\n",
      "\n",
      "MAE: 2.6313999809345567\n",
      "MSE: 23.7046921717884\n",
      "R2: 0.9787742036519437\n",
      "\n"
     ]
    }
   ],
   "source": [
    "print('Metrics for testing data:\\n')\n",
    "print_metrics(y_test, el_lr_pred)\n",
    "print('Metrics for training data:\\n')\n",
    "print_metrics(y_train, el_lr_pred_train)"
   ]
  },
  {
   "cell_type": "code",
   "execution_count": 148,
   "id": "583ec48d",
   "metadata": {},
   "outputs": [],
   "source": [
    "el_lr_mae, el_lr_mse, el_lr_r2 = save_metrics(y_test, el_lr_pred)"
   ]
  },
  {
   "cell_type": "code",
   "execution_count": 149,
   "id": "8a6b28bc",
   "metadata": {},
   "outputs": [
    {
     "data": {
      "text/html": [
       "<div>\n",
       "<style scoped>\n",
       "    .dataframe tbody tr th:only-of-type {\n",
       "        vertical-align: middle;\n",
       "    }\n",
       "\n",
       "    .dataframe tbody tr th {\n",
       "        vertical-align: top;\n",
       "    }\n",
       "\n",
       "    .dataframe thead th {\n",
       "        text-align: right;\n",
       "    }\n",
       "</style>\n",
       "<table border=\"1\" class=\"dataframe\">\n",
       "  <thead>\n",
       "    <tr style=\"text-align: right;\">\n",
       "      <th></th>\n",
       "      <th>Features</th>\n",
       "      <th>Coefficients</th>\n",
       "    </tr>\n",
       "  </thead>\n",
       "  <tbody>\n",
       "    <tr>\n",
       "      <th>2</th>\n",
       "      <td>CO2</td>\n",
       "      <td>26.135132</td>\n",
       "    </tr>\n",
       "    <tr>\n",
       "      <th>0</th>\n",
       "      <td>Lag_RP</td>\n",
       "      <td>5.656583</td>\n",
       "    </tr>\n",
       "    <tr>\n",
       "      <th>3</th>\n",
       "      <td>Lag_PF</td>\n",
       "      <td>2.443392</td>\n",
       "    </tr>\n",
       "    <tr>\n",
       "      <th>4</th>\n",
       "      <td>Lead_PF</td>\n",
       "      <td>1.916427</td>\n",
       "    </tr>\n",
       "    <tr>\n",
       "      <th>1</th>\n",
       "      <td>Lead_RP</td>\n",
       "      <td>0.488498</td>\n",
       "    </tr>\n",
       "    <tr>\n",
       "      <th>13</th>\n",
       "      <td>Day_of_week_Tuesday</td>\n",
       "      <td>0.225100</td>\n",
       "    </tr>\n",
       "    <tr>\n",
       "      <th>17</th>\n",
       "      <td>Load_Type_Medium_Load</td>\n",
       "      <td>0.217589</td>\n",
       "    </tr>\n",
       "    <tr>\n",
       "      <th>11</th>\n",
       "      <td>Day_of_week_Sunday</td>\n",
       "      <td>0.082139</td>\n",
       "    </tr>\n",
       "    <tr>\n",
       "      <th>7</th>\n",
       "      <td>WeekStatus_Weekend</td>\n",
       "      <td>0.007362</td>\n",
       "    </tr>\n",
       "    <tr>\n",
       "      <th>14</th>\n",
       "      <td>Day_of_week_Wednesday</td>\n",
       "      <td>0.000000</td>\n",
       "    </tr>\n",
       "    <tr>\n",
       "      <th>6</th>\n",
       "      <td>WeekStatus_Weekday</td>\n",
       "      <td>-0.015646</td>\n",
       "    </tr>\n",
       "    <tr>\n",
       "      <th>10</th>\n",
       "      <td>Day_of_week_Saturday</td>\n",
       "      <td>-0.023079</td>\n",
       "    </tr>\n",
       "    <tr>\n",
       "      <th>9</th>\n",
       "      <td>Day_of_week_Monday</td>\n",
       "      <td>-0.027820</td>\n",
       "    </tr>\n",
       "    <tr>\n",
       "      <th>8</th>\n",
       "      <td>Day_of_week_Friday</td>\n",
       "      <td>-0.030286</td>\n",
       "    </tr>\n",
       "    <tr>\n",
       "      <th>16</th>\n",
       "      <td>Load_Type_Maximum_Load</td>\n",
       "      <td>-0.031907</td>\n",
       "    </tr>\n",
       "    <tr>\n",
       "      <th>12</th>\n",
       "      <td>Day_of_week_Thursday</td>\n",
       "      <td>-0.050930</td>\n",
       "    </tr>\n",
       "    <tr>\n",
       "      <th>5</th>\n",
       "      <td>NSM</td>\n",
       "      <td>-0.077694</td>\n",
       "    </tr>\n",
       "    <tr>\n",
       "      <th>15</th>\n",
       "      <td>Load_Type_Light_Load</td>\n",
       "      <td>-0.731352</td>\n",
       "    </tr>\n",
       "  </tbody>\n",
       "</table>\n",
       "</div>"
      ],
      "text/plain": [
       "                  Features  Coefficients\n",
       "2                      CO2     26.135132\n",
       "0                   Lag_RP      5.656583\n",
       "3                   Lag_PF      2.443392\n",
       "4                  Lead_PF      1.916427\n",
       "1                  Lead_RP      0.488498\n",
       "13     Day_of_week_Tuesday      0.225100\n",
       "17   Load_Type_Medium_Load      0.217589\n",
       "11      Day_of_week_Sunday      0.082139\n",
       "7       WeekStatus_Weekend      0.007362\n",
       "14   Day_of_week_Wednesday      0.000000\n",
       "6       WeekStatus_Weekday     -0.015646\n",
       "10    Day_of_week_Saturday     -0.023079\n",
       "9       Day_of_week_Monday     -0.027820\n",
       "8       Day_of_week_Friday     -0.030286\n",
       "16  Load_Type_Maximum_Load     -0.031907\n",
       "12    Day_of_week_Thursday     -0.050930\n",
       "5                      NSM     -0.077694\n",
       "15    Load_Type_Light_Load     -0.731352"
      ]
     },
     "execution_count": 149,
     "metadata": {},
     "output_type": "execute_result"
    }
   ],
   "source": [
    "# Extract EN coefficients\n",
    "el_lr_feature = pd.DataFrame(zip(X.columns, el_lr.coef_), columns=['Features','Coefficients']).sort_values(by=['Coefficients'],ascending=False)\n",
    "print(el_lr_feature)"
   ]
  },
  {
   "cell_type": "code",
   "execution_count": 152,
   "id": "1cdcc0c0",
   "metadata": {},
   "outputs": [
    {
     "name": "stdout",
     "output_type": "stream",
     "text": [
      "###########################\n",
      " Adjusted R^2 for EN model \n",
      "##########################\n",
      "0.9787586149157951\n"
     ]
    }
   ],
   "source": [
    "print('###########################\\n Adjusted R^2 for EN model \\n##########################')\n",
    "print(adj_r2(X_train, y_train, el_lr))"
   ]
  },
  {
   "cell_type": "markdown",
   "id": "5b2e8cf0",
   "metadata": {},
   "source": [
    "## Random Forest Regressor"
   ]
  },
  {
   "cell_type": "code",
   "execution_count": 155,
   "id": "47bbbf10",
   "metadata": {},
   "outputs": [
    {
     "data": {
      "text/plain": [
       "GridSearchCV(cv=5,\n",
       "             estimator=RandomForestRegressor(max_features='sqrt',\n",
       "                                             random_state=1),\n",
       "             param_grid={'n_estimators': [10, 20, 30, 40, 50, 100]},\n",
       "             scoring='r2')"
      ]
     },
     "execution_count": 155,
     "metadata": {},
     "output_type": "execute_result"
    }
   ],
   "source": [
    "# Implementing Random Forest Regression\n",
    "# Tuning the random forest parameter 'n_estimators' and implementing cross-validation using Grid Search\n",
    "rfr = RandomForestRegressor(criterion='mse', max_features='sqrt', random_state=1)\n",
    "grid_param = {'n_estimators': [10,20,30,40,50,100]}\n",
    "\n",
    "gd_rfr = GridSearchCV(estimator=rfr, param_grid=grid_param, scoring='r2', cv=5)\n",
    "\n",
    "gd_rfr.fit(X_train, y_train)"
   ]
  },
  {
   "cell_type": "code",
   "execution_count": 156,
   "id": "7477b005",
   "metadata": {},
   "outputs": [
    {
     "name": "stdout",
     "output_type": "stream",
     "text": [
      "Best parameters:  {'n_estimators': 100}\n",
      "r2:  0.9957598268455534\n"
     ]
    }
   ],
   "source": [
    "best_parameters_rfr = gd_rfr.best_params_\n",
    "print(\"Best parameters: \", best_parameters_rfr)\n",
    "\n",
    "best_result_rfr = gd_rfr.best_score_ # Mean cross-validated score of the best_estimator\n",
    "print(\"r2: \", best_result_rfr)"
   ]
  },
  {
   "cell_type": "code",
   "execution_count": 157,
   "id": "21d75a45",
   "metadata": {},
   "outputs": [],
   "source": [
    "#Prediction\n",
    "rfr_pred = gd_rfr.predict(X_test)\n",
    "rfr_pred_train = gd_rfr.predict(X_train)"
   ]
  },
  {
   "cell_type": "code",
   "execution_count": 158,
   "id": "2d1e37e2",
   "metadata": {},
   "outputs": [
    {
     "name": "stdout",
     "output_type": "stream",
     "text": [
      "Metrics for testing data:\n",
      "\n",
      "MAE: 1.0152813926940638\n",
      "MSE: 3.994390888422754\n",
      "R2: 0.9964411524467314\n",
      "\n",
      "Metrics for training data:\n",
      "\n",
      "MAE: 0.3874496045335935\n",
      "MSE: 0.6069885753640706\n",
      "R2: 0.9994564866823452\n",
      "\n"
     ]
    }
   ],
   "source": [
    "print('Metrics for testing data:\\n')\n",
    "print_metrics(y_test, rfr_pred)\n",
    "print('Metrics for training data:\\n')\n",
    "print_metrics(y_train, rfr_pred_train)"
   ]
  },
  {
   "cell_type": "code",
   "execution_count": 160,
   "id": "55a7461c",
   "metadata": {},
   "outputs": [
    {
     "name": "stdout",
     "output_type": "stream",
     "text": [
      "CO2                       0.410216\n",
      "Lag_RP                    0.257805\n",
      "Lag_PF                    0.099493\n",
      "Load_Type_Light_Load      0.059749\n",
      "Lead_PF                   0.054947\n",
      "NSM                       0.042389\n",
      "Load_Type_Maximum_Load    0.027520\n",
      "Lead_RP                   0.026419\n",
      "WeekStatus_Weekday        0.007609\n",
      "WeekStatus_Weekend        0.005095\n",
      "Load_Type_Medium_Load     0.004928\n",
      "Day_of_week_Sunday        0.001721\n",
      "Day_of_week_Saturday      0.000655\n",
      "Day_of_week_Tuesday       0.000497\n",
      "Day_of_week_Monday        0.000266\n",
      "Day_of_week_Thursday      0.000255\n",
      "Day_of_week_Wednesday     0.000220\n",
      "Day_of_week_Friday        0.000217\n",
      "dtype: float64\n"
     ]
    }
   ],
   "source": [
    "featimp = pd.Series(gd_rfr.best_estimator_.feature_importances_, index=list(X)).sort_values(ascending=False) # Getting feature importances list for the best model\n",
    "print(featimp)"
   ]
  },
  {
   "cell_type": "code",
   "execution_count": 161,
   "id": "9ca19a6e",
   "metadata": {},
   "outputs": [
    {
     "data": {
      "text/html": [
       "<div>\n",
       "<style scoped>\n",
       "    .dataframe tbody tr th:only-of-type {\n",
       "        vertical-align: middle;\n",
       "    }\n",
       "\n",
       "    .dataframe tbody tr th {\n",
       "        vertical-align: top;\n",
       "    }\n",
       "\n",
       "    .dataframe thead th {\n",
       "        text-align: right;\n",
       "    }\n",
       "</style>\n",
       "<table border=\"1\" class=\"dataframe\">\n",
       "  <thead>\n",
       "    <tr style=\"text-align: right;\">\n",
       "      <th></th>\n",
       "      <th>Features</th>\n",
       "      <th>Coefficients</th>\n",
       "    </tr>\n",
       "  </thead>\n",
       "  <tbody>\n",
       "    <tr>\n",
       "      <th>2</th>\n",
       "      <td>CO2</td>\n",
       "      <td>0.410216</td>\n",
       "    </tr>\n",
       "    <tr>\n",
       "      <th>0</th>\n",
       "      <td>Lag_RP</td>\n",
       "      <td>0.257805</td>\n",
       "    </tr>\n",
       "    <tr>\n",
       "      <th>3</th>\n",
       "      <td>Lag_PF</td>\n",
       "      <td>0.099493</td>\n",
       "    </tr>\n",
       "    <tr>\n",
       "      <th>15</th>\n",
       "      <td>Load_Type_Light_Load</td>\n",
       "      <td>0.059749</td>\n",
       "    </tr>\n",
       "    <tr>\n",
       "      <th>4</th>\n",
       "      <td>Lead_PF</td>\n",
       "      <td>0.054947</td>\n",
       "    </tr>\n",
       "    <tr>\n",
       "      <th>5</th>\n",
       "      <td>NSM</td>\n",
       "      <td>0.042389</td>\n",
       "    </tr>\n",
       "    <tr>\n",
       "      <th>16</th>\n",
       "      <td>Load_Type_Maximum_Load</td>\n",
       "      <td>0.027520</td>\n",
       "    </tr>\n",
       "    <tr>\n",
       "      <th>1</th>\n",
       "      <td>Lead_RP</td>\n",
       "      <td>0.026419</td>\n",
       "    </tr>\n",
       "    <tr>\n",
       "      <th>6</th>\n",
       "      <td>WeekStatus_Weekday</td>\n",
       "      <td>0.007609</td>\n",
       "    </tr>\n",
       "    <tr>\n",
       "      <th>7</th>\n",
       "      <td>WeekStatus_Weekend</td>\n",
       "      <td>0.005095</td>\n",
       "    </tr>\n",
       "    <tr>\n",
       "      <th>17</th>\n",
       "      <td>Load_Type_Medium_Load</td>\n",
       "      <td>0.004928</td>\n",
       "    </tr>\n",
       "    <tr>\n",
       "      <th>11</th>\n",
       "      <td>Day_of_week_Sunday</td>\n",
       "      <td>0.001721</td>\n",
       "    </tr>\n",
       "    <tr>\n",
       "      <th>10</th>\n",
       "      <td>Day_of_week_Saturday</td>\n",
       "      <td>0.000655</td>\n",
       "    </tr>\n",
       "    <tr>\n",
       "      <th>13</th>\n",
       "      <td>Day_of_week_Tuesday</td>\n",
       "      <td>0.000497</td>\n",
       "    </tr>\n",
       "    <tr>\n",
       "      <th>9</th>\n",
       "      <td>Day_of_week_Monday</td>\n",
       "      <td>0.000266</td>\n",
       "    </tr>\n",
       "    <tr>\n",
       "      <th>12</th>\n",
       "      <td>Day_of_week_Thursday</td>\n",
       "      <td>0.000255</td>\n",
       "    </tr>\n",
       "    <tr>\n",
       "      <th>14</th>\n",
       "      <td>Day_of_week_Wednesday</td>\n",
       "      <td>0.000220</td>\n",
       "    </tr>\n",
       "    <tr>\n",
       "      <th>8</th>\n",
       "      <td>Day_of_week_Friday</td>\n",
       "      <td>0.000217</td>\n",
       "    </tr>\n",
       "  </tbody>\n",
       "</table>\n",
       "</div>"
      ],
      "text/plain": [
       "                  Features  Coefficients\n",
       "2                      CO2      0.410216\n",
       "0                   Lag_RP      0.257805\n",
       "3                   Lag_PF      0.099493\n",
       "15    Load_Type_Light_Load      0.059749\n",
       "4                  Lead_PF      0.054947\n",
       "5                      NSM      0.042389\n",
       "16  Load_Type_Maximum_Load      0.027520\n",
       "1                  Lead_RP      0.026419\n",
       "6       WeekStatus_Weekday      0.007609\n",
       "7       WeekStatus_Weekend      0.005095\n",
       "17   Load_Type_Medium_Load      0.004928\n",
       "11      Day_of_week_Sunday      0.001721\n",
       "10    Day_of_week_Saturday      0.000655\n",
       "13     Day_of_week_Tuesday      0.000497\n",
       "9       Day_of_week_Monday      0.000266\n",
       "12    Day_of_week_Thursday      0.000255\n",
       "14   Day_of_week_Wednesday      0.000220\n",
       "8       Day_of_week_Friday      0.000217"
      ]
     },
     "execution_count": 161,
     "metadata": {},
     "output_type": "execute_result"
    }
   ],
   "source": [
    "# Extract EN coefficients\n",
    "rfr_feature = pd.DataFrame(zip(X.columns, gd_rfr.best_estimator_.feature_importances_,), \n",
    "                             columns=['Features','Coefficients']).sort_values(by=['Coefficients'],ascending=False)\n",
    "rfr_feature"
   ]
  },
  {
   "cell_type": "code",
   "execution_count": 162,
   "id": "b72e0f12",
   "metadata": {},
   "outputs": [],
   "source": [
    "#saving RFR metrics\n",
    "rfr_mae, rfr_mse, rfr_r2 = save_metrics(y_test, rfr_pred)"
   ]
  },
  {
   "cell_type": "code",
   "execution_count": 191,
   "id": "283b5c1c",
   "metadata": {},
   "outputs": [],
   "source": [
    "algoritm = ['Linear Regression','SGD Regression', 'SGD Regression with EN penalty','SVR Baseline', 'SVR with Regularization',\n",
    "            'Ridge Regression','Lasso Regression', 'Elastic Net', 'Random Forest Regression']\n",
    "result = {'MAE':[lr_mae, sgd_mae, sgd_en_mae, svr_mae, svr_reg_mae, r_lr_mae, l_lr_mae, el_lr_mae, rfr_mae],\n",
    "         'MSE':[lr_mse, sgd_mse, sgd_en_mse, svr_mse, svr_reg_mse, r_lr_mse, l_lr_mse, el_lr_mse, rfr_mse],\n",
    "         'R2':[lr_r2, sgd_r2, sgd_en_r2, svr_r2, svr_reg_r2, r_lr_r2, l_lr_r2, el_lr_r2, rfr_r2]\n",
    "         }"
   ]
  },
  {
   "cell_type": "code",
   "execution_count": 192,
   "id": "ae037e1a",
   "metadata": {
    "scrolled": true
   },
   "outputs": [
    {
     "data": {
      "text/html": [
       "<div>\n",
       "<style scoped>\n",
       "    .dataframe tbody tr th:only-of-type {\n",
       "        vertical-align: middle;\n",
       "    }\n",
       "\n",
       "    .dataframe tbody tr th {\n",
       "        vertical-align: top;\n",
       "    }\n",
       "\n",
       "    .dataframe thead th {\n",
       "        text-align: right;\n",
       "    }\n",
       "</style>\n",
       "<table border=\"1\" class=\"dataframe\">\n",
       "  <thead>\n",
       "    <tr style=\"text-align: right;\">\n",
       "      <th></th>\n",
       "      <th>MAE</th>\n",
       "      <th>MSE</th>\n",
       "      <th>R2</th>\n",
       "    </tr>\n",
       "  </thead>\n",
       "  <tbody>\n",
       "    <tr>\n",
       "      <th>Linear Regression</th>\n",
       "      <td>2.553545</td>\n",
       "      <td>17.774194</td>\n",
       "      <td>0.984164</td>\n",
       "    </tr>\n",
       "    <tr>\n",
       "      <th>SGD Regression</th>\n",
       "      <td>2.568298</td>\n",
       "      <td>17.867094</td>\n",
       "      <td>0.984081</td>\n",
       "    </tr>\n",
       "    <tr>\n",
       "      <th>SGD Regression with EN penalty</th>\n",
       "      <td>2.541696</td>\n",
       "      <td>17.791191</td>\n",
       "      <td>0.984149</td>\n",
       "    </tr>\n",
       "    <tr>\n",
       "      <th>SVR Baseline</th>\n",
       "      <td>1.847313</td>\n",
       "      <td>12.784172</td>\n",
       "      <td>0.988610</td>\n",
       "    </tr>\n",
       "    <tr>\n",
       "      <th>SVR with Regularization</th>\n",
       "      <td>55.375447</td>\n",
       "      <td>3717.671790</td>\n",
       "      <td>-2.312302</td>\n",
       "    </tr>\n",
       "    <tr>\n",
       "      <th>Ridge Regression</th>\n",
       "      <td>2.558148</td>\n",
       "      <td>17.804217</td>\n",
       "      <td>0.984137</td>\n",
       "    </tr>\n",
       "    <tr>\n",
       "      <th>Lasso Regression</th>\n",
       "      <td>2.551680</td>\n",
       "      <td>17.766536</td>\n",
       "      <td>0.984171</td>\n",
       "    </tr>\n",
       "    <tr>\n",
       "      <th>Elastic Net</th>\n",
       "      <td>2.562649</td>\n",
       "      <td>17.829159</td>\n",
       "      <td>0.984115</td>\n",
       "    </tr>\n",
       "    <tr>\n",
       "      <th>Random Forest Regression</th>\n",
       "      <td>1.015281</td>\n",
       "      <td>3.994391</td>\n",
       "      <td>0.996441</td>\n",
       "    </tr>\n",
       "  </tbody>\n",
       "</table>\n",
       "</div>"
      ],
      "text/plain": [
       "                                      MAE          MSE        R2\n",
       "Linear Regression                2.553545    17.774194  0.984164\n",
       "SGD Regression                   2.568298    17.867094  0.984081\n",
       "SGD Regression with EN penalty   2.541696    17.791191  0.984149\n",
       "SVR Baseline                     1.847313    12.784172  0.988610\n",
       "SVR with Regularization         55.375447  3717.671790 -2.312302\n",
       "Ridge Regression                 2.558148    17.804217  0.984137\n",
       "Lasso Regression                 2.551680    17.766536  0.984171\n",
       "Elastic Net                      2.562649    17.829159  0.984115\n",
       "Random Forest Regression         1.015281     3.994391  0.996441"
      ]
     },
     "execution_count": 192,
     "metadata": {},
     "output_type": "execute_result"
    }
   ],
   "source": [
    "Result = pd.DataFrame(result, index=algoritm)\n",
    "#Result"
   ]
  },
  {
   "cell_type": "code",
   "execution_count": 193,
   "id": "7124a950",
   "metadata": {},
   "outputs": [
    {
     "name": "stdout",
     "output_type": "stream",
     "text": [
      "                                      MAE          MSE        R2\n",
      "Linear Regression                2.553545    17.774194  0.984164\n",
      "SGD Regression                   2.568298    17.867094  0.984081\n",
      "SGD Regression with EN penalty   2.541696    17.791191  0.984149\n",
      "SVR Baseline                     1.847313    12.784172  0.988610\n",
      "SVR with Regularization         55.375447  3717.671790 -2.312302\n",
      "Ridge Regression                 2.558148    17.804217  0.984137\n",
      "Lasso Regression                 2.551680    17.766536  0.984171\n",
      "Elastic Net                      2.562649    17.829159  0.984115\n",
      "Random Forest Regression         1.015281     3.994391  0.996441\n"
     ]
    }
   ],
   "source": [
    "print(Result)"
   ]
  },
  {
   "cell_type": "markdown",
   "id": "bb730f79",
   "metadata": {},
   "source": [
    "## END"
   ]
  },
  {
   "cell_type": "code",
   "execution_count": null,
   "id": "0067ef33",
   "metadata": {},
   "outputs": [],
   "source": [
    ", el_lr_mse, el_lr_r2"
   ]
  }
 ],
 "metadata": {
  "kernelspec": {
   "display_name": "Python 3 (ipykernel)",
   "language": "python",
   "name": "python3"
  },
  "language_info": {
   "codemirror_mode": {
    "name": "ipython",
    "version": 3
   },
   "file_extension": ".py",
   "mimetype": "text/x-python",
   "name": "python",
   "nbconvert_exporter": "python",
   "pygments_lexer": "ipython3",
   "version": "3.7.6"
  }
 },
 "nbformat": 4,
 "nbformat_minor": 5
}
